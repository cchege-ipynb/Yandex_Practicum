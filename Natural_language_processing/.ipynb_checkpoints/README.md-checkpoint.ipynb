{
 "cells": [
  {
   "cell_type": "markdown",
   "metadata": {},
   "source": [
    "## To train a model to automatically detect negative reviews for classic movie enthusiasts"
   ]
  },
  {
   "cell_type": "markdown",
   "metadata": {},
   "source": [
    "**This project shows:**\n",
    "- ability to loaded and pre-processed text data for vectorization.\n",
    "- ability to transform text data to vectors.\n",
    "- ability to defined, trained, and tested models\n",
    "- ability to reach metric threshold\n",
    "- ability to arrange the code cells in the order of their execution.\n",
    "- ability to execute the code cells without errors.\n",
    "- ability to avoid code duplication\n",
    "- ability to make conclusions."
   ]
  },
  {
   "cell_type": "markdown",
   "metadata": {},
   "source": [
    "**The project involves:**\n",
    "- Loading  the data.\n",
    "- Preprocessing the data.\n",
    "- Conducting an EDA and making conclusion on the class imbalance.\n",
    "- Preprocessing the data for modeling.\n",
    "- Training at least three different models for the given train dataset.\n",
    "- Testing the models for the given test dataset.\n",
    "- Composing own reviews and classifying them with all the models.\n",
    "- Checking for differences between the testing results of models in the above two points.\n",
    "- Presenting the findings."
   ]
  },
  {
   "cell_type": "markdown",
   "metadata": {},
   "source": [
    "## Data Description\n",
    "- *review:* the review text\n",
    "- *pos:* the target, '0' for negative and '1' for positive\n",
    "- *ds_part:* 'train'/'test' for the train/test part of dataset, correspondingly"
   ]
  },
  {
   "cell_type": "markdown",
   "metadata": {},
   "source": [
    "## Task\n",
    "The Film Junky Union, a new edgy community for classic movie enthusiasts, is developing a system for filtering and categorizing movie reviews. The goal is to train a model to automatically detect negative reviews. We'll be using a dataset of IMBD movie reviews with polarity labelling to build a model for classifying positive and negative reviews. It will need to reach an F1 score of at least 0.85."
   ]
  },
  {
   "cell_type": "markdown",
   "metadata": {},
   "source": [
    "## Libraries Used\n",
    "_pandas, numpy, matplotlib, spacy, seaborn, tqdm, sklearn.linear_model, TfidfVectorizer, sklearn.model_selection, sklearn.metricssklearn.metrics, nltk.corpus_"
   ]
  }
 ],
 "metadata": {
  "kernelspec": {
   "display_name": "Python 3",
   "language": "python",
   "name": "python3"
  },
  "language_info": {
   "codemirror_mode": {
    "name": "ipython",
    "version": 3
   },
   "file_extension": ".py",
   "mimetype": "text/x-python",
   "name": "python",
   "nbconvert_exporter": "python",
   "pygments_lexer": "ipython3",
   "version": "3.8.5"
  }
 },
 "nbformat": 4,
 "nbformat_minor": 4
}
