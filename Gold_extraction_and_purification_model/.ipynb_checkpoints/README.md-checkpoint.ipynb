{
 "cells": [
  {
   "cell_type": "markdown",
   "metadata": {},
   "source": [
    "## Building a Gold Extraction and Purification Model"
   ]
  },
  {
   "cell_type": "code",
   "execution_count": null,
   "metadata": {},
   "outputs": [],
   "source": [
    "**This project shows;**\n",
    "- ability to prepare and analyze the data\n",
    "- ability to develop ML models\n",
    "- ability to check the model‘s quality\n",
    "- ability to keep to the project structure and explain the steps performed\n",
    "- ability to explain findings\n",
    "- ability to keep the code neat and avoided code duplication"
   ]
  },
  {
   "cell_type": "markdown",
   "metadata": {},
   "source": [
    "**The project involves:**\\\n",
    "***Preparing the data***\n",
    "- Checking that recovery is calculated correctly. Using the training set, calculate recovery for the rougher.output.recovery feature. Find the MAE between the calculations and the feature values. Providing findings.\n",
    "- Analyzing the features not available in the test set i.e their parameters and their type\n",
    "- Perform data preprocessing.\n",
    "\n",
    "***Analyze the data***\n",
    "- Taking note of how the concentrations of metals (Au, Ag, Pb) change depending on the purification stage.\n",
    "- Compare the feed particle size distributions in the training set and in the test set. If the distributions vary significantly, the model evaluation will be incorrect.\n",
    "- Consider the total concentrations of all substances at different stages: raw feed, rougher concentrate, and final concentrate. Taking note of any abnormal values in the total distribution. If present, is it worth removing such values from both samples. Describe the findings with and without eliminate anomalies.\n",
    "\n",
    "***Build the model***\n",
    "- Writing a function to calculate the final sMAPE value.\n",
    "- Training different models while evaluating them using cross-validation. \n",
    "- Picking the best model and test it using the test sample Providing findings."
   ]
  },
  {
   "cell_type": "markdown",
   "metadata": {},
   "source": [
    "## Data Decription\n",
    "*date,* \\\n",
    "*primary_cleaner.input.sulfate,* \\\n",
    "*primary_cleaner.input.depressant,* \\\n",
    "*primary_cleaner.input.feed_size,* \\\n",
    "*primary_cleaner.input.xanthate,* \\\n",
    "*primary_cleaner.state.floatbank8_a_air,* \\\n",
    "*primary_cleaner.state.floatbank8_a_level,* \\\n",
    "*primary_cleaner.state.floatbank8_b_air,* \\\n",
    "*primary_cleaner.state.floatbank8_b_level,* \\\n",
    "*primary_cleaner.state.floatbank8_c_air,* \\\n",
    "*secondary_cleaner.state.floatbank4_a_air,* \\\n",
    "*secondary_cleaner.state.floatbank4_a_level,* \\\n",
    "*secondary_cleaner.state.floatbank4_b_air,* \\\n",
    "*secondary_cleaner.state.floatbank4_b_level,* \\\n",
    "*secondary_cleaner.state.floatbank5_a_air,* \\\n",
    "*secondary_cleaner.state.floatbank5_a_level,* \\\n",
    "*secondary_cleaner.state.floatbank5_b_air,* \\\n",
    "*secondary_cleaner.state.floatbank5_b_level,* \\\n",
    "*secondary_cleaner.state.floatbank6_a_air,* \\\n",
    "*secondary_cleaner.state.floatbank6_a_level*"
   ]
  },
  {
   "cell_type": "markdown",
   "metadata": {},
   "source": [
    "## Task\n",
    "To prepare a prototype of a machine learning model for Zyfra. This is a company that develops efficiency solutions for heavy industry.\n",
    "The model should predict the amount of gold recovered from gold ore using the data on extraction and purification provided.\n",
    "It should also assist in optimizing the production and elimination of unprofitable parameters."
   ]
  },
  {
   "cell_type": "markdown",
   "metadata": {},
   "source": [
    "## Libraries Used\n",
    "_pandas, numpy, matplotlib, scipy, sklearn.model_selection, sklearn.linear_model, sklearn.tree, sklearn.ensemble, sklearn.metrics_"
   ]
  }
 ],
 "metadata": {
  "kernelspec": {
   "display_name": "Python 3",
   "language": "python",
   "name": "python3"
  },
  "language_info": {
   "codemirror_mode": {
    "name": "ipython",
    "version": 3
   },
   "file_extension": ".py",
   "mimetype": "text/x-python",
   "name": "python",
   "nbconvert_exporter": "python",
   "pygments_lexer": "ipython3",
   "version": "3.8.5"
  }
 },
 "nbformat": 4,
 "nbformat_minor": 4
}
