{
 "cells": [
  {
   "cell_type": "markdown",
   "metadata": {},
   "source": [
    "As an analyst in a vehicle dealer company, hundreds of free advertisements for vehicles are published every day. There is need to study data collected over the last few years and determine which factors influence the price of a vehicle."
   ]
  },
  {
   "cell_type": "code",
   "execution_count": 1,
   "metadata": {},
   "outputs": [
    {
     "name": "stdout",
     "output_type": "stream",
     "text": [
      "<class 'pandas.core.frame.DataFrame'>\n",
      "RangeIndex: 51525 entries, 0 to 51524\n",
      "Data columns (total 13 columns):\n",
      "price           51525 non-null int64\n",
      "model_year      47906 non-null float64\n",
      "model           51525 non-null object\n",
      "condition       51525 non-null object\n",
      "cylinders       46265 non-null float64\n",
      "fuel            51525 non-null object\n",
      "odometer        43633 non-null float64\n",
      "transmission    51525 non-null object\n",
      "type            51525 non-null object\n",
      "paint_color     42258 non-null object\n",
      "is_4wd          25572 non-null float64\n",
      "date_posted     51525 non-null object\n",
      "days_listed     51525 non-null int64\n",
      "dtypes: float64(4), int64(2), object(7)\n",
      "memory usage: 5.1+ MB\n",
      "None\n"
     ]
    },
    {
     "data": {
      "text/html": [
       "<div>\n",
       "<style scoped>\n",
       "    .dataframe tbody tr th:only-of-type {\n",
       "        vertical-align: middle;\n",
       "    }\n",
       "\n",
       "    .dataframe tbody tr th {\n",
       "        vertical-align: top;\n",
       "    }\n",
       "\n",
       "    .dataframe thead th {\n",
       "        text-align: right;\n",
       "    }\n",
       "</style>\n",
       "<table border=\"1\" class=\"dataframe\">\n",
       "  <thead>\n",
       "    <tr style=\"text-align: right;\">\n",
       "      <th></th>\n",
       "      <th>price</th>\n",
       "      <th>model_year</th>\n",
       "      <th>model</th>\n",
       "      <th>condition</th>\n",
       "      <th>cylinders</th>\n",
       "      <th>fuel</th>\n",
       "      <th>odometer</th>\n",
       "      <th>transmission</th>\n",
       "      <th>type</th>\n",
       "      <th>paint_color</th>\n",
       "      <th>is_4wd</th>\n",
       "      <th>date_posted</th>\n",
       "      <th>days_listed</th>\n",
       "    </tr>\n",
       "  </thead>\n",
       "  <tbody>\n",
       "    <tr>\n",
       "      <td>0</td>\n",
       "      <td>9400</td>\n",
       "      <td>2011.0</td>\n",
       "      <td>bmw x5</td>\n",
       "      <td>good</td>\n",
       "      <td>6.0</td>\n",
       "      <td>gas</td>\n",
       "      <td>145000.0</td>\n",
       "      <td>automatic</td>\n",
       "      <td>SUV</td>\n",
       "      <td>NaN</td>\n",
       "      <td>1.0</td>\n",
       "      <td>2018-06-23</td>\n",
       "      <td>19</td>\n",
       "    </tr>\n",
       "    <tr>\n",
       "      <td>1</td>\n",
       "      <td>25500</td>\n",
       "      <td>NaN</td>\n",
       "      <td>ford f-150</td>\n",
       "      <td>good</td>\n",
       "      <td>6.0</td>\n",
       "      <td>gas</td>\n",
       "      <td>88705.0</td>\n",
       "      <td>automatic</td>\n",
       "      <td>pickup</td>\n",
       "      <td>white</td>\n",
       "      <td>1.0</td>\n",
       "      <td>2018-10-19</td>\n",
       "      <td>50</td>\n",
       "    </tr>\n",
       "    <tr>\n",
       "      <td>2</td>\n",
       "      <td>5500</td>\n",
       "      <td>2013.0</td>\n",
       "      <td>hyundai sonata</td>\n",
       "      <td>like new</td>\n",
       "      <td>4.0</td>\n",
       "      <td>gas</td>\n",
       "      <td>110000.0</td>\n",
       "      <td>automatic</td>\n",
       "      <td>sedan</td>\n",
       "      <td>red</td>\n",
       "      <td>NaN</td>\n",
       "      <td>2019-02-07</td>\n",
       "      <td>79</td>\n",
       "    </tr>\n",
       "    <tr>\n",
       "      <td>3</td>\n",
       "      <td>1500</td>\n",
       "      <td>2003.0</td>\n",
       "      <td>ford f-150</td>\n",
       "      <td>fair</td>\n",
       "      <td>8.0</td>\n",
       "      <td>gas</td>\n",
       "      <td>NaN</td>\n",
       "      <td>automatic</td>\n",
       "      <td>pickup</td>\n",
       "      <td>NaN</td>\n",
       "      <td>NaN</td>\n",
       "      <td>2019-03-22</td>\n",
       "      <td>9</td>\n",
       "    </tr>\n",
       "    <tr>\n",
       "      <td>4</td>\n",
       "      <td>14900</td>\n",
       "      <td>2017.0</td>\n",
       "      <td>chrysler 200</td>\n",
       "      <td>excellent</td>\n",
       "      <td>4.0</td>\n",
       "      <td>gas</td>\n",
       "      <td>80903.0</td>\n",
       "      <td>automatic</td>\n",
       "      <td>sedan</td>\n",
       "      <td>black</td>\n",
       "      <td>NaN</td>\n",
       "      <td>2019-04-02</td>\n",
       "      <td>28</td>\n",
       "    </tr>\n",
       "    <tr>\n",
       "      <td>5</td>\n",
       "      <td>14990</td>\n",
       "      <td>2014.0</td>\n",
       "      <td>chrysler 300</td>\n",
       "      <td>excellent</td>\n",
       "      <td>6.0</td>\n",
       "      <td>gas</td>\n",
       "      <td>57954.0</td>\n",
       "      <td>automatic</td>\n",
       "      <td>sedan</td>\n",
       "      <td>black</td>\n",
       "      <td>1.0</td>\n",
       "      <td>2018-06-20</td>\n",
       "      <td>15</td>\n",
       "    </tr>\n",
       "    <tr>\n",
       "      <td>6</td>\n",
       "      <td>12990</td>\n",
       "      <td>2015.0</td>\n",
       "      <td>toyota camry</td>\n",
       "      <td>excellent</td>\n",
       "      <td>4.0</td>\n",
       "      <td>gas</td>\n",
       "      <td>79212.0</td>\n",
       "      <td>automatic</td>\n",
       "      <td>sedan</td>\n",
       "      <td>white</td>\n",
       "      <td>NaN</td>\n",
       "      <td>2018-12-27</td>\n",
       "      <td>73</td>\n",
       "    </tr>\n",
       "    <tr>\n",
       "      <td>7</td>\n",
       "      <td>15990</td>\n",
       "      <td>2013.0</td>\n",
       "      <td>honda pilot</td>\n",
       "      <td>excellent</td>\n",
       "      <td>6.0</td>\n",
       "      <td>gas</td>\n",
       "      <td>109473.0</td>\n",
       "      <td>automatic</td>\n",
       "      <td>SUV</td>\n",
       "      <td>black</td>\n",
       "      <td>1.0</td>\n",
       "      <td>2019-01-07</td>\n",
       "      <td>68</td>\n",
       "    </tr>\n",
       "    <tr>\n",
       "      <td>8</td>\n",
       "      <td>11500</td>\n",
       "      <td>2012.0</td>\n",
       "      <td>kia sorento</td>\n",
       "      <td>excellent</td>\n",
       "      <td>4.0</td>\n",
       "      <td>gas</td>\n",
       "      <td>104174.0</td>\n",
       "      <td>automatic</td>\n",
       "      <td>SUV</td>\n",
       "      <td>NaN</td>\n",
       "      <td>1.0</td>\n",
       "      <td>2018-07-16</td>\n",
       "      <td>19</td>\n",
       "    </tr>\n",
       "    <tr>\n",
       "      <td>9</td>\n",
       "      <td>9200</td>\n",
       "      <td>2008.0</td>\n",
       "      <td>honda pilot</td>\n",
       "      <td>excellent</td>\n",
       "      <td>NaN</td>\n",
       "      <td>gas</td>\n",
       "      <td>147191.0</td>\n",
       "      <td>automatic</td>\n",
       "      <td>SUV</td>\n",
       "      <td>blue</td>\n",
       "      <td>1.0</td>\n",
       "      <td>2019-02-15</td>\n",
       "      <td>17</td>\n",
       "    </tr>\n",
       "  </tbody>\n",
       "</table>\n",
       "</div>"
      ],
      "text/plain": [
       "   price  model_year           model  condition  cylinders fuel  odometer  \\\n",
       "0   9400      2011.0          bmw x5       good        6.0  gas  145000.0   \n",
       "1  25500         NaN      ford f-150       good        6.0  gas   88705.0   \n",
       "2   5500      2013.0  hyundai sonata   like new        4.0  gas  110000.0   \n",
       "3   1500      2003.0      ford f-150       fair        8.0  gas       NaN   \n",
       "4  14900      2017.0    chrysler 200  excellent        4.0  gas   80903.0   \n",
       "5  14990      2014.0    chrysler 300  excellent        6.0  gas   57954.0   \n",
       "6  12990      2015.0    toyota camry  excellent        4.0  gas   79212.0   \n",
       "7  15990      2013.0     honda pilot  excellent        6.0  gas  109473.0   \n",
       "8  11500      2012.0     kia sorento  excellent        4.0  gas  104174.0   \n",
       "9   9200      2008.0     honda pilot  excellent        NaN  gas  147191.0   \n",
       "\n",
       "  transmission    type paint_color  is_4wd date_posted  days_listed  \n",
       "0    automatic     SUV         NaN     1.0  2018-06-23           19  \n",
       "1    automatic  pickup       white     1.0  2018-10-19           50  \n",
       "2    automatic   sedan         red     NaN  2019-02-07           79  \n",
       "3    automatic  pickup         NaN     NaN  2019-03-22            9  \n",
       "4    automatic   sedan       black     NaN  2019-04-02           28  \n",
       "5    automatic   sedan       black     1.0  2018-06-20           15  \n",
       "6    automatic   sedan       white     NaN  2018-12-27           73  \n",
       "7    automatic     SUV       black     1.0  2019-01-07           68  \n",
       "8    automatic     SUV         NaN     1.0  2018-07-16           19  \n",
       "9    automatic     SUV        blue     1.0  2019-02-15           17  "
      ]
     },
     "metadata": {},
     "output_type": "display_data"
    },
    {
     "data": {
      "text/plain": [
       "price               0\n",
       "model_year       3619\n",
       "model               0\n",
       "condition           0\n",
       "cylinders        5260\n",
       "fuel                0\n",
       "odometer         7892\n",
       "transmission        0\n",
       "type                0\n",
       "paint_color      9267\n",
       "is_4wd          25953\n",
       "date_posted         0\n",
       "days_listed         0\n",
       "dtype: int64"
      ]
     },
     "execution_count": 1,
     "metadata": {},
     "output_type": "execute_result"
    }
   ],
   "source": [
    "import numpy as np\n",
    "import pandas as pd\n",
    "import matplotlib.pyplot as plt\n",
    "import warnings\n",
    "df = pd.read_csv()\n",
    "print(df.info())\n",
    "display(df.head(10))\n",
    "df.isnull().sum()"
   ]
  },
  {
   "cell_type": "markdown",
   "metadata": {},
   "source": [
    "<div class=\"alert alert-block alert-warning\">\n",
    "<b>Reviewer's comment:</b> \n",
    "    \n",
    "    \n",
    "I like you used `.head()` method in your project, I'd suggest to use `display()` function for printing tables-like outputs ;) . </div>"
   ]
  },
  {
   "cell_type": "code",
   "execution_count": 3,
   "metadata": {},
   "outputs": [
    {
     "name": "stdout",
     "output_type": "stream",
     "text": [
      "The Median of model_year is: 2011.0000\n",
      "\n"
     ]
    },
    {
     "data": {
      "text/html": [
       "<div>\n",
       "<style scoped>\n",
       "    .dataframe tbody tr th:only-of-type {\n",
       "        vertical-align: middle;\n",
       "    }\n",
       "\n",
       "    .dataframe tbody tr th {\n",
       "        vertical-align: top;\n",
       "    }\n",
       "\n",
       "    .dataframe thead th {\n",
       "        text-align: right;\n",
       "    }\n",
       "</style>\n",
       "<table border=\"1\" class=\"dataframe\">\n",
       "  <thead>\n",
       "    <tr style=\"text-align: right;\">\n",
       "      <th></th>\n",
       "      <th>price</th>\n",
       "      <th>model_year</th>\n",
       "      <th>model</th>\n",
       "      <th>condition</th>\n",
       "      <th>cylinders</th>\n",
       "      <th>fuel</th>\n",
       "      <th>odometer</th>\n",
       "      <th>transmission</th>\n",
       "      <th>type</th>\n",
       "      <th>paint_color</th>\n",
       "      <th>is_4wd</th>\n",
       "      <th>date_posted</th>\n",
       "      <th>days_listed</th>\n",
       "    </tr>\n",
       "  </thead>\n",
       "  <tbody>\n",
       "    <tr>\n",
       "      <td>0</td>\n",
       "      <td>9400</td>\n",
       "      <td>2011.0</td>\n",
       "      <td>bmw x5</td>\n",
       "      <td>good</td>\n",
       "      <td>6.0</td>\n",
       "      <td>gas</td>\n",
       "      <td>145000.0</td>\n",
       "      <td>automatic</td>\n",
       "      <td>SUV</td>\n",
       "      <td>NaN</td>\n",
       "      <td>1.0</td>\n",
       "      <td>2018-06-23</td>\n",
       "      <td>19</td>\n",
       "    </tr>\n",
       "    <tr>\n",
       "      <td>1</td>\n",
       "      <td>25500</td>\n",
       "      <td>2011.0</td>\n",
       "      <td>ford f-150</td>\n",
       "      <td>good</td>\n",
       "      <td>6.0</td>\n",
       "      <td>gas</td>\n",
       "      <td>88705.0</td>\n",
       "      <td>automatic</td>\n",
       "      <td>pickup</td>\n",
       "      <td>white</td>\n",
       "      <td>1.0</td>\n",
       "      <td>2018-10-19</td>\n",
       "      <td>50</td>\n",
       "    </tr>\n",
       "    <tr>\n",
       "      <td>2</td>\n",
       "      <td>5500</td>\n",
       "      <td>2013.0</td>\n",
       "      <td>hyundai sonata</td>\n",
       "      <td>like new</td>\n",
       "      <td>4.0</td>\n",
       "      <td>gas</td>\n",
       "      <td>110000.0</td>\n",
       "      <td>automatic</td>\n",
       "      <td>sedan</td>\n",
       "      <td>red</td>\n",
       "      <td>0.0</td>\n",
       "      <td>2019-02-07</td>\n",
       "      <td>79</td>\n",
       "    </tr>\n",
       "    <tr>\n",
       "      <td>3</td>\n",
       "      <td>1500</td>\n",
       "      <td>2003.0</td>\n",
       "      <td>ford f-150</td>\n",
       "      <td>fair</td>\n",
       "      <td>8.0</td>\n",
       "      <td>gas</td>\n",
       "      <td>177500.0</td>\n",
       "      <td>automatic</td>\n",
       "      <td>pickup</td>\n",
       "      <td>NaN</td>\n",
       "      <td>0.0</td>\n",
       "      <td>2019-03-22</td>\n",
       "      <td>9</td>\n",
       "    </tr>\n",
       "    <tr>\n",
       "      <td>4</td>\n",
       "      <td>14900</td>\n",
       "      <td>2017.0</td>\n",
       "      <td>chrysler 200</td>\n",
       "      <td>excellent</td>\n",
       "      <td>4.0</td>\n",
       "      <td>gas</td>\n",
       "      <td>80903.0</td>\n",
       "      <td>automatic</td>\n",
       "      <td>sedan</td>\n",
       "      <td>black</td>\n",
       "      <td>0.0</td>\n",
       "      <td>2019-04-02</td>\n",
       "      <td>28</td>\n",
       "    </tr>\n",
       "  </tbody>\n",
       "</table>\n",
       "</div>"
      ],
      "text/plain": [
       "   price  model_year           model  condition  cylinders fuel  odometer  \\\n",
       "0   9400      2011.0          bmw x5       good        6.0  gas  145000.0   \n",
       "1  25500      2011.0      ford f-150       good        6.0  gas   88705.0   \n",
       "2   5500      2013.0  hyundai sonata   like new        4.0  gas  110000.0   \n",
       "3   1500      2003.0      ford f-150       fair        8.0  gas  177500.0   \n",
       "4  14900      2017.0    chrysler 200  excellent        4.0  gas   80903.0   \n",
       "\n",
       "  transmission    type paint_color  is_4wd date_posted  days_listed  \n",
       "0    automatic     SUV         NaN     1.0  2018-06-23           19  \n",
       "1    automatic  pickup       white     1.0  2018-10-19           50  \n",
       "2    automatic   sedan         red     0.0  2019-02-07           79  \n",
       "3    automatic  pickup         NaN     0.0  2019-03-22            9  \n",
       "4    automatic   sedan       black     0.0  2019-04-02           28  "
      ]
     },
     "metadata": {},
     "output_type": "display_data"
    }
   ],
   "source": [
    "df['is_4wd'].fillna(0,inplace=True)\n",
    "\n",
    "median_of_model_year = df['model_year'][df['model_year'] >0].median()\n",
    "df['model_year'] = df['model_year'].fillna(median_of_model_year)\n",
    "print('The Median of model_year is: {:.4f}'.format(median_of_model_year))\n",
    "\n",
    "df[ 'cylinders'] = df.cylinders.fillna(df.groupby(['model', 'model_year'])[ 'cylinders'].transform(np.median))\n",
    "\n",
    "df[ 'odometer'] = df.odometer.fillna(df.groupby(['model', 'model_year'])[ 'odometer'].transform(np.median))\n",
    "print('')\n",
    "df.isnull().sum()\n",
    "display(df.head(5))\n",
    "#Almost 50% of is_4wd were missing. The values look boolean so it seems those without values are not 4-wheel drive. Thus the reason for filling them with the zero value the opposite of one.\n",
    "#For model_year, I have used medianto give them realistic year of production. \n",
    "#Cylinders are categorical and so have created groups to place similar categories together according to the model_year so tht the value to replace with is inline with the category.\n",
    "# Odometer - have grouped them acording to the model_year to consider the production year in the replacement of the missing values. \n",
    "#Median is used to replace values where the number of missing values are too high. That is why I used median for is_4wd.\n",
    "#Mean is used where the missing values are not too many. In this case the missing values for odometer, cylinders and model_year are \n",
    "#are less than 25% of the total numbers. That is why I used mean to replace them."
   ]
  },
  {
   "cell_type": "markdown",
   "metadata": {},
   "source": [
    "<div class=\"alert alert-block alert-warning\">\n",
    "<b>Reviewer's comment:</b>\n",
    "\n",
    "Caroline, can you please describe this approach to fill NaNs or paste a link? It is a very interesting and unusual way.\n",
    "\n",
    "If you have any doubt about this, we can always to find groups with similar characteristics and use their median value for our NaNs\n",
    "\n",
    "</div>\n"
   ]
  },
  {
   "cell_type": "markdown",
   "metadata": {},
   "source": [
    "<div class=\"alert alert-block alert-danger\">\n",
    "<b>Reviewer's comment 2:</b>\n",
    "\n",
    "Caroline, thank you for this description. Let's check:\n",
    "\n",
    "- is_4wd - boolean value, it's median is 1, just like all filled values. Filling NaNs makes all cars in dataset 4-wheels-drive.\n",
    "I believe, this button means True when 1 or False when NaN.\n",
    "- model_year - this value is integer, what makes average (2009.75047) inappropriate, and cars, produced before this year exists.\n",
    "We can find medians for each model and use it, for example. (groups may be determined on multiple columns)\n",
    "- cylinders - is categorial, using of mean among all dataset looks strange (6.125235)\n",
    "\n",
    "\n",
    "\n",
    "\n",
    "* odometer - looks good, you can just improve this filling, taking into account cars production years\n",
    "</div>\n"
   ]
  },
  {
   "cell_type": "code",
   "execution_count": 5,
   "metadata": {},
   "outputs": [
    {
     "name": "stdout",
     "output_type": "stream",
     "text": [
      "price                    int64\n",
      "model_year               int64\n",
      "model                   object\n",
      "condition               object\n",
      "cylinders                int64\n",
      "fuel                    object\n",
      "odometer                 int64\n",
      "transmission            object\n",
      "type                    object\n",
      "paint_color             object\n",
      "is_4wd                    bool\n",
      "date_posted     datetime64[ns]\n",
      "days_listed              int64\n",
      "dtype: object\n",
      "\n",
      "white            10029\n",
      "not available     9267\n",
      "black             7692\n",
      "silver            6244\n",
      "grey              5037\n",
      "blue              4475\n",
      "red               4421\n",
      "green             1396\n",
      "brown             1223\n",
      "custom            1153\n",
      "yellow             255\n",
      "orange             231\n",
      "purple             102\n",
      "Name: paint_color, dtype: int64\n",
      "\n",
      "white            10029\n",
      "not available     9267\n",
      "black             7692\n",
      "silver            6244\n",
      "grey              5037\n",
      "blue              4475\n",
      "red               4421\n",
      "green             1396\n",
      "brown             1223\n",
      "custom            1153\n",
      "yellow             255\n",
      "orange             231\n",
      "purple             102\n",
      "Name: paint_color, dtype: int64\n",
      "<class 'pandas.core.frame.DataFrame'>\n",
      "RangeIndex: 51525 entries, 0 to 51524\n",
      "Data columns (total 13 columns):\n",
      "price           51525 non-null int64\n",
      "model_year      51525 non-null int64\n",
      "model           51525 non-null object\n",
      "condition       51525 non-null object\n",
      "cylinders       51525 non-null int64\n",
      "fuel            51525 non-null object\n",
      "odometer        51525 non-null int64\n",
      "transmission    51525 non-null object\n",
      "type            51525 non-null object\n",
      "paint_color     51525 non-null object\n",
      "is_4wd          51525 non-null bool\n",
      "date_posted     51525 non-null datetime64[ns]\n",
      "days_listed     51525 non-null int64\n",
      "dtypes: bool(1), datetime64[ns](1), int64(5), object(6)\n",
      "memory usage: 4.8+ MB\n",
      "None\n"
     ]
    },
    {
     "data": {
      "text/plain": [
       "pandas._libs.tslibs.timestamps.Timestamp"
      ]
     },
     "execution_count": 5,
     "metadata": {},
     "output_type": "execute_result"
    }
   ],
   "source": [
    "df['model'] = df['model'].str.lower()\n",
    "df['condition'] = df['condition'].str.lower()\n",
    "df['fuel'] = df['fuel'].str.lower()\n",
    "df['transmission'] = df['transmission'].str.lower()\n",
    "df['type'] = df['type'].str.lower()\n",
    "df['paint_color'] = df['paint_color'].str.lower()\n",
    "df['model_year'] = df['model_year'].astype('int')\n",
    "df['cylinders'] = df['cylinders'].astype('int', errors='ignore').fillna(df['cylinders'].median())\n",
    "df['odometer'] = df['odometer'].astype('int', errors='ignore').fillna(df['odometer'].median())\n",
    "df['cylinders'] = df['cylinders'].astype('int')\n",
    "df['odometer'] = df['odometer'].astype('int')\n",
    "df['is_4wd'] = df['is_4wd'].astype('bool')\n",
    "\n",
    "print(df.dtypes)\n",
    "print('')\n",
    "print(df['paint_color'].value_counts())\n",
    "print('')\n",
    "df.paint_color.fillna('Not Available', inplace=True)\n",
    "print(df['paint_color'].value_counts())\n",
    "\n",
    "df['date_posted']= pd.to_datetime(df['date_posted'])\n",
    "\n",
    "print(df.info())\n",
    "type(df['date_posted'][0])"
   ]
  },
  {
   "cell_type": "markdown",
   "metadata": {},
   "source": [
    "I changed the columns with string datatypes to lower to make the data in them uniform. \n",
    "I changed the columns with float datatype to integer for ease of use later as whole values.\n",
    "I replace the missing values in paint_color with Not_Available since I could not guess the color.\n",
    "Changed the datatype of the datelike column for ease of referencing later on in the project."
   ]
  },
  {
   "cell_type": "markdown",
   "metadata": {},
   "source": [
    "<div class=\"alert alert-block alert-danger\">\n",
    "<b>Reviewer's comment 4:</b>\n",
    "\n",
    "Looks like you didn't made necessary corrections, everything is described in pandas docs available by the link.\n",
    "    \n",
    "By the way, we have about 90 nans in these columns either after this nans filling, and some computations later will be completed with errors. \n",
    "    \n",
    "I think, there is a part of my fault, I've provided incorrect tips, so use `errors='ignore'` and then fill df['cylinders'] and df['odometer'] with their medians.\n",
    "\n",
    "</div>\n"
   ]
  },
  {
   "cell_type": "markdown",
   "metadata": {},
   "source": [
    "<div class=\"alert alert-block alert-danger\">\n",
    "<b>Reviewer's comment 3:</b>\n",
    "\n",
    "Previous cell has an error while changing data type in cylinders column containing NaNs.\n",
    "\n",
    "To avoid it we have parameter `errors='raise'` in `.astype()` method\n",
    "\n",
    "https://pandas.pydata.org/pandas-docs/stable/reference/api/pandas.DataFrame.astype.html\n",
    "\n",
    "</div>\n"
   ]
  },
  {
   "cell_type": "markdown",
   "metadata": {},
   "source": [
    "<div class=\"alert alert-block alert-warning\">\n",
    "<b>Reviewer's comment:</b>\n",
    "\n",
    "I see you have made a lot of useful tricks, too hard for understanding for potential customer without your notes. There is one common recommendation for all Yandex students - make your project in a such way, that allows you to print \n",
    "it without a code and understand the whole track. I usually combine small separate code cells with \n",
    "explaining text ones. \n",
    "\n",
    "</div>\n"
   ]
  },
  {
   "cell_type": "code",
   "execution_count": 6,
   "metadata": {},
   "outputs": [
    {
     "name": "stdout",
     "output_type": "stream",
     "text": [
      "   price  model_year           model  condition  cylinders fuel  odometer  \\\n",
      "0   9400        2011          bmw x5       good          6  gas    145000   \n",
      "1  25500        2011      ford f-150       good          6  gas     88705   \n",
      "2   5500        2013  hyundai sonata   like new          4  gas    110000   \n",
      "3   1500        2003      ford f-150       fair          8  gas    177500   \n",
      "4  14900        2017    chrysler 200  excellent          4  gas     80903   \n",
      "\n",
      "  transmission    type    paint_color  is_4wd date_posted  days_listed  dow  \\\n",
      "0    automatic     suv  not available    True  2018-06-23           19    5   \n",
      "1    automatic  pickup          white    True  2018-10-19           50    4   \n",
      "2    automatic   sedan            red   False  2019-02-07           79    3   \n",
      "3    automatic  pickup  not available   False  2019-03-22            9    4   \n",
      "4    automatic   sedan          black   False  2019-04-02           28    1   \n",
      "\n",
      "   week  year  age_in_years  avg_miles_year  condition_bin  \n",
      "0    25  2018             7    20714.285714              2  \n",
      "1    42  2018             7    12672.142857              2  \n",
      "2     6  2019             6    18333.333333              5  \n",
      "3    12  2019            16    11093.750000              1  \n",
      "4    14  2019             2    40451.500000              3  \n"
     ]
    }
   ],
   "source": [
    "df['dow'] = df['date_posted'].dt.dayofweek\n",
    "df['week'] = df['date_posted'].dt.week\n",
    "df['year'] = df['date_posted'].dt.year\n",
    "\n",
    "df['age_in_years'] = df['year'] - df['model_year']\n",
    "df['avg_miles_year'] = df['odometer']/df['age_in_years']\n",
    "df.avg_miles_year.describe()\n",
    "\n",
    "def condition(value):\n",
    "    if 'new' in value:\n",
    "        return 5\n",
    "    if 'like new'  in value:\n",
    "        return 4\n",
    "    if 'excellent' in value:\n",
    "        return 3\n",
    "    if 'good' in value:\n",
    "        return 2\n",
    "    if 'fair' in value:\n",
    "        return 1\n",
    "    else:\n",
    "        return 0\n",
    "    \n",
    "df['condition_bin']=df.condition.apply(condition)\n",
    "print(df.head(5))"
   ]
  },
  {
   "cell_type": "markdown",
   "metadata": {},
   "source": [
    "<div class=\"alert alert-block alert-warning\">\n",
    "<b>Reviewer's comment 4:</b>\n",
    "\n",
    "What do you think, maybe `display` function can be applied here?\n",
    "\n",
    "</div>\n"
   ]
  },
  {
   "cell_type": "markdown",
   "metadata": {},
   "source": [
    "Adding the day of the week, month and year that the ad was placed. Then replacing the string condition with integer conditions."
   ]
  },
  {
   "cell_type": "markdown",
   "metadata": {},
   "source": [
    "<div class=\"alert alert-block alert-success\">\n",
    "<b>Reviewer's comment:</b>\n",
    "    \n",
    "Everything is correct here 👍\n",
    "\n",
    "</div>"
   ]
  },
  {
   "cell_type": "code",
   "execution_count": 7,
   "metadata": {},
   "outputs": [
    {
     "data": {
      "image/png": "[encoded data removed]",
      "text/plain": [
       "<Figure size 432x288 with 1 Axes>"
      ]
     },
     "metadata": {
      "needs_background": "light"
     },
     "output_type": "display_data"
    }
   ],
   "source": [
    "df.price.hist(bins=10)\n",
    "plt.title('Price against Odometer')\n",
    "plt.xlabel('Odometer')\n",
    "plt.ylabel('Price')\n",
    "plt.show()"
   ]
  },
  {
   "cell_type": "markdown",
   "metadata": {},
   "source": [
    "<div class=\"alert alert-block alert-warning\">\n",
    "<b>Reviewer's comment:</b>\n",
    "\n",
    "This remark is about plots titles, I suppose you know this useful and necessary tick, it is strongly recommended to use it. \n",
    "`plt.title()`, `plt.xticks()`, `plt.yticks()` are the most popular ;)\n",
    "\n",
    "To hide `<matplotlib.axes._subplots.AxesSubplot at 0x16aeb8f63a0>`  - `plt.show()`\n",
    "\n",
    "</div>"
   ]
  },
  {
   "cell_type": "markdown",
   "metadata": {},
   "source": [
    "<div class=\"alert alert-block alert-success\">\n",
    "<b>Reviewer's comment 2:</b>\n",
    "\n",
    "Well done\n",
    "\n",
    "</div>\n"
   ]
  },
  {
   "cell_type": "code",
   "execution_count": 8,
   "metadata": {},
   "outputs": [
    {
     "data": {
      "image/png": "[encoded data removed]",
      "text/plain": [
       "<Figure size 432x288 with 1 Axes>"
      ]
     },
     "metadata": {
      "needs_background": "light"
     },
     "output_type": "display_data"
    }
   ],
   "source": [
    "df.price.hist(bins=100, range=[0,100000])\n",
    "plt.title('Price against Odometer')\n",
    "plt.xlabel('Odometer')\n",
    "plt.ylabel('Price')\n",
    "plt.show()"
   ]
  },
  {
   "cell_type": "code",
   "execution_count": 7,
   "metadata": {},
   "outputs": [
    {
     "data": {
      "image/png": "[encoded data removed]",
      "text/plain": [
       "<Figure size 432x288 with 1 Axes>"
      ]
     },
     "metadata": {
      "needs_background": "light"
     },
     "output_type": "display_data"
    }
   ],
   "source": [
    "df.age_in_years.hist(bins=100, range=(0,50))\n",
    "plt.title('Age_in_years against Odometer without Outliers')\n",
    "plt.xlabel('Odometer')\n",
    "plt.ylabel('Price')\n",
    "plt.show()\n",
    "#The purpose of eliminating the range is to eliminate outliers."
   ]
  },
  {
   "cell_type": "code",
   "execution_count": 9,
   "metadata": {},
   "outputs": [
    {
     "data": {
      "image/png": "[encoded data removed]",
      "text/plain": [
       "<Figure size 432x288 with 1 Axes>"
      ]
     },
     "metadata": {
      "needs_background": "light"
     },
     "output_type": "display_data"
    }
   ],
   "source": [
    "df.odometer.hist(bins=100,range=(0,500000))\n",
    "plt.title('Odometer against Price without Outliers')\n",
    "plt.xlabel('Odometer')\n",
    "plt.ylabel('Price')\n",
    "plt.show()"
   ]
  },
  {
   "cell_type": "code",
   "execution_count": 10,
   "metadata": {},
   "outputs": [
    {
     "data": {
      "image/png": "[encoded data removed]",
      "text/plain": [
       "<Figure size 432x288 with 1 Axes>"
      ]
     },
     "metadata": {
      "needs_background": "light"
     },
     "output_type": "display_data"
    }
   ],
   "source": [
    "df.cylinders.hist(bins=10)\n",
    "plt.title('Price against cylinders in groups of 10')\n",
    "plt.xlabel('cylinders')\n",
    "plt.ylabel('Price')\n",
    "plt.show()"
   ]
  },
  {
   "cell_type": "markdown",
   "metadata": {},
   "source": [
    "<div class=\"alert alert-block alert-danger\">\n",
    "<b>Reviewer's comment 2:</b>\n",
    "\n",
    "I had to change next two cells:\n",
    "    \n",
    "`condition`  =>    `condition_bin` \n",
    "\n",
    "</div>\n"
   ]
  },
  {
   "cell_type": "code",
   "execution_count": 11,
   "metadata": {},
   "outputs": [
    {
     "data": {
      "image/png": "[encoded data removed]",
      "text/plain": [
       "<Figure size 432x288 with 1 Axes>"
      ]
     },
     "metadata": {
      "needs_background": "light"
     },
     "output_type": "display_data"
    }
   ],
   "source": [
    "df.condition_bin.hist(bins=5)\n",
    "plt.title('Price against Odometer in groups of 5')\n",
    "plt.xlabel('Odometer')\n",
    "plt.ylabel('Price')\n",
    "plt.show()"
   ]
  },
  {
   "cell_type": "code",
   "execution_count": 12,
   "metadata": {},
   "outputs": [
    {
     "data": {
      "text/html": [
       "<div>\n",
       "<style scoped>\n",
       "    .dataframe tbody tr th:only-of-type {\n",
       "        vertical-align: middle;\n",
       "    }\n",
       "\n",
       "    .dataframe tbody tr th {\n",
       "        vertical-align: top;\n",
       "    }\n",
       "\n",
       "    .dataframe thead th {\n",
       "        text-align: right;\n",
       "    }\n",
       "</style>\n",
       "<table border=\"1\" class=\"dataframe\">\n",
       "  <thead>\n",
       "    <tr style=\"text-align: right;\">\n",
       "      <th></th>\n",
       "      <th>price</th>\n",
       "      <th>age_in_years</th>\n",
       "      <th>odometer</th>\n",
       "      <th>cylinders</th>\n",
       "      <th>condition_bin</th>\n",
       "    </tr>\n",
       "  </thead>\n",
       "  <tbody>\n",
       "    <tr>\n",
       "      <td>count</td>\n",
       "      <td>51525.000000</td>\n",
       "      <td>51525.000000</td>\n",
       "      <td>51525.000000</td>\n",
       "      <td>51525.000000</td>\n",
       "      <td>51525.000000</td>\n",
       "    </tr>\n",
       "    <tr>\n",
       "      <td>mean</td>\n",
       "      <td>12132.464920</td>\n",
       "      <td>8.469229</td>\n",
       "      <td>115359.217914</td>\n",
       "      <td>6.120272</td>\n",
       "      <td>2.729568</td>\n",
       "    </tr>\n",
       "    <tr>\n",
       "      <td>std</td>\n",
       "      <td>10040.803015</td>\n",
       "      <td>6.079773</td>\n",
       "      <td>62575.679790</td>\n",
       "      <td>1.656864</td>\n",
       "      <td>0.917570</td>\n",
       "    </tr>\n",
       "    <tr>\n",
       "      <td>min</td>\n",
       "      <td>1.000000</td>\n",
       "      <td>0.000000</td>\n",
       "      <td>0.000000</td>\n",
       "      <td>3.000000</td>\n",
       "      <td>0.000000</td>\n",
       "    </tr>\n",
       "    <tr>\n",
       "      <td>25%</td>\n",
       "      <td>5000.000000</td>\n",
       "      <td>4.000000</td>\n",
       "      <td>72106.000000</td>\n",
       "      <td>4.000000</td>\n",
       "      <td>2.000000</td>\n",
       "    </tr>\n",
       "    <tr>\n",
       "      <td>50%</td>\n",
       "      <td>9000.000000</td>\n",
       "      <td>7.000000</td>\n",
       "      <td>114072.000000</td>\n",
       "      <td>6.000000</td>\n",
       "      <td>3.000000</td>\n",
       "    </tr>\n",
       "    <tr>\n",
       "      <td>75%</td>\n",
       "      <td>16839.000000</td>\n",
       "      <td>12.000000</td>\n",
       "      <td>152876.000000</td>\n",
       "      <td>8.000000</td>\n",
       "      <td>3.000000</td>\n",
       "    </tr>\n",
       "    <tr>\n",
       "      <td>max</td>\n",
       "      <td>375000.000000</td>\n",
       "      <td>110.000000</td>\n",
       "      <td>990000.000000</td>\n",
       "      <td>12.000000</td>\n",
       "      <td>5.000000</td>\n",
       "    </tr>\n",
       "  </tbody>\n",
       "</table>\n",
       "</div>"
      ],
      "text/plain": [
       "               price  age_in_years       odometer     cylinders  condition_bin\n",
       "count   51525.000000  51525.000000   51525.000000  51525.000000   51525.000000\n",
       "mean    12132.464920      8.469229  115359.217914      6.120272       2.729568\n",
       "std     10040.803015      6.079773   62575.679790      1.656864       0.917570\n",
       "min         1.000000      0.000000       0.000000      3.000000       0.000000\n",
       "25%      5000.000000      4.000000   72106.000000      4.000000       2.000000\n",
       "50%      9000.000000      7.000000  114072.000000      6.000000       3.000000\n",
       "75%     16839.000000     12.000000  152876.000000      8.000000       3.000000\n",
       "max    375000.000000    110.000000  990000.000000     12.000000       5.000000"
      ]
     },
     "execution_count": 12,
     "metadata": {},
     "output_type": "execute_result"
    }
   ],
   "source": [
    "df[['price','age_in_years','odometer','cylinders','condition_bin']].describe()"
   ]
  },
  {
   "cell_type": "markdown",
   "metadata": {},
   "source": [
    "<div class=\"alert alert-block alert-success\">\n",
    "<b>Reviewer's comment:</b>\n",
    "\n",
    "Well done! Such useful histograms\n",
    "\n",
    "</div>\n"
   ]
  },
  {
   "cell_type": "markdown",
   "metadata": {},
   "source": [
    "Ex\n"
   ]
  },
  {
   "cell_type": "code",
   "execution_count": 13,
   "metadata": {},
   "outputs": [
    {
     "data": {
      "text/plain": [
       "price            42254.873966\n",
       "age_in_years        26.708547\n",
       "odometer        303086.257283\n",
       "dtype: float64"
      ]
     },
     "execution_count": 13,
     "metadata": {},
     "output_type": "execute_result"
    }
   ],
   "source": [
    "df[['price', 'age_in_years', 'odometer']].mean() + df[['price', 'age_in_years', 'odometer']].std()*3"
   ]
  },
  {
   "cell_type": "code",
   "execution_count": 14,
   "metadata": {},
   "outputs": [
    {
     "data": {
      "text/plain": [
       "price            54000.0\n",
       "age_in_years        41.0\n",
       "odometer        328753.0\n",
       "Name: 0.997, dtype: float64"
      ]
     },
     "execution_count": 14,
     "metadata": {},
     "output_type": "execute_result"
    }
   ],
   "source": [
    "df[['price', 'age_in_years', 'odometer']].quantile(0.997)"
   ]
  },
  {
   "cell_type": "markdown",
   "metadata": {},
   "source": [
    "Using the quantile to define outliers."
   ]
  },
  {
   "cell_type": "code",
   "execution_count": 15,
   "metadata": {},
   "outputs": [
    {
     "data": {
      "text/html": [
       "<div>\n",
       "<style scoped>\n",
       "    .dataframe tbody tr th:only-of-type {\n",
       "        vertical-align: middle;\n",
       "    }\n",
       "\n",
       "    .dataframe tbody tr th {\n",
       "        vertical-align: top;\n",
       "    }\n",
       "\n",
       "    .dataframe thead th {\n",
       "        text-align: right;\n",
       "    }\n",
       "</style>\n",
       "<table border=\"1\" class=\"dataframe\">\n",
       "  <thead>\n",
       "    <tr style=\"text-align: right;\">\n",
       "      <th></th>\n",
       "      <th>price</th>\n",
       "      <th>model_year</th>\n",
       "      <th>cylinders</th>\n",
       "      <th>odometer</th>\n",
       "      <th>days_listed</th>\n",
       "      <th>dow</th>\n",
       "      <th>week</th>\n",
       "      <th>year</th>\n",
       "      <th>age_in_years</th>\n",
       "      <th>avg_miles_year</th>\n",
       "      <th>condition_bin</th>\n",
       "    </tr>\n",
       "  </thead>\n",
       "  <tbody>\n",
       "    <tr>\n",
       "      <td>count</td>\n",
       "      <td>50103.000000</td>\n",
       "      <td>50103.000000</td>\n",
       "      <td>50103.000000</td>\n",
       "      <td>50103.000000</td>\n",
       "      <td>50103.00000</td>\n",
       "      <td>50103.000000</td>\n",
       "      <td>50103.000000</td>\n",
       "      <td>50103.000000</td>\n",
       "      <td>50103.000000</td>\n",
       "      <td>5.010200e+04</td>\n",
       "      <td>50103.000000</td>\n",
       "    </tr>\n",
       "    <tr>\n",
       "      <td>mean</td>\n",
       "      <td>11679.337245</td>\n",
       "      <td>2010.105343</td>\n",
       "      <td>6.085145</td>\n",
       "      <td>115070.861885</td>\n",
       "      <td>39.53887</td>\n",
       "      <td>3.002814</td>\n",
       "      <td>26.896214</td>\n",
       "      <td>2018.306628</td>\n",
       "      <td>8.201285</td>\n",
       "      <td>inf</td>\n",
       "      <td>2.727402</td>\n",
       "    </tr>\n",
       "    <tr>\n",
       "      <td>std</td>\n",
       "      <td>8588.420910</td>\n",
       "      <td>5.151755</td>\n",
       "      <td>1.654965</td>\n",
       "      <td>58492.327938</td>\n",
       "      <td>28.21391</td>\n",
       "      <td>1.996377</td>\n",
       "      <td>15.135434</td>\n",
       "      <td>0.461098</td>\n",
       "      <td>5.166056</td>\n",
       "      <td>NaN</td>\n",
       "      <td>0.909445</td>\n",
       "    </tr>\n",
       "    <tr>\n",
       "      <td>min</td>\n",
       "      <td>1.000000</td>\n",
       "      <td>1992.000000</td>\n",
       "      <td>3.000000</td>\n",
       "      <td>0.000000</td>\n",
       "      <td>0.00000</td>\n",
       "      <td>0.000000</td>\n",
       "      <td>1.000000</td>\n",
       "      <td>2018.000000</td>\n",
       "      <td>0.000000</td>\n",
       "      <td>0.000000e+00</td>\n",
       "      <td>0.000000</td>\n",
       "    </tr>\n",
       "    <tr>\n",
       "      <td>25%</td>\n",
       "      <td>5000.000000</td>\n",
       "      <td>2007.000000</td>\n",
       "      <td>4.000000</td>\n",
       "      <td>73700.000000</td>\n",
       "      <td>19.00000</td>\n",
       "      <td>1.000000</td>\n",
       "      <td>13.000000</td>\n",
       "      <td>2018.000000</td>\n",
       "      <td>4.000000</td>\n",
       "      <td>1.114286e+04</td>\n",
       "      <td>2.000000</td>\n",
       "    </tr>\n",
       "    <tr>\n",
       "      <td>50%</td>\n",
       "      <td>8999.000000</td>\n",
       "      <td>2011.000000</td>\n",
       "      <td>6.000000</td>\n",
       "      <td>114768.000000</td>\n",
       "      <td>33.00000</td>\n",
       "      <td>3.000000</td>\n",
       "      <td>27.000000</td>\n",
       "      <td>2018.000000</td>\n",
       "      <td>7.000000</td>\n",
       "      <td>1.548181e+04</td>\n",
       "      <td>3.000000</td>\n",
       "    </tr>\n",
       "    <tr>\n",
       "      <td>75%</td>\n",
       "      <td>16300.000000</td>\n",
       "      <td>2014.000000</td>\n",
       "      <td>8.000000</td>\n",
       "      <td>152699.000000</td>\n",
       "      <td>53.00000</td>\n",
       "      <td>5.000000</td>\n",
       "      <td>40.000000</td>\n",
       "      <td>2019.000000</td>\n",
       "      <td>11.000000</td>\n",
       "      <td>2.210500e+04</td>\n",
       "      <td>3.000000</td>\n",
       "    </tr>\n",
       "    <tr>\n",
       "      <td>max</td>\n",
       "      <td>42000.000000</td>\n",
       "      <td>2019.000000</td>\n",
       "      <td>12.000000</td>\n",
       "      <td>303000.000000</td>\n",
       "      <td>271.00000</td>\n",
       "      <td>6.000000</td>\n",
       "      <td>52.000000</td>\n",
       "      <td>2019.000000</td>\n",
       "      <td>26.000000</td>\n",
       "      <td>inf</td>\n",
       "      <td>5.000000</td>\n",
       "    </tr>\n",
       "  </tbody>\n",
       "</table>\n",
       "</div>"
      ],
      "text/plain": [
       "              price    model_year     cylinders       odometer  days_listed  \\\n",
       "count  50103.000000  50103.000000  50103.000000   50103.000000  50103.00000   \n",
       "mean   11679.337245   2010.105343      6.085145  115070.861885     39.53887   \n",
       "std     8588.420910      5.151755      1.654965   58492.327938     28.21391   \n",
       "min        1.000000   1992.000000      3.000000       0.000000      0.00000   \n",
       "25%     5000.000000   2007.000000      4.000000   73700.000000     19.00000   \n",
       "50%     8999.000000   2011.000000      6.000000  114768.000000     33.00000   \n",
       "75%    16300.000000   2014.000000      8.000000  152699.000000     53.00000   \n",
       "max    42000.000000   2019.000000     12.000000  303000.000000    271.00000   \n",
       "\n",
       "                dow          week          year  age_in_years  avg_miles_year  \\\n",
       "count  50103.000000  50103.000000  50103.000000  50103.000000    5.010200e+04   \n",
       "mean       3.002814     26.896214   2018.306628      8.201285             inf   \n",
       "std        1.996377     15.135434      0.461098      5.166056             NaN   \n",
       "min        0.000000      1.000000   2018.000000      0.000000    0.000000e+00   \n",
       "25%        1.000000     13.000000   2018.000000      4.000000    1.114286e+04   \n",
       "50%        3.000000     27.000000   2018.000000      7.000000    1.548181e+04   \n",
       "75%        5.000000     40.000000   2019.000000     11.000000    2.210500e+04   \n",
       "max        6.000000     52.000000   2019.000000     26.000000             inf   \n",
       "\n",
       "       condition_bin  \n",
       "count   50103.000000  \n",
       "mean        2.727402  \n",
       "std         0.909445  \n",
       "min         0.000000  \n",
       "25%         2.000000  \n",
       "50%         3.000000  \n",
       "75%         3.000000  \n",
       "max         5.000000  "
      ]
     },
     "execution_count": 15,
     "metadata": {},
     "output_type": "execute_result"
    }
   ],
   "source": [
    "from scipy import stats\n",
    "df[(np.abs(stats.zscore(df[['price', 'age_in_years', 'odometer']])) < 3).all(axis=1)].describe()"
   ]
  },
  {
   "cell_type": "markdown",
   "metadata": {},
   "source": [
    "<div class=\"alert alert-block alert-success\">\n",
    "<b>Reviewer's comment:</b>\n",
    "\n",
    "I appreciate your advanced way to determine and drop outliers, looks really good \n",
    "\n",
    "</div>\n"
   ]
  },
  {
   "cell_type": "markdown",
   "metadata": {},
   "source": [
    "Dropping the outliers"
   ]
  },
  {
   "cell_type": "code",
   "execution_count": 16,
   "metadata": {},
   "outputs": [],
   "source": [
    "df_filtered = df[(np.abs(stats.zscore(df[['price', 'age_in_years', 'odometer']])) < 3).all(axis=1)]"
   ]
  },
  {
   "cell_type": "code",
   "execution_count": 17,
   "metadata": {},
   "outputs": [
    {
     "data": {
      "image/png": "[encoded data removed]",
      "text/plain": [
       "<Figure size 432x288 with 4 Axes>"
      ]
     },
     "metadata": {
      "needs_background": "light"
     },
     "output_type": "display_data"
    }
   ],
   "source": [
    "df_filtered[['price', 'age_in_years', 'odometer']].hist(bins=100)\n",
    "plt.show()"
   ]
  },
  {
   "cell_type": "markdown",
   "metadata": {},
   "source": [
    "<div class=\"alert alert-block alert-warning\">\n",
    "<b>Reviewer's comment 2:</b>\n",
    "\n",
    "We can use plt.show() to hide this strange taxt before plots\n",
    "\n",
    "</div>\n"
   ]
  },
  {
   "cell_type": "markdown",
   "metadata": {},
   "source": [
    "histogram without outliers"
   ]
  },
  {
   "cell_type": "code",
   "execution_count": 18,
   "metadata": {},
   "outputs": [
    {
     "data": {
      "image/png": "[encoded data removed]",
      "text/plain": [
       "<Figure size 432x288 with 1 Axes>"
      ]
     },
     "metadata": {
      "needs_background": "light"
     },
     "output_type": "display_data"
    }
   ],
   "source": [
    "df_filtered.days_listed.hist(bins=100)\n",
    "plt.show()"
   ]
  },
  {
   "cell_type": "code",
   "execution_count": 19,
   "metadata": {},
   "outputs": [
    {
     "data": {
      "text/plain": [
       "count    50103.00000\n",
       "mean        39.53887\n",
       "std         28.21391\n",
       "min          0.00000\n",
       "25%         19.00000\n",
       "50%         33.00000\n",
       "75%         53.00000\n",
       "max        271.00000\n",
       "Name: days_listed, dtype: float64"
      ]
     },
     "execution_count": 19,
     "metadata": {},
     "output_type": "execute_result"
    }
   ],
   "source": [
    "df_filtered.days_listed.describe()\n",
    "#median is the 50%."
   ]
  },
  {
   "cell_type": "code",
   "execution_count": 20,
   "metadata": {},
   "outputs": [
    {
     "data": {
      "text/plain": [
       "149.0"
      ]
     },
     "execution_count": 20,
     "metadata": {},
     "output_type": "execute_result"
    }
   ],
   "source": [
    "df_filtered.days_listed.quantile(.995)"
   ]
  },
  {
   "cell_type": "code",
   "execution_count": 21,
   "metadata": {},
   "outputs": [
    {
     "data": {
      "text/plain": [
       "3.0"
      ]
     },
     "execution_count": 21,
     "metadata": {},
     "output_type": "execute_result"
    }
   ],
   "source": [
    "df_filtered.days_listed.quantile(.01)"
   ]
  },
  {
   "cell_type": "code",
   "execution_count": 21,
   "metadata": {},
   "outputs": [
    {
     "data": {
      "image/png": "[encoded data removed]",
      "text/plain": [
       "<Figure size 432x288 with 1 Axes>"
      ]
     },
     "metadata": {
      "needs_background": "light"
     },
     "output_type": "display_data"
    }
   ],
   "source": [
    "df_filtered.groupby('model').price.mean().sort_values().iloc[-10:].plot(kind='bar')\n",
    "plt.show() "
   ]
  },
  {
   "cell_type": "markdown",
   "metadata": {},
   "source": [
    "Grouping the models per price showing just the top 10 in the graph."
   ]
  },
  {
   "cell_type": "code",
   "execution_count": 22,
   "metadata": {},
   "outputs": [
    {
     "data": {
      "image/png": "[encoded data removed]",
      "text/plain": [
       "<Figure size 432x288 with 1 Axes>"
      ]
     },
     "metadata": {
      "needs_background": "light"
     },
     "output_type": "display_data"
    }
   ],
   "source": [
    "df_filtered.groupby('type').price.mean().sort_values().plot(kind='bar')\n",
    "plt.show()"
   ]
  },
  {
   "cell_type": "code",
   "execution_count": 23,
   "metadata": {},
   "outputs": [
    {
     "data": {
      "text/html": [
       "<div>\n",
       "<style scoped>\n",
       "    .dataframe tbody tr th:only-of-type {\n",
       "        vertical-align: middle;\n",
       "    }\n",
       "\n",
       "    .dataframe tbody tr th {\n",
       "        vertical-align: top;\n",
       "    }\n",
       "\n",
       "    .dataframe thead th {\n",
       "        text-align: right;\n",
       "    }\n",
       "</style>\n",
       "<table border=\"1\" class=\"dataframe\">\n",
       "  <thead>\n",
       "    <tr style=\"text-align: right;\">\n",
       "      <th></th>\n",
       "      <th>count</th>\n",
       "      <th>mean</th>\n",
       "      <th>std</th>\n",
       "      <th>min</th>\n",
       "      <th>25%</th>\n",
       "      <th>50%</th>\n",
       "      <th>75%</th>\n",
       "      <th>max</th>\n",
       "    </tr>\n",
       "    <tr>\n",
       "      <th>type</th>\n",
       "      <th></th>\n",
       "      <th></th>\n",
       "      <th></th>\n",
       "      <th></th>\n",
       "      <th></th>\n",
       "      <th></th>\n",
       "      <th></th>\n",
       "      <th></th>\n",
       "    </tr>\n",
       "  </thead>\n",
       "  <tbody>\n",
       "    <tr>\n",
       "      <td>bus</td>\n",
       "      <td>23.0</td>\n",
       "      <td>17445.913043</td>\n",
       "      <td>11392.038623</td>\n",
       "      <td>4995.0</td>\n",
       "      <td>6997.0</td>\n",
       "      <td>10500.0</td>\n",
       "      <td>28990.00</td>\n",
       "      <td>28990.0</td>\n",
       "    </tr>\n",
       "    <tr>\n",
       "      <td>convertible</td>\n",
       "      <td>367.0</td>\n",
       "      <td>12681.158038</td>\n",
       "      <td>8003.161064</td>\n",
       "      <td>1.0</td>\n",
       "      <td>6000.0</td>\n",
       "      <td>12000.0</td>\n",
       "      <td>17700.00</td>\n",
       "      <td>38500.0</td>\n",
       "    </tr>\n",
       "    <tr>\n",
       "      <td>coupe</td>\n",
       "      <td>2086.0</td>\n",
       "      <td>13707.336050</td>\n",
       "      <td>9349.836551</td>\n",
       "      <td>1.0</td>\n",
       "      <td>4995.0</td>\n",
       "      <td>12925.0</td>\n",
       "      <td>21437.50</td>\n",
       "      <td>41900.0</td>\n",
       "    </tr>\n",
       "    <tr>\n",
       "      <td>hatchback</td>\n",
       "      <td>1021.0</td>\n",
       "      <td>6812.141038</td>\n",
       "      <td>4008.559888</td>\n",
       "      <td>1.0</td>\n",
       "      <td>4000.0</td>\n",
       "      <td>5950.0</td>\n",
       "      <td>8680.00</td>\n",
       "      <td>27500.0</td>\n",
       "    </tr>\n",
       "    <tr>\n",
       "      <td>mini-van</td>\n",
       "      <td>1154.0</td>\n",
       "      <td>8043.616984</td>\n",
       "      <td>5602.156098</td>\n",
       "      <td>1.0</td>\n",
       "      <td>3995.0</td>\n",
       "      <td>6495.0</td>\n",
       "      <td>10500.00</td>\n",
       "      <td>38900.0</td>\n",
       "    </tr>\n",
       "    <tr>\n",
       "      <td>offroad</td>\n",
       "      <td>194.0</td>\n",
       "      <td>14364.257732</td>\n",
       "      <td>8724.058589</td>\n",
       "      <td>15.0</td>\n",
       "      <td>7000.0</td>\n",
       "      <td>12350.0</td>\n",
       "      <td>19375.00</td>\n",
       "      <td>38500.0</td>\n",
       "    </tr>\n",
       "    <tr>\n",
       "      <td>other</td>\n",
       "      <td>243.0</td>\n",
       "      <td>10780.934156</td>\n",
       "      <td>7532.836134</td>\n",
       "      <td>1.0</td>\n",
       "      <td>5745.0</td>\n",
       "      <td>8995.0</td>\n",
       "      <td>13149.50</td>\n",
       "      <td>41000.0</td>\n",
       "    </tr>\n",
       "    <tr>\n",
       "      <td>pickup</td>\n",
       "      <td>6728.0</td>\n",
       "      <td>15668.999257</td>\n",
       "      <td>9671.679679</td>\n",
       "      <td>1.0</td>\n",
       "      <td>7400.0</td>\n",
       "      <td>14400.0</td>\n",
       "      <td>22975.00</td>\n",
       "      <td>42000.0</td>\n",
       "    </tr>\n",
       "    <tr>\n",
       "      <td>sedan</td>\n",
       "      <td>12096.0</td>\n",
       "      <td>6955.680390</td>\n",
       "      <td>4292.154102</td>\n",
       "      <td>1.0</td>\n",
       "      <td>3995.0</td>\n",
       "      <td>5995.0</td>\n",
       "      <td>9000.00</td>\n",
       "      <td>40000.0</td>\n",
       "    </tr>\n",
       "    <tr>\n",
       "      <td>suv</td>\n",
       "      <td>12185.0</td>\n",
       "      <td>10754.564875</td>\n",
       "      <td>7717.172704</td>\n",
       "      <td>1.0</td>\n",
       "      <td>4995.0</td>\n",
       "      <td>8890.0</td>\n",
       "      <td>14900.00</td>\n",
       "      <td>42000.0</td>\n",
       "    </tr>\n",
       "    <tr>\n",
       "      <td>truck</td>\n",
       "      <td>11851.0</td>\n",
       "      <td>15941.844823</td>\n",
       "      <td>9484.279949</td>\n",
       "      <td>1.0</td>\n",
       "      <td>8200.0</td>\n",
       "      <td>14990.0</td>\n",
       "      <td>22000.00</td>\n",
       "      <td>42000.0</td>\n",
       "    </tr>\n",
       "    <tr>\n",
       "      <td>van</td>\n",
       "      <td>626.0</td>\n",
       "      <td>10517.514377</td>\n",
       "      <td>8776.401467</td>\n",
       "      <td>1.0</td>\n",
       "      <td>4900.0</td>\n",
       "      <td>7995.0</td>\n",
       "      <td>12492.25</td>\n",
       "      <td>34900.0</td>\n",
       "    </tr>\n",
       "    <tr>\n",
       "      <td>wagon</td>\n",
       "      <td>1529.0</td>\n",
       "      <td>9002.648790</td>\n",
       "      <td>5661.335689</td>\n",
       "      <td>188.0</td>\n",
       "      <td>4995.0</td>\n",
       "      <td>7900.0</td>\n",
       "      <td>12195.00</td>\n",
       "      <td>39995.0</td>\n",
       "    </tr>\n",
       "  </tbody>\n",
       "</table>\n",
       "</div>"
      ],
      "text/plain": [
       "               count          mean           std     min     25%      50%  \\\n",
       "type                                                                        \n",
       "bus             23.0  17445.913043  11392.038623  4995.0  6997.0  10500.0   \n",
       "convertible    367.0  12681.158038   8003.161064     1.0  6000.0  12000.0   \n",
       "coupe         2086.0  13707.336050   9349.836551     1.0  4995.0  12925.0   \n",
       "hatchback     1021.0   6812.141038   4008.559888     1.0  4000.0   5950.0   \n",
       "mini-van      1154.0   8043.616984   5602.156098     1.0  3995.0   6495.0   \n",
       "offroad        194.0  14364.257732   8724.058589    15.0  7000.0  12350.0   \n",
       "other          243.0  10780.934156   7532.836134     1.0  5745.0   8995.0   \n",
       "pickup        6728.0  15668.999257   9671.679679     1.0  7400.0  14400.0   \n",
       "sedan        12096.0   6955.680390   4292.154102     1.0  3995.0   5995.0   \n",
       "suv          12185.0  10754.564875   7717.172704     1.0  4995.0   8890.0   \n",
       "truck        11851.0  15941.844823   9484.279949     1.0  8200.0  14990.0   \n",
       "van            626.0  10517.514377   8776.401467     1.0  4900.0   7995.0   \n",
       "wagon         1529.0   9002.648790   5661.335689   188.0  4995.0   7900.0   \n",
       "\n",
       "                  75%      max  \n",
       "type                            \n",
       "bus          28990.00  28990.0  \n",
       "convertible  17700.00  38500.0  \n",
       "coupe        21437.50  41900.0  \n",
       "hatchback     8680.00  27500.0  \n",
       "mini-van     10500.00  38900.0  \n",
       "offroad      19375.00  38500.0  \n",
       "other        13149.50  41000.0  \n",
       "pickup       22975.00  42000.0  \n",
       "sedan         9000.00  40000.0  \n",
       "suv          14900.00  42000.0  \n",
       "truck        22000.00  42000.0  \n",
       "van          12492.25  34900.0  \n",
       "wagon        12195.00  39995.0  "
      ]
     },
     "execution_count": 23,
     "metadata": {},
     "output_type": "execute_result"
    }
   ],
   "source": [
    "df_filtered.groupby('type').price.describe()"
   ]
  },
  {
   "cell_type": "markdown",
   "metadata": {},
   "source": [
    "Grouping the type per price. From the result bus is the most expensive type. Yet from the statistics bus has the least count. The most popular types of vehicles are suv, sedan, trucks and pickup  in that order."
   ]
  },
  {
   "cell_type": "markdown",
   "metadata": {},
   "source": [
    "<div class=\"alert alert-block alert-warning\">\n",
    "<b>Reviewer's comment:</b>\n",
    "\n",
    "Here we can make for our customer some insights about other types of cars ;) we have all necessary data to describe the most popular types of cars and their advantages\n",
    "\n",
    "</div>\n"
   ]
  },
  {
   "cell_type": "code",
   "execution_count": 24,
   "metadata": {},
   "outputs": [
    {
     "data": {
      "image/png": "[encoded data removed]",
      "text/plain": [
       "<Figure size 432x288 with 1 Axes>"
      ]
     },
     "metadata": {
      "needs_background": "light"
     },
     "output_type": "display_data"
    }
   ],
   "source": [
    "over_500= df_filtered.groupby('type').price.count()>500\n",
    "types_500 = over_500.index[np.where(over_500==True)]\n",
    "df_filtered.groupby('type').price.mean().loc[types_500].sort_values().plot(kind='bar')\n",
    "plt.show()"
   ]
  },
  {
   "cell_type": "markdown",
   "metadata": {},
   "source": [
    "Shows the average price per type of vehicle."
   ]
  },
  {
   "cell_type": "code",
   "execution_count": 25,
   "metadata": {},
   "outputs": [
    {
     "data": {
      "image/png": "[encoded data removed]",
      "text/plain": [
       "<Figure size 432x288 with 1 Axes>"
      ]
     },
     "metadata": {
      "needs_background": "light"
     },
     "output_type": "display_data"
    }
   ],
   "source": [
    "import warnings\n",
    "warnings.filterwarnings(\"ignore\")\n",
    "df_filtered[df_filtered.type.isin(types_500)].boxplot(by='type', column='price', whis='range', grid=False, rot=45, fontsize=15)\n",
    "plt.show()"
   ]
  },
  {
   "cell_type": "markdown",
   "metadata": {},
   "source": [
    "In the boxplot graph the middle green line shows the average price of each type."
   ]
  },
  {
   "cell_type": "code",
   "execution_count": 27,
   "metadata": {},
   "outputs": [],
   "source": [
    "df_top = df_filtered[df_filtered.type.isin(['truck', 'pickup'])]"
   ]
  },
  {
   "cell_type": "code",
   "execution_count": 28,
   "metadata": {},
   "outputs": [
    {
     "data": {
      "image/png": "[encoded data removed]",
      "text/plain": [
       "<Figure size 432x288 with 1 Axes>"
      ]
     },
     "metadata": {
      "needs_background": "light"
     },
     "output_type": "display_data"
    }
   ],
   "source": [
    "df_top.plot.scatter(x='model_year', y='price', alpha=.25)\n",
    "plt.show()"
   ]
  },
  {
   "cell_type": "markdown",
   "metadata": {},
   "source": [
    "The higher the model_year the higher the price."
   ]
  },
  {
   "cell_type": "code",
   "execution_count": 29,
   "metadata": {},
   "outputs": [
    {
     "data": {
      "image/png": "[encoded data removed]",
      "text/plain": [
       "<Figure size 432x288 with 1 Axes>"
      ]
     },
     "metadata": {
      "needs_background": "light"
     },
     "output_type": "display_data"
    }
   ],
   "source": [
    "df_top.plot.scatter(x='odometer', y='price', alpha=.5)\n",
    "plt.show()"
   ]
  },
  {
   "cell_type": "markdown",
   "metadata": {},
   "source": [
    "Using scatter to compare two numerical variable."
   ]
  },
  {
   "cell_type": "code",
   "execution_count": 30,
   "metadata": {},
   "outputs": [
    {
     "data": {
      "image/png": "[encoded data removed]",
      "text/plain": [
       "<Figure size 432x288 with 1 Axes>"
      ]
     },
     "metadata": {
      "needs_background": "light"
     },
     "output_type": "display_data"
    }
   ],
   "source": [
    "df_top.boxplot(by='condition', column='price')\n",
    "plt.show()"
   ]
  },
  {
   "cell_type": "code",
   "execution_count": 30,
   "metadata": {},
   "outputs": [],
   "source": [
    "#Showing that fair condition is the cheapest while new vehicles are the most expensive."
   ]
  },
  {
   "cell_type": "markdown",
   "metadata": {},
   "source": [
    "<div class=\"alert alert-block alert-success\">\n",
    "<b>Reviewer's comment 2:</b>\n",
    "\n",
    "It is great you found this fact!\n",
    "\n",
    "</div>\n"
   ]
  },
  {
   "cell_type": "code",
   "execution_count": 31,
   "metadata": {},
   "outputs": [
    {
     "data": {
      "image/png": "[encoded data removed]",
      "text/plain": [
       "<Figure size 432x288 with 1 Axes>"
      ]
     },
     "metadata": {
      "needs_background": "light"
     },
     "output_type": "display_data"
    }
   ],
   "source": [
    "df_top.boxplot(by='type', column='price')\n",
    "plt.show()"
   ]
  },
  {
   "cell_type": "markdown",
   "metadata": {},
   "source": [
    "<div class=\"alert alert-block alert-warning\">\n",
    "<b>Reviewer's comment 2:</b> \n",
    "    \n",
    "To avoid these warnings we can use:\n",
    "    \n",
    "    import warnings\n",
    "    warnings.filterwarnings(\"ignore\")\n",
    "</div>"
   ]
  },
  {
   "cell_type": "code",
   "execution_count": 32,
   "metadata": {},
   "outputs": [],
   "source": [
    "#Comparing the type and price for the top two kind of vehicles. The price for the two is within the same range."
   ]
  },
  {
   "cell_type": "code",
   "execution_count": 32,
   "metadata": {},
   "outputs": [
    {
     "data": {
      "image/png": "[encoded data removed]",
      "text/plain": [
       "<Figure size 432x288 with 1 Axes>"
      ]
     },
     "metadata": {
      "needs_background": "light"
     },
     "output_type": "display_data"
    }
   ],
   "source": [
    "df_top.boxplot(by='model_year', column='price', whis='range', rot=45)\n",
    "plt.show()"
   ]
  },
  {
   "cell_type": "code",
   "execution_count": 34,
   "metadata": {},
   "outputs": [],
   "source": [
    "#Showing the model_year, price and range for the top two kind of vehicles. The recent the vehicle the higher the price."
   ]
  },
  {
   "cell_type": "markdown",
   "metadata": {},
   "source": [
    "<div class=\"alert alert-block alert-warning\">\n",
    "<b>Reviewer's comment 2:</b>\n",
    "\n",
    "This and other plots may change after you fill missings, don't be surprised\n",
    "\n",
    "</div>\n"
   ]
  },
  {
   "cell_type": "code",
   "execution_count": 33,
   "metadata": {},
   "outputs": [
    {
     "data": {
      "image/png": "[encoded data removed]",
      "text/plain": [
       "<Figure size 432x288 with 1 Axes>"
      ]
     },
     "metadata": {
      "needs_background": "light"
     },
     "output_type": "display_data"
    }
   ],
   "source": [
    "df_top.boxplot(by='paint_color', column='price', rot=45)\n",
    "plt.show()"
   ]
  },
  {
   "cell_type": "code",
   "execution_count": 36,
   "metadata": {},
   "outputs": [],
   "source": [
    "#Comparing the paint_color and the price of the top two kind of vehicles. All colors are below the price of 30000."
   ]
  },
  {
   "cell_type": "markdown",
   "metadata": {},
   "source": [
    "\n",
    "\n",
    "<div class=\"alert alert-block alert-danger\">\n",
    "<b>Reviewer's comment:</b> \n",
    "    \n",
    "Thank you so much for providing this project! \n",
    "In this sprint, it is important not only to reach the correct conclusion but to show and explain the way and its reasons.\n",
    "Also, a well-structured and detailed overall conclusion is required for making some data-driven decisions. I hope, my comments are useful for your skills and coding improvement, use them all ;)\n",
    "It is not the final version, so you can ask me some questions and write about your difficulties during this homework, we'll master it together =)\n",
    "    \n",
    "If you had any trouble or questions along the way, remember that you can always reach out to your tutor for any clarification.\n",
    "</div>"
   ]
  },
  {
   "cell_type": "markdown",
   "metadata": {},
   "source": [
    "Any potential customer wants to know how diferent variable such as age of the vehicle, type, odometer condition and color affect the price of the vehicle. This analysis would be helpful for the customer to make meanful and realistic decision that are driven by real data. Example SUV have fair prices and that has made them most popular."
   ]
  },
  {
   "cell_type": "markdown",
   "metadata": {},
   "source": [
    "<div class=\"alert alert-block alert-danger\">\n",
    "<b>Reviewer's comment 2:</b>\n",
    "\n",
    "I see you have an understanding of tendencies in selling cars, ok =) After the great work, you made we know, that different factors have different impacts on the price.\n",
    "Example: \n",
    "    For SUV's the most impact factors are .... \n",
    "    Cars with ... have higher price, than ....\n",
    "    The most often odometer is between ... and ...\n",
    "    Average price for ...(determined type)... is ..., but we have X cars with (some extremal value).\n",
    "\n",
    "These conclusions intend the customer to make priorities in selling cars of some type, change the price of posting for sale or include additional data / exclude factors that has an impact on prices\n",
    "\n",
    "</div>\n"
   ]
  },
  {
   "cell_type": "markdown",
   "metadata": {},
   "source": [
    "<div class=\"alert alert-block alert-success\">\n",
    "<b>Reviewer's comment 2:</b>\n",
    "\n",
    "I believe, you can easily describe these dependencies ;)\n",
    "\n",
    "</div>\n"
   ]
  }
 ],
 "metadata": {
  "kernelspec": {
   "display_name": "Python 3",
   "language": "python",
   "name": "python3"
  },
  "language_info": {
   "codemirror_mode": {
    "name": "ipython",
    "version": 3
   },
   "file_extension": ".py",
   "mimetype": "text/x-python",
   "name": "python",
   "nbconvert_exporter": "python",
   "pygments_lexer": "ipython3",
   "version": "3.8.5"
  },
  "toc": {
   "base_numbering": 1,
   "nav_menu": {},
   "number_sections": true,
   "sideBar": true,
   "skip_h1_title": true,
   "title_cell": "Table of Contents",
   "title_sidebar": "Contents",
   "toc_cell": false,
   "toc_position": {},
   "toc_section_display": true,
   "toc_window_display": false
  }
 },
 "nbformat": 4,
 "nbformat_minor": 4
}
