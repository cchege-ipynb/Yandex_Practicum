{
 "cells": [
  {
   "cell_type": "markdown",
   "metadata": {},
   "source": [
    "## Determining the plan with the highest revenue for a Telecom Company"
   ]
  },
  {
   "cell_type": "markdown",
   "metadata": {},
   "source": [
    "**This project shows;**\n",
    "- ability to write structured Python codes.\n",
    "- ability to use existing libraries to process and analyze data.\n",
    "- ability to use data pre-processing skills.\n",
    "- ability to use exploratory analysis skills.\n",
    "- ability to use statistical analysis skills."
   ]
  },
  {
   "cell_type": "markdown",
   "metadata": {},
   "source": [
    "**The project involves;**\n",
    "- How to explain the problems identified in the data\n",
    "- Data preparation for analysis\n",
    "- Graphs plotting for distributions\n",
    "- Interpretation of the resulting graphs\n",
    "- Calculation of standard deviation and variance\n",
    "- Formulation of the alternative and null hypotheses\n",
    "- Using different methods to test hypotheses\n",
    "- The interpretation of the results of the hypothesis tests\n",
    "- Comments at each step\n",
    "- General conclusions"
   ]
  },
  {
   "cell_type": "markdown",
   "metadata": {},
   "source": [
    "## Description of the data\n",
    "**The *users* table (data on users):**\\\n",
    "*user_id* — unique user identifier\\\n",
    "*first_name* — user's name\\\n",
    "*last_name* — user's last name\\\n",
    "*age* — user's age (years)\\\n",
    "*reg_date* — subscription date (dd, mm, yy)\\\n",
    "*churn_date* — the date the user stopped using the service (if the value is missing, the calling plan was being used when this database was extracted)\n",
    "*city* — user's city of residence\\\n",
    "*plan* — calling plan name\n",
    "\n",
    "**The *calls* table (data on calls):**\\\n",
    "*id* — unique call identifier\\\n",
    "*call_date* — call date\\\n",
    "*duration* — call duration (in minutes)\\\n",
    "*user_id* — the identifier of the user making the call\n",
    "\n",
    "**The *messages* table (data on texts):**\\\n",
    "*id* — unique text message identifier\\\n",
    "*message_date* — text message date\\\n",
    "*user_id* — the identifier of the user sending the text\n",
    "\n",
    "**The *internet* table (data on web sessions):**\\\n",
    "*id* — unique session identifier\\\n",
    "*mb_used* — the volume of data spent during the session (in megabytes)\\\n",
    "*session_date* — web session date\\\n",
    "*user_id* — user identifier\n",
    "\n",
    "**The *plans* table (data on the plans):**\\\n",
    "*plan_name* — calling plan name\\\n",
    "*usd_monthly_fee* — monthly charge in US dollars\\\n",
    "*minutes_included* — monthly minute allowance\\\n",
    "*messages_included* — monthly text allowance\\\n",
    "*mb_per_month_included* — data volume allowance (in megabytes)\\\n",
    "*usd_per_minute* — price per minute after exceeding the package limits (e.g., if the package includes 100 minutes, the 101st minute will be charged)\\\n",
    "*usd_per_message* — price per text after exceeding the package limits\\\n",
    "*usd_per_gb* — price per extra gigabyte of data after exceeding the package limits (1 GB = 1024 megabytes)\\"
   ]
  },
  {
   "cell_type": "markdown",
   "metadata": {},
   "source": [
    "## Task\n",
    "As an analyst for the telecom operator Megaline. The company offers its clients two prepaid plans, Surf and Ultimate. The commercial department wants to know which of the plans brings in more revenue in order to adjust the advertising budget."
   ]
  },
  {
   "cell_type": "markdown",
   "metadata": {},
   "source": [
    "## Libraries Used\n",
    "_pandas numpy matplotlib scipy_"
   ]
  }
 ],
 "metadata": {
  "kernelspec": {
   "display_name": "Python 3",
   "language": "python",
   "name": "python3"
  },
  "language_info": {
   "codemirror_mode": {
    "name": "ipython",
    "version": 3
   },
   "file_extension": ".py",
   "mimetype": "text/x-python",
   "name": "python",
   "nbconvert_exporter": "python",
   "pygments_lexer": "ipython3",
   "version": "3.8.5"
  }
 },
 "nbformat": 4,
 "nbformat_minor": 4
}
