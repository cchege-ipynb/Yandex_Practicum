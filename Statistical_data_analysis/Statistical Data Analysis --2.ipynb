{
 "cells": [
  {
   "cell_type": "markdown",
   "metadata": {},
   "source": [
    "You work as an analyst for the telecom operator Megaline. The company offers its clients two prepaid plans, Surf and Ultimate. The commercial department wants to know which of the plans brings in more revenue in order to adjust the advertising budget.\n",
    "You are going to carry out a preliminary analysis of the plans based on a relatively small client selection. You'll have the data on 500 Megaline clients: who the clients are, where they're from, which plan they use, and the number of calls they made and text messages they sent in 2018. Your job is to analyze clients' behavior and determine which prepaid plan brings in more revenue."
   ]
  },
  {
   "cell_type": "code",
   "execution_count": 102,
   "metadata": {},
   "outputs": [
    {
     "name": "stdout",
     "output_type": "stream",
     "text": [
      "<class 'pandas.core.frame.DataFrame'>\n",
      "RangeIndex: 137735 entries, 0 to 137734\n",
      "Data columns (total 4 columns):\n",
      "id           137735 non-null object\n",
      "user_id      137735 non-null int64\n",
      "call_date    137735 non-null object\n",
      "duration     137735 non-null float64\n",
      "dtypes: float64(1), int64(1), object(2)\n",
      "memory usage: 4.2+ MB\n"
     ]
    },
    {
     "data": {
      "text/plain": [
       "None"
      ]
     },
     "metadata": {},
     "output_type": "display_data"
    },
    {
     "name": "stdout",
     "output_type": "stream",
     "text": [
      "\n",
      "<class 'pandas.core.frame.DataFrame'>\n",
      "RangeIndex: 104825 entries, 0 to 104824\n",
      "Data columns (total 4 columns):\n",
      "id              104825 non-null object\n",
      "user_id         104825 non-null int64\n",
      "session_date    104825 non-null object\n",
      "mb_used         104825 non-null float64\n",
      "dtypes: float64(1), int64(1), object(2)\n",
      "memory usage: 3.2+ MB\n"
     ]
    },
    {
     "data": {
      "text/plain": [
       "None"
      ]
     },
     "metadata": {},
     "output_type": "display_data"
    },
    {
     "name": "stdout",
     "output_type": "stream",
     "text": [
      "\n",
      "<class 'pandas.core.frame.DataFrame'>\n",
      "RangeIndex: 76051 entries, 0 to 76050\n",
      "Data columns (total 3 columns):\n",
      "id              76051 non-null object\n",
      "user_id         76051 non-null int64\n",
      "message_date    76051 non-null object\n",
      "dtypes: int64(1), object(2)\n",
      "memory usage: 1.7+ MB\n"
     ]
    },
    {
     "data": {
      "text/plain": [
       "None"
      ]
     },
     "metadata": {},
     "output_type": "display_data"
    },
    {
     "name": "stdout",
     "output_type": "stream",
     "text": [
      "\n",
      "<class 'pandas.core.frame.DataFrame'>\n",
      "RangeIndex: 2 entries, 0 to 1\n",
      "Data columns (total 8 columns):\n",
      "messages_included        2 non-null int64\n",
      "mb_per_month_included    2 non-null int64\n",
      "minutes_included         2 non-null int64\n",
      "usd_monthly_pay          2 non-null int64\n",
      "usd_per_gb               2 non-null int64\n",
      "usd_per_message          2 non-null float64\n",
      "usd_per_minute           2 non-null float64\n",
      "plan_name                2 non-null object\n",
      "dtypes: float64(2), int64(5), object(1)\n",
      "memory usage: 256.0+ bytes\n"
     ]
    },
    {
     "data": {
      "text/plain": [
       "None"
      ]
     },
     "metadata": {},
     "output_type": "display_data"
    },
    {
     "name": "stdout",
     "output_type": "stream",
     "text": [
      "\n",
      "<class 'pandas.core.frame.DataFrame'>\n",
      "RangeIndex: 500 entries, 0 to 499\n",
      "Data columns (total 8 columns):\n",
      "user_id       500 non-null int64\n",
      "first_name    500 non-null object\n",
      "last_name     500 non-null object\n",
      "age           500 non-null int64\n",
      "city          500 non-null object\n",
      "reg_date      500 non-null object\n",
      "plan          500 non-null object\n",
      "churn_date    34 non-null object\n",
      "dtypes: int64(2), object(6)\n",
      "memory usage: 31.4+ KB\n"
     ]
    },
    {
     "data": {
      "text/plain": [
       "None"
      ]
     },
     "metadata": {},
     "output_type": "display_data"
    },
    {
     "name": "stdout",
     "output_type": "stream",
     "text": [
      "\n"
     ]
    }
   ],
   "source": [
    "import numpy as np\n",
    "import pandas as pd\n",
    "import matplotlib.pyplot as plt\n",
    "from scipy import stats as st\n",
    "\n",
    "try:\n",
    "    df1 = pd.read_csv('C:/Users/Cchege/Documents/CC/stats_datasets/megaline_calls.csv')\n",
    "    df2 = pd.read_csv('C:/Users/Cchege/Documents/CC/stats_datasets/megaline_internet.csv')\n",
    "    df3 = pd.read_csv('C:/Users/Cchege/Documents/CC/stats_datasets/megaline_messages.csv')\n",
    "    df4 = pd.read_csv('C:/Users/Cchege/Documents/CC/stats_datasets/megaline_plans.csv')\n",
    "    df5 = pd.read_csv('C:/Users/Cchege/Documents/CC/stats_datasets/megaline_users.csv')\n",
    "except:\n",
    "    df1 = pd.read_csv('/datasets/megaline_calls.csv')\n",
    "    df2 = pd.read_csv('/datasets/megaline_internet.csv')\n",
    "    df3 = pd.read_csv('/datasets/megaline_messages.csv')\n",
    "    df4 = pd.read_csv('/datasets/megaline_plans.csv')\n",
    "    df5 = pd.read_csv('/datasets/megaline_users.csv')\n",
    "\n",
    "for each_dataset in [df1, df2, df3, df4, df5]: \n",
    "    display(each_dataset.info()) \n",
    "    print()"
   ]
  },
  {
   "cell_type": "markdown",
   "metadata": {},
   "source": [
    "Comment: I have had to upload the code as the kernel for the other is not restarting from my end. Kindly use the commented part to use it on your platform."
   ]
  },
  {
   "cell_type": "markdown",
   "metadata": {},
   "source": [
    "Studying the content of the data."
   ]
  },
  {
   "cell_type": "markdown",
   "metadata": {},
   "source": [
    "2. Changing datatypes"
   ]
  },
  {
   "cell_type": "code",
   "execution_count": 103,
   "metadata": {},
   "outputs": [
    {
     "name": "stdout",
     "output_type": "stream",
     "text": [
      "<class 'pandas.core.frame.DataFrame'>\n",
      "RangeIndex: 137735 entries, 0 to 137734\n",
      "Data columns (total 4 columns):\n",
      "id           137735 non-null object\n",
      "user_id      137735 non-null int64\n",
      "call_date    137735 non-null datetime64[ns]\n",
      "duration     137735 non-null float64\n",
      "dtypes: datetime64[ns](1), float64(1), int64(1), object(1)\n",
      "memory usage: 4.2+ MB\n",
      "None\n"
     ]
    },
    {
     "data": {
      "text/plain": [
       "pandas._libs.tslibs.timestamps.Timestamp"
      ]
     },
     "execution_count": 103,
     "metadata": {},
     "output_type": "execute_result"
    }
   ],
   "source": [
    "df1['call_date']= pd.to_datetime(df1['call_date'])\n",
    "\n",
    "print(df1.info())\n",
    "type(df1['call_date'][0])"
   ]
  },
  {
   "cell_type": "code",
   "execution_count": 104,
   "metadata": {},
   "outputs": [
    {
     "name": "stdout",
     "output_type": "stream",
     "text": [
      "<class 'pandas.core.frame.DataFrame'>\n",
      "RangeIndex: 104825 entries, 0 to 104824\n",
      "Data columns (total 4 columns):\n",
      "id              104825 non-null object\n",
      "user_id         104825 non-null int64\n",
      "session_date    104825 non-null datetime64[ns]\n",
      "mb_used         104825 non-null float64\n",
      "dtypes: datetime64[ns](1), float64(1), int64(1), object(1)\n",
      "memory usage: 3.2+ MB\n",
      "None\n"
     ]
    },
    {
     "data": {
      "text/plain": [
       "pandas._libs.tslibs.timestamps.Timestamp"
      ]
     },
     "execution_count": 104,
     "metadata": {},
     "output_type": "execute_result"
    }
   ],
   "source": [
    "df2['session_date']= pd.to_datetime(df2['session_date'])\n",
    "\n",
    "print(df2.info())\n",
    "type(df2['session_date'][0])"
   ]
  },
  {
   "cell_type": "code",
   "execution_count": 105,
   "metadata": {},
   "outputs": [
    {
     "name": "stdout",
     "output_type": "stream",
     "text": [
      "<class 'pandas.core.frame.DataFrame'>\n",
      "RangeIndex: 76051 entries, 0 to 76050\n",
      "Data columns (total 3 columns):\n",
      "id              76051 non-null object\n",
      "user_id         76051 non-null int64\n",
      "message_date    76051 non-null datetime64[ns]\n",
      "dtypes: datetime64[ns](1), int64(1), object(1)\n",
      "memory usage: 1.7+ MB\n",
      "None\n"
     ]
    },
    {
     "data": {
      "text/plain": [
       "pandas._libs.tslibs.timestamps.Timestamp"
      ]
     },
     "execution_count": 105,
     "metadata": {},
     "output_type": "execute_result"
    }
   ],
   "source": [
    "df3['message_date']= pd.to_datetime(df3['message_date'])\n",
    "\n",
    "print(df3.info())\n",
    "type(df3['message_date'][0])"
   ]
  },
  {
   "cell_type": "code",
   "execution_count": 106,
   "metadata": {},
   "outputs": [
    {
     "name": "stdout",
     "output_type": "stream",
     "text": [
      "<class 'pandas.core.frame.DataFrame'>\n",
      "RangeIndex: 500 entries, 0 to 499\n",
      "Data columns (total 8 columns):\n",
      "user_id       500 non-null int64\n",
      "first_name    500 non-null object\n",
      "last_name     500 non-null object\n",
      "age           500 non-null int64\n",
      "city          500 non-null object\n",
      "reg_date      500 non-null datetime64[ns]\n",
      "plan          500 non-null object\n",
      "churn_date    34 non-null datetime64[ns]\n",
      "dtypes: datetime64[ns](2), int64(2), object(4)\n",
      "memory usage: 31.4+ KB\n",
      "None\n"
     ]
    },
    {
     "data": {
      "text/plain": [
       "pandas._libs.tslibs.timestamps.Timestamp"
      ]
     },
     "execution_count": 106,
     "metadata": {},
     "output_type": "execute_result"
    }
   ],
   "source": [
    "df5['reg_date']= pd.to_datetime(df5['reg_date'])\n",
    "df5['churn_date']= pd.to_datetime(df5['churn_date'])\n",
    "print(df5.info())\n",
    "type(df5['reg_date'][0])"
   ]
  },
  {
   "cell_type": "markdown",
   "metadata": {},
   "source": [
    "All fields with dates were of datatype object instead of datetime for them to be distinct and useable later on in the project."
   ]
  },
  {
   "cell_type": "code",
   "execution_count": 107,
   "metadata": {},
   "outputs": [
    {
     "name": "stdout",
     "output_type": "stream",
     "text": [
      "       duration2     id\n",
      "month                  \n",
      "1         1180.0    172\n",
      "2         5495.0    774\n",
      "3        11241.0   1620\n",
      "4        24651.0   3442\n",
      "5        42549.0   5959\n",
      "6        59271.0   8221\n",
      "7        79645.0  11105\n",
      "8        96360.0  13590\n",
      "9       117986.0  16523\n",
      "10      149624.0  21064\n",
      "11      176341.0  24651\n",
      "12      220004.0  30614\n"
     ]
    }
   ],
   "source": [
    "df1['month'] = df1['call_date'].dt.month\n",
    "\n",
    "df1['duration2'] = df1['duration'].apply(np.ceil)\n",
    "call_stat = df1.pivot_table(index='month', values= ['duration2','id'],aggfunc ={\"id\":len, \"duration2\":np.sum})\n",
    "\n",
    "print(call_stat)"
   ]
  },
  {
   "cell_type": "code",
   "execution_count": 108,
   "metadata": {},
   "outputs": [
    {
     "name": "stdout",
     "output_type": "stream",
     "text": [
      "          id  mb_used_2\n",
      "month                  \n",
      "1         96    37467.0\n",
      "2        604   229778.0\n",
      "3       1336   527387.0\n",
      "4       2558   938860.0\n",
      "5       4288  1557069.0\n",
      "6       6057  2207688.0\n",
      "7       8110  2998642.0\n",
      "8      10718  3990285.0\n",
      "9      12722  4683605.0\n",
      "10     16193  5976736.0\n",
      "11     18651  6795276.0\n",
      "12     23492  8542959.0\n"
     ]
    }
   ],
   "source": [
    "df2['month'] = df2['session_date'].dt.month\n",
    "\n",
    "df2['mb_used_2'] = df2['mb_used'].apply(np.ceil)\n",
    "data_stat = df2.pivot_table(index='month', values= ['mb_used_2','id'],aggfunc ={\"id\":len, \"mb_used_2\":np.sum})\n",
    "\n",
    "print(data_stat)"
   ]
  },
  {
   "cell_type": "markdown",
   "metadata": {},
   "source": [
    "Showing the number of calls and data usage per month with the call duration and data usage rounded to the nearest integer minute and integer value mb respectively."
   ]
  },
  {
   "cell_type": "markdown",
   "metadata": {},
   "source": [
    "Analysing  calls data to get the mean, variance and stardard deviation."
   ]
  },
  {
   "cell_type": "code",
   "execution_count": 109,
   "metadata": {},
   "outputs": [
    {
     "data": {
      "text/html": [
       "<div>\n",
       "<style scoped>\n",
       "    .dataframe tbody tr th:only-of-type {\n",
       "        vertical-align: middle;\n",
       "    }\n",
       "\n",
       "    .dataframe tbody tr th {\n",
       "        vertical-align: top;\n",
       "    }\n",
       "\n",
       "    .dataframe thead th {\n",
       "        text-align: right;\n",
       "    }\n",
       "</style>\n",
       "<table border=\"1\" class=\"dataframe\">\n",
       "  <thead>\n",
       "    <tr style=\"text-align: right;\">\n",
       "      <th></th>\n",
       "      <th>count</th>\n",
       "      <th>mean</th>\n",
       "      <th>std</th>\n",
       "      <th>min</th>\n",
       "      <th>25%</th>\n",
       "      <th>50%</th>\n",
       "      <th>75%</th>\n",
       "      <th>max</th>\n",
       "    </tr>\n",
       "    <tr>\n",
       "      <th>month</th>\n",
       "      <th></th>\n",
       "      <th></th>\n",
       "      <th></th>\n",
       "      <th></th>\n",
       "      <th></th>\n",
       "      <th></th>\n",
       "      <th></th>\n",
       "      <th></th>\n",
       "    </tr>\n",
       "  </thead>\n",
       "  <tbody>\n",
       "    <tr>\n",
       "      <td>1</td>\n",
       "      <td>172.0</td>\n",
       "      <td>6.860465</td>\n",
       "      <td>5.838294</td>\n",
       "      <td>0.0</td>\n",
       "      <td>1.75</td>\n",
       "      <td>6.0</td>\n",
       "      <td>11.0</td>\n",
       "      <td>26.0</td>\n",
       "    </tr>\n",
       "    <tr>\n",
       "      <td>2</td>\n",
       "      <td>774.0</td>\n",
       "      <td>7.099483</td>\n",
       "      <td>5.952522</td>\n",
       "      <td>0.0</td>\n",
       "      <td>2.00</td>\n",
       "      <td>6.0</td>\n",
       "      <td>11.0</td>\n",
       "      <td>32.0</td>\n",
       "    </tr>\n",
       "    <tr>\n",
       "      <td>3</td>\n",
       "      <td>1620.0</td>\n",
       "      <td>6.938889</td>\n",
       "      <td>5.816472</td>\n",
       "      <td>0.0</td>\n",
       "      <td>2.00</td>\n",
       "      <td>6.0</td>\n",
       "      <td>11.0</td>\n",
       "      <td>29.0</td>\n",
       "    </tr>\n",
       "    <tr>\n",
       "      <td>4</td>\n",
       "      <td>3442.0</td>\n",
       "      <td>7.161825</td>\n",
       "      <td>5.861098</td>\n",
       "      <td>0.0</td>\n",
       "      <td>2.00</td>\n",
       "      <td>7.0</td>\n",
       "      <td>11.0</td>\n",
       "      <td>31.0</td>\n",
       "    </tr>\n",
       "    <tr>\n",
       "      <td>5</td>\n",
       "      <td>5959.0</td>\n",
       "      <td>7.140292</td>\n",
       "      <td>5.991276</td>\n",
       "      <td>0.0</td>\n",
       "      <td>2.00</td>\n",
       "      <td>6.0</td>\n",
       "      <td>11.0</td>\n",
       "      <td>34.0</td>\n",
       "    </tr>\n",
       "    <tr>\n",
       "      <td>6</td>\n",
       "      <td>8221.0</td>\n",
       "      <td>7.209707</td>\n",
       "      <td>5.999680</td>\n",
       "      <td>0.0</td>\n",
       "      <td>2.00</td>\n",
       "      <td>7.0</td>\n",
       "      <td>11.0</td>\n",
       "      <td>36.0</td>\n",
       "    </tr>\n",
       "    <tr>\n",
       "      <td>7</td>\n",
       "      <td>11105.0</td>\n",
       "      <td>7.171995</td>\n",
       "      <td>5.930155</td>\n",
       "      <td>0.0</td>\n",
       "      <td>2.00</td>\n",
       "      <td>6.0</td>\n",
       "      <td>11.0</td>\n",
       "      <td>32.0</td>\n",
       "    </tr>\n",
       "    <tr>\n",
       "      <td>8</td>\n",
       "      <td>13590.0</td>\n",
       "      <td>7.090508</td>\n",
       "      <td>5.934223</td>\n",
       "      <td>0.0</td>\n",
       "      <td>2.00</td>\n",
       "      <td>6.0</td>\n",
       "      <td>11.0</td>\n",
       "      <td>37.0</td>\n",
       "    </tr>\n",
       "    <tr>\n",
       "      <td>9</td>\n",
       "      <td>16523.0</td>\n",
       "      <td>7.140713</td>\n",
       "      <td>5.985203</td>\n",
       "      <td>0.0</td>\n",
       "      <td>2.00</td>\n",
       "      <td>6.0</td>\n",
       "      <td>11.0</td>\n",
       "      <td>38.0</td>\n",
       "    </tr>\n",
       "    <tr>\n",
       "      <td>10</td>\n",
       "      <td>21064.0</td>\n",
       "      <td>7.103304</td>\n",
       "      <td>5.940754</td>\n",
       "      <td>0.0</td>\n",
       "      <td>2.00</td>\n",
       "      <td>6.0</td>\n",
       "      <td>11.0</td>\n",
       "      <td>33.0</td>\n",
       "    </tr>\n",
       "    <tr>\n",
       "      <td>11</td>\n",
       "      <td>24651.0</td>\n",
       "      <td>7.153503</td>\n",
       "      <td>5.948300</td>\n",
       "      <td>0.0</td>\n",
       "      <td>2.00</td>\n",
       "      <td>7.0</td>\n",
       "      <td>11.0</td>\n",
       "      <td>36.0</td>\n",
       "    </tr>\n",
       "    <tr>\n",
       "      <td>12</td>\n",
       "      <td>30614.0</td>\n",
       "      <td>7.186385</td>\n",
       "      <td>5.966819</td>\n",
       "      <td>0.0</td>\n",
       "      <td>2.00</td>\n",
       "      <td>7.0</td>\n",
       "      <td>11.0</td>\n",
       "      <td>33.0</td>\n",
       "    </tr>\n",
       "  </tbody>\n",
       "</table>\n",
       "</div>"
      ],
      "text/plain": [
       "         count      mean       std  min   25%  50%   75%   max\n",
       "month                                                         \n",
       "1        172.0  6.860465  5.838294  0.0  1.75  6.0  11.0  26.0\n",
       "2        774.0  7.099483  5.952522  0.0  2.00  6.0  11.0  32.0\n",
       "3       1620.0  6.938889  5.816472  0.0  2.00  6.0  11.0  29.0\n",
       "4       3442.0  7.161825  5.861098  0.0  2.00  7.0  11.0  31.0\n",
       "5       5959.0  7.140292  5.991276  0.0  2.00  6.0  11.0  34.0\n",
       "6       8221.0  7.209707  5.999680  0.0  2.00  7.0  11.0  36.0\n",
       "7      11105.0  7.171995  5.930155  0.0  2.00  6.0  11.0  32.0\n",
       "8      13590.0  7.090508  5.934223  0.0  2.00  6.0  11.0  37.0\n",
       "9      16523.0  7.140713  5.985203  0.0  2.00  6.0  11.0  38.0\n",
       "10     21064.0  7.103304  5.940754  0.0  2.00  6.0  11.0  33.0\n",
       "11     24651.0  7.153503  5.948300  0.0  2.00  7.0  11.0  36.0\n",
       "12     30614.0  7.186385  5.966819  0.0  2.00  7.0  11.0  33.0"
      ]
     },
     "execution_count": 109,
     "metadata": {},
     "output_type": "execute_result"
    }
   ],
   "source": [
    "df1.groupby('month').duration2.describe()\n"
   ]
  },
  {
   "cell_type": "code",
   "execution_count": 110,
   "metadata": {},
   "outputs": [
    {
     "data": {
      "image/png": "[encoded data removed]",
      "text/plain": [
       "<Figure size 432x288 with 1 Axes>"
      ]
     },
     "metadata": {
      "needs_background": "light"
     },
     "output_type": "display_data"
    }
   ],
   "source": [
    "#Showing the distribution of the call duration per month.\n",
    "\n",
    "df1.month.hist(bins=100)\n",
    "plt.title('Distribution of the call duration per month')\n",
    "plt.xlabel('Month of the Year')\n",
    "plt.ylabel('Calls duration in minutes')\n",
    "plt.show()"
   ]
  },
  {
   "cell_type": "code",
   "execution_count": 111,
   "metadata": {},
   "outputs": [
    {
     "name": "stdout",
     "output_type": "stream",
     "text": [
      "          id\n",
      "month       \n",
      "1         83\n",
      "2        259\n",
      "3        594\n",
      "4       1333\n",
      "5       2780\n",
      "6       3833\n",
      "7       5208\n",
      "8       7394\n",
      "9       9227\n",
      "10     12201\n",
      "11     14068\n",
      "12     19071\n"
     ]
    },
    {
     "data": {
      "text/html": [
       "<div>\n",
       "<style scoped>\n",
       "    .dataframe tbody tr th:only-of-type {\n",
       "        vertical-align: middle;\n",
       "    }\n",
       "\n",
       "    .dataframe tbody tr th {\n",
       "        vertical-align: top;\n",
       "    }\n",
       "\n",
       "    .dataframe thead tr th {\n",
       "        text-align: left;\n",
       "    }\n",
       "\n",
       "    .dataframe thead tr:last-of-type th {\n",
       "        text-align: right;\n",
       "    }\n",
       "</style>\n",
       "<table border=\"1\" class=\"dataframe\">\n",
       "  <thead>\n",
       "    <tr>\n",
       "      <th></th>\n",
       "      <th colspan=\"8\" halign=\"left\">user_id</th>\n",
       "    </tr>\n",
       "    <tr>\n",
       "      <th></th>\n",
       "      <th>count</th>\n",
       "      <th>mean</th>\n",
       "      <th>std</th>\n",
       "      <th>min</th>\n",
       "      <th>25%</th>\n",
       "      <th>50%</th>\n",
       "      <th>75%</th>\n",
       "      <th>max</th>\n",
       "    </tr>\n",
       "    <tr>\n",
       "      <th>month</th>\n",
       "      <th></th>\n",
       "      <th></th>\n",
       "      <th></th>\n",
       "      <th></th>\n",
       "      <th></th>\n",
       "      <th></th>\n",
       "      <th></th>\n",
       "      <th></th>\n",
       "    </tr>\n",
       "  </thead>\n",
       "  <tbody>\n",
       "    <tr>\n",
       "      <td>1</td>\n",
       "      <td>83.0</td>\n",
       "      <td>1185.385542</td>\n",
       "      <td>115.501540</td>\n",
       "      <td>1077.0</td>\n",
       "      <td>1077.0</td>\n",
       "      <td>1196.0</td>\n",
       "      <td>1288.0</td>\n",
       "      <td>1362.0</td>\n",
       "    </tr>\n",
       "    <tr>\n",
       "      <td>2</td>\n",
       "      <td>259.0</td>\n",
       "      <td>1223.208494</td>\n",
       "      <td>127.268847</td>\n",
       "      <td>1028.0</td>\n",
       "      <td>1077.0</td>\n",
       "      <td>1214.0</td>\n",
       "      <td>1362.0</td>\n",
       "      <td>1408.0</td>\n",
       "    </tr>\n",
       "    <tr>\n",
       "      <td>3</td>\n",
       "      <td>594.0</td>\n",
       "      <td>1221.388889</td>\n",
       "      <td>134.734547</td>\n",
       "      <td>1028.0</td>\n",
       "      <td>1077.0</td>\n",
       "      <td>1246.0</td>\n",
       "      <td>1362.0</td>\n",
       "      <td>1445.0</td>\n",
       "    </tr>\n",
       "    <tr>\n",
       "      <td>4</td>\n",
       "      <td>1333.0</td>\n",
       "      <td>1236.998500</td>\n",
       "      <td>126.031248</td>\n",
       "      <td>1028.0</td>\n",
       "      <td>1132.0</td>\n",
       "      <td>1251.0</td>\n",
       "      <td>1328.0</td>\n",
       "      <td>1491.0</td>\n",
       "    </tr>\n",
       "    <tr>\n",
       "      <td>5</td>\n",
       "      <td>2780.0</td>\n",
       "      <td>1243.598561</td>\n",
       "      <td>135.130694</td>\n",
       "      <td>1004.0</td>\n",
       "      <td>1131.0</td>\n",
       "      <td>1257.0</td>\n",
       "      <td>1336.0</td>\n",
       "      <td>1491.0</td>\n",
       "    </tr>\n",
       "    <tr>\n",
       "      <td>6</td>\n",
       "      <td>3833.0</td>\n",
       "      <td>1252.968432</td>\n",
       "      <td>140.417404</td>\n",
       "      <td>1004.0</td>\n",
       "      <td>1126.0</td>\n",
       "      <td>1261.0</td>\n",
       "      <td>1361.0</td>\n",
       "      <td>1491.0</td>\n",
       "    </tr>\n",
       "    <tr>\n",
       "      <td>7</td>\n",
       "      <td>5208.0</td>\n",
       "      <td>1247.325461</td>\n",
       "      <td>142.205259</td>\n",
       "      <td>1004.0</td>\n",
       "      <td>1126.0</td>\n",
       "      <td>1251.0</td>\n",
       "      <td>1362.0</td>\n",
       "      <td>1494.0</td>\n",
       "    </tr>\n",
       "    <tr>\n",
       "      <td>8</td>\n",
       "      <td>7394.0</td>\n",
       "      <td>1241.752502</td>\n",
       "      <td>139.680746</td>\n",
       "      <td>1001.0</td>\n",
       "      <td>1116.0</td>\n",
       "      <td>1247.0</td>\n",
       "      <td>1347.0</td>\n",
       "      <td>1496.0</td>\n",
       "    </tr>\n",
       "    <tr>\n",
       "      <td>9</td>\n",
       "      <td>9227.0</td>\n",
       "      <td>1246.469383</td>\n",
       "      <td>140.028186</td>\n",
       "      <td>1001.0</td>\n",
       "      <td>1123.0</td>\n",
       "      <td>1251.0</td>\n",
       "      <td>1357.0</td>\n",
       "      <td>1496.0</td>\n",
       "    </tr>\n",
       "    <tr>\n",
       "      <td>10</td>\n",
       "      <td>12201.0</td>\n",
       "      <td>1247.740595</td>\n",
       "      <td>138.719208</td>\n",
       "      <td>1001.0</td>\n",
       "      <td>1126.0</td>\n",
       "      <td>1251.0</td>\n",
       "      <td>1362.0</td>\n",
       "      <td>1496.0</td>\n",
       "    </tr>\n",
       "    <tr>\n",
       "      <td>11</td>\n",
       "      <td>14068.0</td>\n",
       "      <td>1249.430481</td>\n",
       "      <td>141.016615</td>\n",
       "      <td>1001.0</td>\n",
       "      <td>1124.0</td>\n",
       "      <td>1253.0</td>\n",
       "      <td>1371.0</td>\n",
       "      <td>1496.0</td>\n",
       "    </tr>\n",
       "    <tr>\n",
       "      <td>12</td>\n",
       "      <td>19071.0</td>\n",
       "      <td>1244.223586</td>\n",
       "      <td>140.659121</td>\n",
       "      <td>1000.0</td>\n",
       "      <td>1120.0</td>\n",
       "      <td>1248.0</td>\n",
       "      <td>1365.0</td>\n",
       "      <td>1497.0</td>\n",
       "    </tr>\n",
       "  </tbody>\n",
       "</table>\n",
       "</div>"
      ],
      "text/plain": [
       "       user_id                                                           \\\n",
       "         count         mean         std     min     25%     50%     75%   \n",
       "month                                                                     \n",
       "1         83.0  1185.385542  115.501540  1077.0  1077.0  1196.0  1288.0   \n",
       "2        259.0  1223.208494  127.268847  1028.0  1077.0  1214.0  1362.0   \n",
       "3        594.0  1221.388889  134.734547  1028.0  1077.0  1246.0  1362.0   \n",
       "4       1333.0  1236.998500  126.031248  1028.0  1132.0  1251.0  1328.0   \n",
       "5       2780.0  1243.598561  135.130694  1004.0  1131.0  1257.0  1336.0   \n",
       "6       3833.0  1252.968432  140.417404  1004.0  1126.0  1261.0  1361.0   \n",
       "7       5208.0  1247.325461  142.205259  1004.0  1126.0  1251.0  1362.0   \n",
       "8       7394.0  1241.752502  139.680746  1001.0  1116.0  1247.0  1347.0   \n",
       "9       9227.0  1246.469383  140.028186  1001.0  1123.0  1251.0  1357.0   \n",
       "10     12201.0  1247.740595  138.719208  1001.0  1126.0  1251.0  1362.0   \n",
       "11     14068.0  1249.430481  141.016615  1001.0  1124.0  1253.0  1371.0   \n",
       "12     19071.0  1244.223586  140.659121  1000.0  1120.0  1248.0  1365.0   \n",
       "\n",
       "               \n",
       "          max  \n",
       "month          \n",
       "1      1362.0  \n",
       "2      1408.0  \n",
       "3      1445.0  \n",
       "4      1491.0  \n",
       "5      1491.0  \n",
       "6      1491.0  \n",
       "7      1494.0  \n",
       "8      1496.0  \n",
       "9      1496.0  \n",
       "10     1496.0  \n",
       "11     1496.0  \n",
       "12     1497.0  "
      ]
     },
     "execution_count": 111,
     "metadata": {},
     "output_type": "execute_result"
    }
   ],
   "source": [
    "df3['month'] = df3['message_date'].dt.month\n",
    "\n",
    "message_stat = df3.pivot_table(index='month', values='id',aggfunc ='count')\n",
    "\n",
    "print(message_stat)\n",
    "\n",
    "#Analysing message data to get the mean, variance and stardard deviation.\n",
    "\n",
    "df3.groupby('month').describe()"
   ]
  },
  {
   "cell_type": "code",
   "execution_count": 112,
   "metadata": {},
   "outputs": [
    {
     "data": {
      "image/png": "[encoded data removed]",
      "text/plain": [
       "<Figure size 432x288 with 1 Axes>"
      ]
     },
     "metadata": {
      "needs_background": "light"
     },
     "output_type": "display_data"
    }
   ],
   "source": [
    "#Showing the distribution of the number of messages per month.\n",
    "\n",
    "df3.month.hist(bins=100)\n",
    "plt.title('Distribution of the number of messages per month')\n",
    "plt.xlabel('Month of the Year')\n",
    "plt.ylabel('No. of Messages')\n",
    "plt.show()"
   ]
  },
  {
   "cell_type": "code",
   "execution_count": 113,
   "metadata": {},
   "outputs": [
    {
     "name": "stdout",
     "output_type": "stream",
     "text": [
      "        mb_used_2\n",
      "month            \n",
      "1      390.281250\n",
      "2      380.427152\n",
      "3      394.750749\n",
      "4      367.028929\n",
      "5      363.122435\n",
      "6      364.485389\n",
      "7      369.746239\n",
      "8      372.297537\n",
      "9      368.150055\n",
      "10     369.093806\n",
      "11     364.338427\n",
      "12     363.653967\n"
     ]
    },
    {
     "data": {
      "text/html": [
       "<div>\n",
       "<style scoped>\n",
       "    .dataframe tbody tr th:only-of-type {\n",
       "        vertical-align: middle;\n",
       "    }\n",
       "\n",
       "    .dataframe tbody tr th {\n",
       "        vertical-align: top;\n",
       "    }\n",
       "\n",
       "    .dataframe thead tr th {\n",
       "        text-align: left;\n",
       "    }\n",
       "\n",
       "    .dataframe thead tr:last-of-type th {\n",
       "        text-align: right;\n",
       "    }\n",
       "</style>\n",
       "<table border=\"1\" class=\"dataframe\">\n",
       "  <thead>\n",
       "    <tr>\n",
       "      <th></th>\n",
       "      <th colspan=\"8\" halign=\"left\">user_id</th>\n",
       "      <th colspan=\"5\" halign=\"left\">mb_used</th>\n",
       "      <th colspan=\"8\" halign=\"left\">mb_used_2</th>\n",
       "    </tr>\n",
       "    <tr>\n",
       "      <th></th>\n",
       "      <th>count</th>\n",
       "      <th>mean</th>\n",
       "      <th>std</th>\n",
       "      <th>min</th>\n",
       "      <th>25%</th>\n",
       "      <th>50%</th>\n",
       "      <th>75%</th>\n",
       "      <th>max</th>\n",
       "      <th>count</th>\n",
       "      <th>mean</th>\n",
       "      <th>...</th>\n",
       "      <th>75%</th>\n",
       "      <th>max</th>\n",
       "      <th>count</th>\n",
       "      <th>mean</th>\n",
       "      <th>std</th>\n",
       "      <th>min</th>\n",
       "      <th>25%</th>\n",
       "      <th>50%</th>\n",
       "      <th>75%</th>\n",
       "      <th>max</th>\n",
       "    </tr>\n",
       "    <tr>\n",
       "      <th>month</th>\n",
       "      <th></th>\n",
       "      <th></th>\n",
       "      <th></th>\n",
       "      <th></th>\n",
       "      <th></th>\n",
       "      <th></th>\n",
       "      <th></th>\n",
       "      <th></th>\n",
       "      <th></th>\n",
       "      <th></th>\n",
       "      <th></th>\n",
       "      <th></th>\n",
       "      <th></th>\n",
       "      <th></th>\n",
       "      <th></th>\n",
       "      <th></th>\n",
       "      <th></th>\n",
       "      <th></th>\n",
       "      <th></th>\n",
       "      <th></th>\n",
       "      <th></th>\n",
       "    </tr>\n",
       "  </thead>\n",
       "  <tbody>\n",
       "    <tr>\n",
       "      <td>1</td>\n",
       "      <td>96.0</td>\n",
       "      <td>1191.822917</td>\n",
       "      <td>108.100732</td>\n",
       "      <td>1042.0</td>\n",
       "      <td>1077.0</td>\n",
       "      <td>1185.0</td>\n",
       "      <td>1214.0</td>\n",
       "      <td>1362.0</td>\n",
       "      <td>96.0</td>\n",
       "      <td>389.813437</td>\n",
       "      <td>...</td>\n",
       "      <td>574.0400</td>\n",
       "      <td>1231.09</td>\n",
       "      <td>96.0</td>\n",
       "      <td>390.281250</td>\n",
       "      <td>298.270584</td>\n",
       "      <td>0.0</td>\n",
       "      <td>138.00</td>\n",
       "      <td>359.0</td>\n",
       "      <td>574.25</td>\n",
       "      <td>1232.0</td>\n",
       "    </tr>\n",
       "    <tr>\n",
       "      <td>2</td>\n",
       "      <td>604.0</td>\n",
       "      <td>1242.447020</td>\n",
       "      <td>127.358449</td>\n",
       "      <td>1028.0</td>\n",
       "      <td>1171.0</td>\n",
       "      <td>1214.0</td>\n",
       "      <td>1359.0</td>\n",
       "      <td>1498.0</td>\n",
       "      <td>604.0</td>\n",
       "      <td>379.985513</td>\n",
       "      <td>...</td>\n",
       "      <td>565.0200</td>\n",
       "      <td>1249.60</td>\n",
       "      <td>604.0</td>\n",
       "      <td>380.427152</td>\n",
       "      <td>272.404391</td>\n",
       "      <td>0.0</td>\n",
       "      <td>177.75</td>\n",
       "      <td>359.0</td>\n",
       "      <td>565.50</td>\n",
       "      <td>1250.0</td>\n",
       "    </tr>\n",
       "    <tr>\n",
       "      <td>3</td>\n",
       "      <td>1336.0</td>\n",
       "      <td>1231.554641</td>\n",
       "      <td>131.327837</td>\n",
       "      <td>1010.0</td>\n",
       "      <td>1138.0</td>\n",
       "      <td>1214.0</td>\n",
       "      <td>1359.0</td>\n",
       "      <td>1498.0</td>\n",
       "      <td>1336.0</td>\n",
       "      <td>394.313877</td>\n",
       "      <td>...</td>\n",
       "      <td>597.1250</td>\n",
       "      <td>1668.03</td>\n",
       "      <td>1336.0</td>\n",
       "      <td>394.750749</td>\n",
       "      <td>291.548386</td>\n",
       "      <td>0.0</td>\n",
       "      <td>161.75</td>\n",
       "      <td>375.0</td>\n",
       "      <td>597.50</td>\n",
       "      <td>1669.0</td>\n",
       "    </tr>\n",
       "    <tr>\n",
       "      <td>4</td>\n",
       "      <td>2558.0</td>\n",
       "      <td>1224.833464</td>\n",
       "      <td>132.364170</td>\n",
       "      <td>1010.0</td>\n",
       "      <td>1109.0</td>\n",
       "      <td>1214.0</td>\n",
       "      <td>1334.0</td>\n",
       "      <td>1498.0</td>\n",
       "      <td>2558.0</td>\n",
       "      <td>366.600821</td>\n",
       "      <td>...</td>\n",
       "      <td>560.4900</td>\n",
       "      <td>1535.27</td>\n",
       "      <td>2558.0</td>\n",
       "      <td>367.028929</td>\n",
       "      <td>278.016909</td>\n",
       "      <td>0.0</td>\n",
       "      <td>129.25</td>\n",
       "      <td>347.5</td>\n",
       "      <td>561.00</td>\n",
       "      <td>1536.0</td>\n",
       "    </tr>\n",
       "    <tr>\n",
       "      <td>5</td>\n",
       "      <td>4288.0</td>\n",
       "      <td>1228.459422</td>\n",
       "      <td>137.273177</td>\n",
       "      <td>1004.0</td>\n",
       "      <td>1106.0</td>\n",
       "      <td>1220.0</td>\n",
       "      <td>1346.0</td>\n",
       "      <td>1498.0</td>\n",
       "      <td>4288.0</td>\n",
       "      <td>362.688741</td>\n",
       "      <td>...</td>\n",
       "      <td>553.7475</td>\n",
       "      <td>1536.49</td>\n",
       "      <td>4288.0</td>\n",
       "      <td>363.122435</td>\n",
       "      <td>277.293576</td>\n",
       "      <td>0.0</td>\n",
       "      <td>128.75</td>\n",
       "      <td>344.0</td>\n",
       "      <td>554.00</td>\n",
       "      <td>1537.0</td>\n",
       "    </tr>\n",
       "    <tr>\n",
       "      <td>6</td>\n",
       "      <td>6057.0</td>\n",
       "      <td>1228.331847</td>\n",
       "      <td>139.294595</td>\n",
       "      <td>1004.0</td>\n",
       "      <td>1109.0</td>\n",
       "      <td>1210.0</td>\n",
       "      <td>1353.0</td>\n",
       "      <td>1498.0</td>\n",
       "      <td>6057.0</td>\n",
       "      <td>364.063170</td>\n",
       "      <td>...</td>\n",
       "      <td>557.3800</td>\n",
       "      <td>1439.06</td>\n",
       "      <td>6057.0</td>\n",
       "      <td>364.485389</td>\n",
       "      <td>279.018606</td>\n",
       "      <td>0.0</td>\n",
       "      <td>132.00</td>\n",
       "      <td>335.0</td>\n",
       "      <td>558.00</td>\n",
       "      <td>1440.0</td>\n",
       "    </tr>\n",
       "    <tr>\n",
       "      <td>7</td>\n",
       "      <td>8110.0</td>\n",
       "      <td>1229.285450</td>\n",
       "      <td>138.051133</td>\n",
       "      <td>1004.0</td>\n",
       "      <td>1117.0</td>\n",
       "      <td>1220.0</td>\n",
       "      <td>1353.0</td>\n",
       "      <td>1498.0</td>\n",
       "      <td>8110.0</td>\n",
       "      <td>369.316349</td>\n",
       "      <td>...</td>\n",
       "      <td>557.8800</td>\n",
       "      <td>1585.21</td>\n",
       "      <td>8110.0</td>\n",
       "      <td>369.746239</td>\n",
       "      <td>277.030375</td>\n",
       "      <td>0.0</td>\n",
       "      <td>145.00</td>\n",
       "      <td>346.0</td>\n",
       "      <td>558.00</td>\n",
       "      <td>1586.0</td>\n",
       "    </tr>\n",
       "    <tr>\n",
       "      <td>8</td>\n",
       "      <td>10718.0</td>\n",
       "      <td>1234.664956</td>\n",
       "      <td>142.407339</td>\n",
       "      <td>1001.0</td>\n",
       "      <td>1110.0</td>\n",
       "      <td>1223.0</td>\n",
       "      <td>1361.0</td>\n",
       "      <td>1498.0</td>\n",
       "      <td>10718.0</td>\n",
       "      <td>371.868708</td>\n",
       "      <td>...</td>\n",
       "      <td>559.3725</td>\n",
       "      <td>1541.32</td>\n",
       "      <td>10718.0</td>\n",
       "      <td>372.297537</td>\n",
       "      <td>277.713298</td>\n",
       "      <td>0.0</td>\n",
       "      <td>144.25</td>\n",
       "      <td>348.0</td>\n",
       "      <td>560.00</td>\n",
       "      <td>1542.0</td>\n",
       "    </tr>\n",
       "    <tr>\n",
       "      <td>9</td>\n",
       "      <td>12722.0</td>\n",
       "      <td>1245.339884</td>\n",
       "      <td>144.114218</td>\n",
       "      <td>1001.0</td>\n",
       "      <td>1122.0</td>\n",
       "      <td>1236.0</td>\n",
       "      <td>1370.0</td>\n",
       "      <td>1499.0</td>\n",
       "      <td>12722.0</td>\n",
       "      <td>367.720991</td>\n",
       "      <td>...</td>\n",
       "      <td>558.2675</td>\n",
       "      <td>1604.45</td>\n",
       "      <td>12722.0</td>\n",
       "      <td>368.150055</td>\n",
       "      <td>277.995285</td>\n",
       "      <td>0.0</td>\n",
       "      <td>137.00</td>\n",
       "      <td>344.0</td>\n",
       "      <td>559.00</td>\n",
       "      <td>1605.0</td>\n",
       "    </tr>\n",
       "    <tr>\n",
       "      <td>10</td>\n",
       "      <td>16193.0</td>\n",
       "      <td>1246.786760</td>\n",
       "      <td>142.823840</td>\n",
       "      <td>1001.0</td>\n",
       "      <td>1127.0</td>\n",
       "      <td>1240.0</td>\n",
       "      <td>1373.0</td>\n",
       "      <td>1499.0</td>\n",
       "      <td>16193.0</td>\n",
       "      <td>368.660351</td>\n",
       "      <td>...</td>\n",
       "      <td>554.0600</td>\n",
       "      <td>1604.46</td>\n",
       "      <td>16193.0</td>\n",
       "      <td>369.093806</td>\n",
       "      <td>275.642587</td>\n",
       "      <td>0.0</td>\n",
       "      <td>141.00</td>\n",
       "      <td>349.0</td>\n",
       "      <td>555.00</td>\n",
       "      <td>1605.0</td>\n",
       "    </tr>\n",
       "    <tr>\n",
       "      <td>11</td>\n",
       "      <td>18651.0</td>\n",
       "      <td>1248.736314</td>\n",
       "      <td>143.584876</td>\n",
       "      <td>1001.0</td>\n",
       "      <td>1127.0</td>\n",
       "      <td>1244.0</td>\n",
       "      <td>1377.0</td>\n",
       "      <td>1499.0</td>\n",
       "      <td>18651.0</td>\n",
       "      <td>363.910087</td>\n",
       "      <td>...</td>\n",
       "      <td>549.5400</td>\n",
       "      <td>1495.76</td>\n",
       "      <td>18651.0</td>\n",
       "      <td>364.338427</td>\n",
       "      <td>276.218059</td>\n",
       "      <td>0.0</td>\n",
       "      <td>132.00</td>\n",
       "      <td>342.0</td>\n",
       "      <td>550.00</td>\n",
       "      <td>1496.0</td>\n",
       "    </tr>\n",
       "    <tr>\n",
       "      <td>12</td>\n",
       "      <td>23492.0</td>\n",
       "      <td>1250.146859</td>\n",
       "      <td>142.879168</td>\n",
       "      <td>1000.0</td>\n",
       "      <td>1126.0</td>\n",
       "      <td>1253.0</td>\n",
       "      <td>1376.0</td>\n",
       "      <td>1499.0</td>\n",
       "      <td>23492.0</td>\n",
       "      <td>363.226938</td>\n",
       "      <td>...</td>\n",
       "      <td>550.6575</td>\n",
       "      <td>1693.47</td>\n",
       "      <td>23492.0</td>\n",
       "      <td>363.653967</td>\n",
       "      <td>277.217300</td>\n",
       "      <td>0.0</td>\n",
       "      <td>132.00</td>\n",
       "      <td>341.0</td>\n",
       "      <td>551.00</td>\n",
       "      <td>1694.0</td>\n",
       "    </tr>\n",
       "  </tbody>\n",
       "</table>\n",
       "<p>12 rows × 24 columns</p>\n",
       "</div>"
      ],
      "text/plain": [
       "       user_id                                                           \\\n",
       "         count         mean         std     min     25%     50%     75%   \n",
       "month                                                                     \n",
       "1         96.0  1191.822917  108.100732  1042.0  1077.0  1185.0  1214.0   \n",
       "2        604.0  1242.447020  127.358449  1028.0  1171.0  1214.0  1359.0   \n",
       "3       1336.0  1231.554641  131.327837  1010.0  1138.0  1214.0  1359.0   \n",
       "4       2558.0  1224.833464  132.364170  1010.0  1109.0  1214.0  1334.0   \n",
       "5       4288.0  1228.459422  137.273177  1004.0  1106.0  1220.0  1346.0   \n",
       "6       6057.0  1228.331847  139.294595  1004.0  1109.0  1210.0  1353.0   \n",
       "7       8110.0  1229.285450  138.051133  1004.0  1117.0  1220.0  1353.0   \n",
       "8      10718.0  1234.664956  142.407339  1001.0  1110.0  1223.0  1361.0   \n",
       "9      12722.0  1245.339884  144.114218  1001.0  1122.0  1236.0  1370.0   \n",
       "10     16193.0  1246.786760  142.823840  1001.0  1127.0  1240.0  1373.0   \n",
       "11     18651.0  1248.736314  143.584876  1001.0  1127.0  1244.0  1377.0   \n",
       "12     23492.0  1250.146859  142.879168  1000.0  1126.0  1253.0  1376.0   \n",
       "\n",
       "               mb_used              ...                    mb_used_2  \\\n",
       "          max    count        mean  ...       75%      max     count   \n",
       "month                               ...                                \n",
       "1      1362.0     96.0  389.813437  ...  574.0400  1231.09      96.0   \n",
       "2      1498.0    604.0  379.985513  ...  565.0200  1249.60     604.0   \n",
       "3      1498.0   1336.0  394.313877  ...  597.1250  1668.03    1336.0   \n",
       "4      1498.0   2558.0  366.600821  ...  560.4900  1535.27    2558.0   \n",
       "5      1498.0   4288.0  362.688741  ...  553.7475  1536.49    4288.0   \n",
       "6      1498.0   6057.0  364.063170  ...  557.3800  1439.06    6057.0   \n",
       "7      1498.0   8110.0  369.316349  ...  557.8800  1585.21    8110.0   \n",
       "8      1498.0  10718.0  371.868708  ...  559.3725  1541.32   10718.0   \n",
       "9      1499.0  12722.0  367.720991  ...  558.2675  1604.45   12722.0   \n",
       "10     1499.0  16193.0  368.660351  ...  554.0600  1604.46   16193.0   \n",
       "11     1499.0  18651.0  363.910087  ...  549.5400  1495.76   18651.0   \n",
       "12     1499.0  23492.0  363.226938  ...  550.6575  1693.47   23492.0   \n",
       "\n",
       "                                                                   \n",
       "             mean         std  min     25%    50%     75%     max  \n",
       "month                                                              \n",
       "1      390.281250  298.270584  0.0  138.00  359.0  574.25  1232.0  \n",
       "2      380.427152  272.404391  0.0  177.75  359.0  565.50  1250.0  \n",
       "3      394.750749  291.548386  0.0  161.75  375.0  597.50  1669.0  \n",
       "4      367.028929  278.016909  0.0  129.25  347.5  561.00  1536.0  \n",
       "5      363.122435  277.293576  0.0  128.75  344.0  554.00  1537.0  \n",
       "6      364.485389  279.018606  0.0  132.00  335.0  558.00  1440.0  \n",
       "7      369.746239  277.030375  0.0  145.00  346.0  558.00  1586.0  \n",
       "8      372.297537  277.713298  0.0  144.25  348.0  560.00  1542.0  \n",
       "9      368.150055  277.995285  0.0  137.00  344.0  559.00  1605.0  \n",
       "10     369.093806  275.642587  0.0  141.00  349.0  555.00  1605.0  \n",
       "11     364.338427  276.218059  0.0  132.00  342.0  550.00  1496.0  \n",
       "12     363.653967  277.217300  0.0  132.00  341.0  551.00  1694.0  \n",
       "\n",
       "[12 rows x 24 columns]"
      ]
     },
     "execution_count": 113,
     "metadata": {},
     "output_type": "execute_result"
    }
   ],
   "source": [
    "df2['month'] = df2['session_date'].dt.month\n",
    "\n",
    "volume_stat = df2.pivot_table(index='month', values='mb_used_2')\n",
    "\n",
    "print(volume_stat)\n",
    "\n",
    "#Analysing data consumption to get the mean, variance and stardard deviation.\n",
    "\n",
    "df2.groupby('month').describe()"
   ]
  },
  {
   "cell_type": "code",
   "execution_count": 114,
   "metadata": {},
   "outputs": [
    {
     "data": {
      "image/png": "[encoded data removed]",
      "text/plain": [
       "<Figure size 432x288 with 1 Axes>"
      ]
     },
     "metadata": {
      "needs_background": "light"
     },
     "output_type": "display_data"
    }
   ],
   "source": [
    "#Showing the distribution of the data usage per month.\n",
    "\n",
    "df2.month.hist(bins=100)\n",
    "plt.title('Distribution of the data usage per month')\n",
    "plt.xlabel('Month of the Year')\n",
    "plt.ylabel('Data usage in megabytes')\n",
    "plt.show()"
   ]
  },
  {
   "cell_type": "code",
   "execution_count": 115,
   "metadata": {},
   "outputs": [
    {
     "name": "stdout",
     "output_type": "stream",
     "text": [
      "   user_id  month  call_duration   age                                   city  \\\n",
      "0     1000     12          124.0  45.0  Atlanta-Sandy Springs-Roswell, GA MSA   \n",
      "1     1001      8          182.0  28.0        Seattle-Tacoma-Bellevue, WA MSA   \n",
      "2     1001      9          315.0  28.0        Seattle-Tacoma-Bellevue, WA MSA   \n",
      "3     1001     10          393.0  28.0        Seattle-Tacoma-Bellevue, WA MSA   \n",
      "4     1001     11          426.0  28.0        Seattle-Tacoma-Bellevue, WA MSA   \n",
      "\n",
      "       plan  msg_count  mb_used  messages_included  mb_per_month_included  \\\n",
      "0  ultimate       11.0   1903.0             1000.0                30720.0   \n",
      "1      surf       30.0   6929.0               50.0                15360.0   \n",
      "2      surf       44.0  13333.0               50.0                15360.0   \n",
      "3      surf       53.0  22356.0               50.0                15360.0   \n",
      "4      surf       36.0  18524.0               50.0                15360.0   \n",
      "\n",
      "   minutes_included  usd_monthly_pay  usd_per_gb  usd_per_message  \\\n",
      "0            3000.0             70.0         7.0             0.01   \n",
      "1             500.0             20.0        10.0             0.03   \n",
      "2             500.0             20.0        10.0             0.03   \n",
      "3             500.0             20.0        10.0             0.03   \n",
      "4             500.0             20.0        10.0             0.03   \n",
      "\n",
      "   usd_per_minute plan_name  \n",
      "0            0.01  ultimate  \n",
      "1            0.03      surf  \n",
      "2            0.03      surf  \n",
      "3            0.03      surf  \n",
      "4            0.03      surf  \n",
      "<class 'pandas.core.frame.DataFrame'>\n",
      "Int64Index: 2293 entries, 0 to 2292\n",
      "Data columns (total 16 columns):\n",
      "user_id                  2293 non-null int64\n",
      "month                    2293 non-null int64\n",
      "call_duration            2258 non-null float64\n",
      "age                      2258 non-null float64\n",
      "city                     2258 non-null object\n",
      "plan                     2258 non-null object\n",
      "msg_count                1806 non-null float64\n",
      "mb_used                  2277 non-null float64\n",
      "messages_included        2258 non-null float64\n",
      "mb_per_month_included    2258 non-null float64\n",
      "minutes_included         2258 non-null float64\n",
      "usd_monthly_pay          2258 non-null float64\n",
      "usd_per_gb               2258 non-null float64\n",
      "usd_per_message          2258 non-null float64\n",
      "usd_per_minute           2258 non-null float64\n",
      "plan_name                2258 non-null object\n",
      "dtypes: float64(11), int64(2), object(3)\n",
      "memory usage: 304.5+ KB\n"
     ]
    },
    {
     "data": {
      "text/plain": [
       "None"
      ]
     },
     "metadata": {},
     "output_type": "display_data"
    }
   ],
   "source": [
    "df5['month'] = df5['reg_date'].dt.month\n",
    "\n",
    "call_per_user = df1.pivot_table(index=['user_id','month'], values= ['duration2'],aggfunc ='sum')\n",
    "\n",
    "user_plan= df5.pivot_table(index=['user_id'], values= ['plan','age','city'],aggfunc = 'first')\n",
    "\n",
    "user_message= df3.pivot_table(index=['user_id','month'], values= ['id'],aggfunc ='count')\n",
    "\n",
    "user_data= df2.pivot_table(index=['user_id','month'], values= ['mb_used_2'],aggfunc ='sum')\n",
    "\n",
    "#df6 =call_per_user.join(user_plan)\n",
    "\n",
    "#df7 = df6.join(user_message)\n",
    "\n",
    "#df8 = df7.join(user_data)\n",
    "\n",
    "\n",
    "\n",
    "df8 =df8 = call_per_user.join(user_plan, how='outer').join(user_message,how='outer').join(user_data,how='outer')\n",
    "\n",
    "df8.columns=['call_duration','age','city','plan','msg_count','mb_used']\n",
    "\n",
    "df8.rename(columns={'id':'msg_count'}, inplace=True)\n",
    "\n",
    "df9 =df8.reset_index().merge(df4, left_on='plan',right_on='plan_name',how = 'left')\n",
    "\n",
    "print(df9.head(5))\n",
    "display(df9.info())"
   ]
  },
  {
   "cell_type": "markdown",
   "metadata": {},
   "source": [
    "Aggregating the information needed per user to calculate the profit."
   ]
  },
  {
   "cell_type": "code",
   "execution_count": 116,
   "metadata": {},
   "outputs": [
    {
     "name": "stdout",
     "output_type": "stream",
     "text": [
      "   user_id  month  call_duration   age                                   city  \\\n",
      "0     1000     12          124.0  45.0  Atlanta-Sandy Springs-Roswell, GA MSA   \n",
      "1     1001      8          182.0  28.0        Seattle-Tacoma-Bellevue, WA MSA   \n",
      "2     1001      9          315.0  28.0        Seattle-Tacoma-Bellevue, WA MSA   \n",
      "3     1001     10          393.0  28.0        Seattle-Tacoma-Bellevue, WA MSA   \n",
      "4     1001     11          426.0  28.0        Seattle-Tacoma-Bellevue, WA MSA   \n",
      "\n",
      "       plan  msg_count  mb_used  messages_included  mb_per_month_included  \\\n",
      "0  ultimate       11.0   1903.0             1000.0                30720.0   \n",
      "1      surf       30.0   6929.0               50.0                15360.0   \n",
      "2      surf       44.0  13333.0               50.0                15360.0   \n",
      "3      surf       53.0  22356.0               50.0                15360.0   \n",
      "4      surf       36.0  18524.0               50.0                15360.0   \n",
      "\n",
      "   minutes_included  usd_monthly_pay  usd_per_gb  usd_per_message  \\\n",
      "0            3000.0             70.0         7.0             0.01   \n",
      "1             500.0             20.0        10.0             0.03   \n",
      "2             500.0             20.0        10.0             0.03   \n",
      "3             500.0             20.0        10.0             0.03   \n",
      "4             500.0             20.0        10.0             0.03   \n",
      "\n",
      "   usd_per_minute plan_name  msg_profit  calls_profit  data_profit    profit  \n",
      "0            0.01  ultimate        0.00           0.0          0.0     70.00  \n",
      "1            0.03      surf        0.00           0.0          0.0     20.00  \n",
      "2            0.03      surf        0.00           0.0          0.0     20.00  \n",
      "3            0.03      surf        0.09           0.0      69960.0  69980.09  \n",
      "4            0.03      surf        0.00           0.0      31640.0  31660.00  \n"
     ]
    }
   ],
   "source": [
    "df9['msg_profit'] = df9.apply(lambda x: max(0,x['msg_count'] - x['messages_included'])*x['usd_per_message'] ,1)\n",
    "df9['calls_profit'] = df9.apply(lambda y: max(0,y['call_duration'] - y['minutes_included'])*y['usd_per_minute'], 1)\n",
    "df9['data_profit'] = df9.apply(lambda z: max(0,z['mb_used'] - z['mb_per_month_included'])*z['usd_per_gb'], 1)\n",
    "df9['profit'] = df9['data_profit'] + df9['calls_profit'] + df9['msg_profit'] + df9['usd_monthly_pay']\n",
    "print(df9.head(5))"
   ]
  },
  {
   "cell_type": "markdown",
   "metadata": {},
   "source": [
    "Profit from each user including the initial charge for each plan respectively."
   ]
  },
  {
   "cell_type": "code",
   "execution_count": 117,
   "metadata": {},
   "outputs": [
    {
     "name": "stdout",
     "output_type": "stream",
     "text": [
      "                call_duration       mb_used  msg_count\n",
      "month plan                                            \n",
      "1     surf         203.000000   4881.000000  21.000000\n",
      "      ultimate     193.500000   6926.250000  20.666667\n",
      "2     surf         297.000000  12192.888889  21.600000\n",
      "      ultimate     470.333333  17906.500000  27.800000\n",
      "3     surf         330.000000  13361.043478  21.937500\n",
      "      ultimate     304.250000  18340.250000  34.714286\n",
      "4     surf         351.540000  12243.061224  24.166667\n",
      "      ultimate     336.857143  16140.476190  28.937500\n",
      "5     surf         410.240000  14410.837838  33.870370\n",
      "      ultimate     406.241379  16643.758621  44.333333\n",
      "6     surf         435.791667  15652.627660  33.708333\n",
      "      ultimate     387.444444  15938.244444  37.135135\n",
      "7     surf         453.733333  16946.252101  36.033333\n",
      "      ultimate     427.067797  16363.677966  41.212766\n",
      "8     surf         417.849057  17214.576923  37.917355\n",
      "      ultimate     421.436620  17834.887324  47.929825\n",
      "9     surf         420.732984  16547.673684  39.202703\n",
      "      ultimate     437.511628  16989.395349  45.901408\n",
      "10    surf         438.991379  17486.615721  41.945652\n",
      "      ultimate     455.028571  17801.123810  47.488636\n",
      "11    surf         432.494585  16428.305455  40.436364\n",
      "      ultimate     448.730159  17019.388889  47.656863\n",
      "12    surf         484.501608  18060.148387  48.113360\n",
      "      ultimate     465.261745  18342.630872  53.744000\n"
     ]
    }
   ],
   "source": [
    "print(df9.pivot_table(index=['month','plan'], values= ['msg_count','call_duration','mb_used'],aggfunc ='mean'))\n"
   ]
  },
  {
   "cell_type": "markdown",
   "metadata": {},
   "source": [
    "Finding the mean for call_dutation, mb_used and text messages for each plan per month."
   ]
  },
  {
   "cell_type": "code",
   "execution_count": 118,
   "metadata": {},
   "outputs": [
    {
     "name": "stdout",
     "output_type": "stream",
     "text": [
      "                call_duration       mb_used    msg_count\n",
      "month plan                                              \n",
      "1     surf       15842.000000  1.827706e+07          NaN\n",
      "      ultimate   16572.333333  1.642061e+07   310.333333\n",
      "2     surf       52226.500000  4.377810e+07   512.800000\n",
      "      ultimate   54345.066667  4.047629e+07   529.700000\n",
      "3     surf       35809.363636  6.839062e+07   352.062500\n",
      "      ultimate   61984.931818  1.406093e+08   613.904762\n",
      "4     surf       50866.743265  5.734854e+07   534.028571\n",
      "      ultimate   34888.928571  8.859513e+07   512.862500\n",
      "5     surf       56938.779459  5.837506e+07   877.548917\n",
      "      ultimate   43841.046798  5.689892e+07  1246.933333\n",
      "6     surf       44094.061404  4.566182e+07   948.970070\n",
      "      ultimate   37902.570707  6.722775e+07   801.731231\n",
      "7     surf       59802.012325  6.349874e+07   917.470787\n",
      "      ultimate   72563.374635  6.855162e+07   858.084181\n",
      "8     surf       52122.749224  7.103085e+07  1031.659780\n",
      "      ultimate   53645.506640  6.054714e+07  1034.387845\n",
      "9     surf       44579.912538  4.834398e+07   947.822578\n",
      "      ultimate   57070.464569  4.941798e+07   903.375855\n",
      "10    surf       49326.952306  5.864195e+07  1248.095391\n",
      "      ultimate   52811.566484  5.462604e+07  1088.160789\n",
      "11    surf       48748.787108  5.183890e+07  1011.370361\n",
      "      ultimate   59479.782603  5.801021e+07  1100.782081\n",
      "12    surf       59882.373385  6.416609e+07  1379.426122\n",
      "      ultimate   60461.924270  5.832627e+07  1380.175871\n"
     ]
    }
   ],
   "source": [
    "print(df9.pivot_table(index=['month','plan'], values= ['msg_count','call_duration','mb_used'],aggfunc =np.var))"
   ]
  },
  {
   "cell_type": "markdown",
   "metadata": {},
   "source": [
    "Finding the variance for call_duration, mb_used and text messages for each plan per month."
   ]
  },
  {
   "cell_type": "code",
   "execution_count": 119,
   "metadata": {},
   "outputs": [
    {
     "name": "stdout",
     "output_type": "stream",
     "text": [
      "                call_duration       mb_used  msg_count\n",
      "month plan                                            \n",
      "1     surf         125.865007   4275.167599        NaN\n",
      "      ultimate     128.733575   4052.235052  17.616280\n",
      "2     surf         228.531179   6616.502257  22.645088\n",
      "      ultimate     233.120284   6362.098105  23.015212\n",
      "3     surf         189.233622   8269.861896  18.763329\n",
      "      ultimate     248.967732  11857.880971  24.777102\n",
      "4     surf         225.536567   7572.882161  23.109058\n",
      "      ultimate     186.785783   9412.498689  22.646468\n",
      "5     surf         238.618481   7640.357153  29.623452\n",
      "      ultimate     209.382537   7543.137575  35.311943\n",
      "6     surf         209.985860   6757.353113  30.805358\n",
      "      ultimate     194.685826   8199.253159  28.314859\n",
      "7     surf         244.544500   7968.609821  30.289780\n",
      "      ultimate     269.375898   8279.590645  29.293074\n",
      "8     surf         228.304072   8427.980282  32.119461\n",
      "      ultimate     231.614997   7781.204098  32.161901\n",
      "9     surf         211.139557   6952.983478  30.786727\n",
      "      ultimate     238.894254   7029.792642  30.056212\n",
      "10    surf         222.096718   7657.803267  35.328394\n",
      "      ultimate     229.807673   7390.943405  32.987282\n",
      "11    surf         220.791275   7199.923626  31.802050\n",
      "      ultimate     243.884773   7616.443125  33.178036\n",
      "12    surf         244.708752   8010.374094  37.140626\n",
      "      ultimate     245.890065   7637.163721  37.150718\n"
     ]
    }
   ],
   "source": [
    "print(df9.pivot_table(index=['month','plan'], values= ['msg_count','call_duration','mb_used'],aggfunc =np.std))"
   ]
  },
  {
   "cell_type": "markdown",
   "metadata": {},
   "source": [
    "Finding the standard deviation for call_dutation, mb_used and text messages for each plan per month."
   ]
  },
  {
   "cell_type": "code",
   "execution_count": 120,
   "metadata": {},
   "outputs": [
    {
     "data": {
      "text/html": [
       "<div>\n",
       "<style scoped>\n",
       "    .dataframe tbody tr th:only-of-type {\n",
       "        vertical-align: middle;\n",
       "    }\n",
       "\n",
       "    .dataframe tbody tr th {\n",
       "        vertical-align: top;\n",
       "    }\n",
       "\n",
       "    .dataframe thead th {\n",
       "        text-align: right;\n",
       "    }\n",
       "</style>\n",
       "<table border=\"1\" class=\"dataframe\">\n",
       "  <thead>\n",
       "    <tr style=\"text-align: right;\">\n",
       "      <th></th>\n",
       "      <th>count</th>\n",
       "      <th>mean</th>\n",
       "      <th>std</th>\n",
       "      <th>min</th>\n",
       "      <th>25%</th>\n",
       "      <th>50%</th>\n",
       "      <th>75%</th>\n",
       "      <th>max</th>\n",
       "    </tr>\n",
       "    <tr>\n",
       "      <th>plan</th>\n",
       "      <th></th>\n",
       "      <th></th>\n",
       "      <th></th>\n",
       "      <th></th>\n",
       "      <th></th>\n",
       "      <th></th>\n",
       "      <th></th>\n",
       "      <th></th>\n",
       "    </tr>\n",
       "  </thead>\n",
       "  <tbody>\n",
       "    <tr>\n",
       "      <td>surf</td>\n",
       "      <td>1545.0</td>\n",
       "      <td>36001.95723</td>\n",
       "      <td>52286.580576</td>\n",
       "      <td>20.0</td>\n",
       "      <td>20.0</td>\n",
       "      <td>14970.0</td>\n",
       "      <td>56460.0</td>\n",
       "      <td>556320.37</td>\n",
       "    </tr>\n",
       "    <tr>\n",
       "      <td>ultimate</td>\n",
       "      <td>713.0</td>\n",
       "      <td>2212.42216</td>\n",
       "      <td>11024.238752</td>\n",
       "      <td>70.0</td>\n",
       "      <td>70.0</td>\n",
       "      <td>70.0</td>\n",
       "      <td>70.0</td>\n",
       "      <td>111468.00</td>\n",
       "    </tr>\n",
       "  </tbody>\n",
       "</table>\n",
       "</div>"
      ],
      "text/plain": [
       "           count         mean           std   min   25%      50%      75%  \\\n",
       "plan                                                                        \n",
       "surf      1545.0  36001.95723  52286.580576  20.0  20.0  14970.0  56460.0   \n",
       "ultimate   713.0   2212.42216  11024.238752  70.0  70.0     70.0     70.0   \n",
       "\n",
       "                max  \n",
       "plan                 \n",
       "surf      556320.37  \n",
       "ultimate  111468.00  "
      ]
     },
     "execution_count": 120,
     "metadata": {},
     "output_type": "execute_result"
    }
   ],
   "source": [
    "df9.groupby('plan').profit.describe()\n",
    "\n",
    "#Showing how the average profit from users of Ultimate and Surf calling plans differs."
   ]
  },
  {
   "cell_type": "code",
   "execution_count": 121,
   "metadata": {},
   "outputs": [
    {
     "data": {
      "text/plain": [
       "Ttest_indResult(statistic=-17.07962978652687, pvalue=1.327184764092776e-61)"
      ]
     },
     "execution_count": 121,
     "metadata": {},
     "output_type": "execute_result"
    }
   ],
   "source": [
    "from scipy import stats as st\n",
    "\n",
    "st.ttest_ind(df9[df9.plan=='ultimate'].profit, df9[df9.plan=='surf'].profit)"
   ]
  },
  {
   "cell_type": "code",
   "execution_count": 125,
   "metadata": {},
   "outputs": [
    {
     "name": "stdout",
     "output_type": "stream",
     "text": [
      "t = -11.62550863303345\n",
      "p = 8.3147127880418e-28\n",
      "The average profit from users of Ultimate and Surf calling plans is equal\n"
     ]
    },
    {
     "data": {
      "image/png": "[encoded data removed]",
      "text/plain": [
       "<Figure size 432x288 with 1 Axes>"
      ]
     },
     "metadata": {
      "needs_background": "light"
     },
     "output_type": "display_data"
    }
   ],
   "source": [
    "n = 250\n",
    "mean_surf = 36001\n",
    "mean_ultimate = 2212\n",
    "alpha = 0.05\n",
    "H0 = 'The average profit from users of Ultimate and Surf calling plans is equal'\n",
    "H1 = 'The average profit from users of Ultimate and Surf calling plans differs'\n",
    "\n",
    "a = df9[df9['plan'] == 'ultimate'].profit.sample(n)\n",
    "b = df9[df9['plan'] == 'surf'].profit.sample(n)\n",
    "\n",
    "plt.hist(a,alpha = .5, bins = 10, label = 'a')\n",
    "plt.hist(b,alpha = .5, bins = 10, label = 'b')\n",
    "plt.legend()\n",
    "\n",
    "t2,p2 = st.ttest_ind(a,b)\n",
    "print('t = ' +str(t2))\n",
    "print('p = ' +str(p2))\n",
    "if (p2 < alpha):\n",
    "    print(H0)\n",
    "else:\n",
    "    print(H1)\n",
    "    "
   ]
  },
  {
   "cell_type": "markdown",
   "metadata": {},
   "source": [
    "Student's Comments: \n",
    "The pvalue is higher ther the alpha and so we can reject the null hypothesis, and say that the average profit of the two plans differs."
   ]
  },
  {
   "cell_type": "code",
   "execution_count": 126,
   "metadata": {},
   "outputs": [
    {
     "data": {
      "text/html": [
       "<div>\n",
       "<style scoped>\n",
       "    .dataframe tbody tr th:only-of-type {\n",
       "        vertical-align: middle;\n",
       "    }\n",
       "\n",
       "    .dataframe tbody tr th {\n",
       "        vertical-align: top;\n",
       "    }\n",
       "\n",
       "    .dataframe thead th {\n",
       "        text-align: right;\n",
       "    }\n",
       "</style>\n",
       "<table border=\"1\" class=\"dataframe\">\n",
       "  <thead>\n",
       "    <tr style=\"text-align: right;\">\n",
       "      <th></th>\n",
       "      <th>count</th>\n",
       "      <th>mean</th>\n",
       "      <th>std</th>\n",
       "      <th>min</th>\n",
       "      <th>25%</th>\n",
       "      <th>50%</th>\n",
       "      <th>75%</th>\n",
       "      <th>max</th>\n",
       "    </tr>\n",
       "    <tr>\n",
       "      <th>city</th>\n",
       "      <th></th>\n",
       "      <th></th>\n",
       "      <th></th>\n",
       "      <th></th>\n",
       "      <th></th>\n",
       "      <th></th>\n",
       "      <th></th>\n",
       "      <th></th>\n",
       "    </tr>\n",
       "  </thead>\n",
       "  <tbody>\n",
       "    <tr>\n",
       "      <td>False</td>\n",
       "      <td>2258.0</td>\n",
       "      <td>25332.365332</td>\n",
       "      <td>46425.900637</td>\n",
       "      <td>20.0</td>\n",
       "      <td>23.54</td>\n",
       "      <td>70.0</td>\n",
       "      <td>36637.5225</td>\n",
       "      <td>556320.37</td>\n",
       "    </tr>\n",
       "  </tbody>\n",
       "</table>\n",
       "</div>"
      ],
      "text/plain": [
       "        count          mean           std   min    25%   50%         75%  \\\n",
       "city                                                                       \n",
       "False  2258.0  25332.365332  46425.900637  20.0  23.54  70.0  36637.5225   \n",
       "\n",
       "             max  \n",
       "city              \n",
       "False  556320.37  "
      ]
     },
     "execution_count": 126,
     "metadata": {},
     "output_type": "execute_result"
    }
   ],
   "source": [
    "df9.groupby(df9['city'] == 'NY-NJ').profit.describe()"
   ]
  },
  {
   "cell_type": "code",
   "execution_count": 127,
   "metadata": {},
   "outputs": [
    {
     "data": {
      "text/html": [
       "<div>\n",
       "<style scoped>\n",
       "    .dataframe tbody tr th:only-of-type {\n",
       "        vertical-align: middle;\n",
       "    }\n",
       "\n",
       "    .dataframe tbody tr th {\n",
       "        vertical-align: top;\n",
       "    }\n",
       "\n",
       "    .dataframe thead th {\n",
       "        text-align: right;\n",
       "    }\n",
       "</style>\n",
       "<table border=\"1\" class=\"dataframe\">\n",
       "  <thead>\n",
       "    <tr style=\"text-align: right;\">\n",
       "      <th></th>\n",
       "      <th>count</th>\n",
       "      <th>mean</th>\n",
       "      <th>std</th>\n",
       "      <th>min</th>\n",
       "      <th>25%</th>\n",
       "      <th>50%</th>\n",
       "      <th>75%</th>\n",
       "      <th>max</th>\n",
       "    </tr>\n",
       "    <tr>\n",
       "      <th>city</th>\n",
       "      <th></th>\n",
       "      <th></th>\n",
       "      <th></th>\n",
       "      <th></th>\n",
       "      <th></th>\n",
       "      <th></th>\n",
       "      <th></th>\n",
       "      <th></th>\n",
       "    </tr>\n",
       "  </thead>\n",
       "  <tbody>\n",
       "    <tr>\n",
       "      <td>False</td>\n",
       "      <td>1887.0</td>\n",
       "      <td>24970.883196</td>\n",
       "      <td>47218.973024</td>\n",
       "      <td>20.0</td>\n",
       "      <td>25.415</td>\n",
       "      <td>70.0</td>\n",
       "      <td>35305.00</td>\n",
       "      <td>556320.37</td>\n",
       "    </tr>\n",
       "    <tr>\n",
       "      <td>True</td>\n",
       "      <td>371.0</td>\n",
       "      <td>27170.955067</td>\n",
       "      <td>42173.116852</td>\n",
       "      <td>20.0</td>\n",
       "      <td>20.000</td>\n",
       "      <td>70.0</td>\n",
       "      <td>43226.23</td>\n",
       "      <td>266030.00</td>\n",
       "    </tr>\n",
       "  </tbody>\n",
       "</table>\n",
       "</div>"
      ],
      "text/plain": [
       "        count          mean           std   min     25%   50%       75%  \\\n",
       "city                                                                      \n",
       "False  1887.0  24970.883196  47218.973024  20.0  25.415  70.0  35305.00   \n",
       "True    371.0  27170.955067  42173.116852  20.0  20.000  70.0  43226.23   \n",
       "\n",
       "             max  \n",
       "city              \n",
       "False  556320.37  \n",
       "True   266030.00  "
      ]
     },
     "execution_count": 127,
     "metadata": {},
     "output_type": "execute_result"
    }
   ],
   "source": [
    "\n",
    "df9.groupby([df9[\"city\"].str.contains('NY-NJ')]).profit.describe()"
   ]
  },
  {
   "cell_type": "markdown",
   "metadata": {},
   "source": [
    "The average profit from users in NY-NJ area is different from that of the users from other regions. Even if the mean for NY-NJ is less than for other cities put together."
   ]
  },
  {
   "cell_type": "code",
   "execution_count": 136,
   "metadata": {},
   "outputs": [
    {
     "name": "stdout",
     "output_type": "stream",
     "text": [
      "t = -0.42288137185234087\n",
      "p = 0.6724335644888784\n",
      "The average profit from users in NY-NJ and those outside NY-NJ differs.\n"
     ]
    },
    {
     "data": {
      "image/png": "[encoded data removed]",
      "text/plain": [
       "<Figure size 432x288 with 1 Axes>"
      ]
     },
     "metadata": {
      "needs_background": "light"
     },
     "output_type": "display_data"
    }
   ],
   "source": [
    "n = 250\n",
    "mean_NY_NJ = 24971\n",
    "mean_others = 27170\n",
    "alpha = 0.05\n",
    "H0 = 'The average profit from users in NY-NJ and those outside NY-NJ are the same.'\n",
    "H1 = 'The average profit from users in NY-NJ and those outside NY-NJ differs.'\n",
    "\n",
    "a = df9[df9[\"city\"].str.contains('NY-NJ')].profit\n",
    "b = df9[~df9['city'].str.contains('NY-NJ')].profit\n",
    "\n",
    "plt.hist(a,alpha = .5, bins = 10, label = 'a')\n",
    "plt.hist(b,alpha = .5, bins = 10, label = 'b')\n",
    "plt.legend()\n",
    "\n",
    "t2,p2 = st.ttest_ind(a,b)\n",
    "print('t = ' +str(t2))\n",
    "print('p = ' +str(p2))\n",
    "if (p2 < alpha):\n",
    "    print(H0)\n",
    "else:\n",
    "    print(H1)"
   ]
  },
  {
   "cell_type": "code",
   "execution_count": 137,
   "metadata": {},
   "outputs": [
    {
     "data": {
      "text/plain": [
       "Ttest_indResult(statistic=-0.42288137185234087, pvalue=0.6724335644888784)"
      ]
     },
     "execution_count": 137,
     "metadata": {},
     "output_type": "execute_result"
    }
   ],
   "source": [
    "df9.dropna(inplace=True)\n",
    "st.ttest_ind(df9[df9[\"city\"].str.contains('NY-NJ')].profit, df9[~df9[\"city\"].str.contains('NY-NJ')].profit)"
   ]
  },
  {
   "cell_type": "markdown",
   "metadata": {},
   "source": [
    "General Conclusion: Surf has a very high mean as compared to Ultimate and so surf is more profitable that ultimate.The mean profit for NY-NJ is higher than for the other cities put together but their profitability is the same.\n",
    "    "
   ]
  }
 ],
 "metadata": {
  "kernelspec": {
   "display_name": "Python 3",
   "language": "python",
   "name": "python3"
  },
  "language_info": {
   "codemirror_mode": {
    "name": "ipython",
    "version": 3
   },
   "file_extension": ".py",
   "mimetype": "text/x-python",
   "name": "python",
   "nbconvert_exporter": "python",
   "pygments_lexer": "ipython3",
   "version": "3.8.5"
  },
  "toc": {
   "base_numbering": 1,
   "nav_menu": {},
   "number_sections": true,
   "sideBar": true,
   "skip_h1_title": true,
   "title_cell": "Table of Contents",
   "title_sidebar": "Contents",
   "toc_cell": false,
   "toc_position": {},
   "toc_section_display": true,
   "toc_window_display": false
  }
 },
 "nbformat": 4,
 "nbformat_minor": 4
}
