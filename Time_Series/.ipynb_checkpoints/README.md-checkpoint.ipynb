{
 "cells": [
  {
   "cell_type": "markdown",
   "metadata": {},
   "source": [
    "## Predict the amount of taxi orders for the next hour for a Taxi Company"
   ]
  },
  {
   "cell_type": "markdown",
   "metadata": {},
   "source": [
    "**This project shows:**\n",
    "- ability to preprocess the data\n",
    "- ability to use different models and hyperparameters\n",
    "- ability to avoid code duplication\n",
    "- ability to give the findings\n",
    "- ability to keep to the project structure and keep the code neat"
   ]
  },
  {
   "cell_type": "markdown",
   "metadata": {},
   "source": [
    "**The project involves:**\n",
    "- Downloading the data and resampling it by one hour.\n",
    "- Analyzing the data.\n",
    "- Training different models with different hyperparameters. \n",
    "- Ensuring that the test sample is set to 10% of the initial dataset.\n",
    "- Testing the data using the test sample and providing a conclusion."
   ]
  },
  {
   "cell_type": "markdown",
   "metadata": {},
   "source": [
    "## Data Description\n",
    "*datetime -* Thie time the order was given\\\n",
    "*num_orders -* Number of orders given at a given time."
   ]
  },
  {
   "cell_type": "markdown",
   "metadata": {},
   "source": [
    "## Task\n",
    "Sweet Lift Taxi company has collected historical data on taxi orders at airports. To attract more drivers during peak hours, we need to predict the amount of taxi orders for the next hour. Build a model for such a prediction.\n",
    "The RMSE metric on the test set should not be more than 48."
   ]
  },
  {
   "cell_type": "markdown",
   "metadata": {},
   "source": [
    "**Libraries Used**\\\n",
    "_pandas, statsmodels.tsa.seasonal, sklearn.model_selection, sklearn.utils, sklearn.linear_model, sklearn.tree, sklearn.ensemble, sklearn.metrics, matplotlib_"
   ]
  }
 ],
 "metadata": {
  "kernelspec": {
   "display_name": "Python 3",
   "language": "python",
   "name": "python3"
  },
  "language_info": {
   "codemirror_mode": {
    "name": "ipython",
    "version": 3
   },
   "file_extension": ".py",
   "mimetype": "text/x-python",
   "name": "python",
   "nbconvert_exporter": "python",
   "pygments_lexer": "ipython3",
   "version": "3.8.5"
  }
 },
 "nbformat": 4,
 "nbformat_minor": 4
}
