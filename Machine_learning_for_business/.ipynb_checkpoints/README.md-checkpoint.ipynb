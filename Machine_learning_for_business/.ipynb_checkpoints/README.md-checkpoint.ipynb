{
 "cells": [
  {
   "cell_type": "markdown",
   "metadata": {},
   "source": [
    "## Finding The Best Place for a New well For a Mining Company"
   ]
  },
  {
   "cell_type": "markdown",
   "metadata": {},
   "source": [
    "**This project shows;**\n",
    "- ability to use existing libraries to build machine learning models.\n",
    "- ability to take into account all the business conditions\n",
    "- ability to use Bootstrapping technique.\n",
    "- ability to avoid code duplication\n",
    "- ability to suggest the best region for well development and justify the choice.\n",
    "- ability to keep to the project structure and keep the code neat"
   ]
  },
  {
   "cell_type": "markdown",
   "metadata": {},
   "source": [
    "**The project involves:**\n",
    "- Collecting the oil well parameters in the selected region: oil quality and volume of reserves.\n",
    "- Building a model to predict the volume of reserves in the new wells.\n",
    "- Picking the oil wells with the highest estimated values.\n",
    "- Picking the region with the highest total profit for the selected oil wells.\n",
    "- Giving findings about the task study"
   ]
  },
  {
   "cell_type": "markdown",
   "metadata": {},
   "source": [
    "## Data description\n",
    "*id* — unique oil well identifier\\\n",
    "*f0, f1, f2* — three features of points (their specific meaning is unimportant, but the features themselves are significant)\\\n",
    "*product* — volume of reserves in the oil well (thousand barrels)."
   ]
  },
  {
   "cell_type": "markdown",
   "metadata": {},
   "source": [
    "## Task\n",
    "As a Data Scientist for the OilyGiant mining company, I'm required to build a model that will help to pick the region with the highest profit margin and analyze potential profit and risks using the Bootstrapping technique."
   ]
  },
  {
   "cell_type": "markdown",
   "metadata": {},
   "source": [
    "## Libraries Used\n",
    "_pandas numpy sklearn matplotlib_"
   ]
  }
 ],
 "metadata": {
  "kernelspec": {
   "display_name": "Python 3",
   "language": "python",
   "name": "python3"
  },
  "language_info": {
   "codemirror_mode": {
    "name": "ipython",
    "version": 3
   },
   "file_extension": ".py",
   "mimetype": "text/x-python",
   "name": "python",
   "nbconvert_exporter": "python",
   "pygments_lexer": "ipython3",
   "version": "3.8.5"
  }
 },
 "nbformat": 4,
 "nbformat_minor": 4
}
