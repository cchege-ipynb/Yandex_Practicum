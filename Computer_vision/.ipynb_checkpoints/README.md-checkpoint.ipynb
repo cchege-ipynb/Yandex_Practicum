{
 "cells": [
  {
   "cell_type": "markdown",
   "metadata": {},
   "source": [
    "## Using  Data Science to adhere to alcohol laws by making sure no salesare made to people underage."
   ]
  },
  {
   "cell_type": "markdown",
   "metadata": {},
   "source": [
    "**This project shows;**\n",
    "- ability to analyze data\n",
    "- ability to prepare the data for training/testing\n",
    "- ability to choose parameters for a neural network model\n",
    "- ability to give findings and conclusions\n",
    "- ability to keep to the project structure keep the code neat"
   ]
  },
  {
   "cell_type": "markdown",
   "metadata": {},
   "source": [
    "**The project involves:**\n",
    "- Performing exploratory data analysis to get an overall impression of the dataset.\n",
    "- Training and evaluating the model on the GPU platform.\n",
    "- Combining the code, output and findings (from the previous points) in the final Jupyter notebook.\n",
    "- Making conclusions of the model evaluation."
   ]
  },
  {
   "cell_type": "markdown",
   "metadata": {},
   "source": [
    "## Data Description\n",
    "A set of photographs of people with their ages indicated, is provided."
   ]
  },
  {
   "cell_type": "markdown",
   "metadata": {},
   "source": [
    "## Task\n",
    "The supermarket chain Good Seed would like to explore whether Data Science can help them adhere to alcohol laws by making sure they do not sell alcohol to people underage. The following is in consideration:\n",
    "- The shops are equipped with cameras in the checkout area which are triggered when a person is buying alcohol\n",
    "- Computer vision methods can be used to determine age of a person from a photo\n",
    "- The task then is to build and evaluate a model for verifying people's age"
   ]
  },
  {
   "cell_type": "markdown",
   "metadata": {},
   "source": [
    "## Libraries Used\n",
    "_pandas, matplotlib, tensorflow.keras.preprocessing.image_"
   ]
  }
 ],
 "metadata": {
  "kernelspec": {
   "display_name": "Python 3",
   "language": "python",
   "name": "python3"
  },
  "language_info": {
   "codemirror_mode": {
    "name": "ipython",
    "version": 3
   },
   "file_extension": ".py",
   "mimetype": "text/x-python",
   "name": "python",
   "nbconvert_exporter": "python",
   "pygments_lexer": "ipython3",
   "version": "3.8.5"
  }
 },
 "nbformat": 4,
 "nbformat_minor": 4
}
