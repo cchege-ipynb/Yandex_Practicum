{
 "cells": [
  {
   "cell_type": "markdown",
   "metadata": {},
   "source": [
    "## Developing a data transformation algorithm that would make it hard to recover personal information"
   ]
  },
  {
   "cell_type": "markdown",
   "metadata": {},
   "source": [
    "**This project show;**\n",
    "- ability to use data peprocessing skills.\n",
    "- ability to solve the problem at hand.\n",
    "- ability to draw conclusions based on the experience working on the project."
   ]
  },
  {
   "cell_type": "markdown",
   "metadata": {},
   "source": [
    "**The project involves:**\n",
    "- Checking that the data is free of issues such as missing data, extreme values, and so on.\n",
    "- Finding customers who are similar to a given customer. This will help the company's agents with marketing.\n",
    "- Predicting whether a new customer is likely to receive an insurance benefit. While determining whether a prediction model do better than a dummy model.\n",
    "- Predicting the number of insurance benefits a new customer is likely to receive using a linear regression model.\n",
    "- Protecting clients' personal data without breaking the model from the previous task."
   ]
  },
  {
   "cell_type": "markdown",
   "metadata": {},
   "source": [
    "## Data Description\n",
    "*Features:* insured person's gender, age, salary, and number of family members.\\\n",
    "*Target:* number of insurance benefits received by an insured person over the last five years."
   ]
  },
  {
   "cell_type": "markdown",
   "metadata": {},
   "source": [
    "## Task\n",
    "It's necessary to develop a data transformation algorithm that would make it hard to recover personal information if the data fell into the wrong hands. This is called data masking, or data obfuscation. But the data should be protected in such a way that the quality of machine learning models doesn't suffer. There's no need to pick the best model, just to prove that the algorithm works correctly."
   ]
  },
  {
   "cell_type": "markdown",
   "metadata": {},
   "source": [
    "## Libraries Used\n",
    "_pandas numpy sklearn_"
   ]
  }
 ],
 "metadata": {
  "kernelspec": {
   "display_name": "Python 3",
   "language": "python",
   "name": "python3"
  },
  "language_info": {
   "codemirror_mode": {
    "name": "ipython",
    "version": 3
   },
   "file_extension": ".py",
   "mimetype": "text/x-python",
   "name": "python",
   "nbconvert_exporter": "python",
   "pygments_lexer": "ipython3",
   "version": "3.8.5"
  }
 },
 "nbformat": 4,
 "nbformat_minor": 4
}
