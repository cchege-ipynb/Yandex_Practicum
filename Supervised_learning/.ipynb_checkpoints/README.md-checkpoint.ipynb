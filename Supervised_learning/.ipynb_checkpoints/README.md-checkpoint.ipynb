{
 "cells": [
  {
   "cell_type": "markdown",
   "metadata": {},
   "source": [
    "## Predict whether a customer will leave the bank soon"
   ]
  },
  {
   "cell_type": "markdown",
   "metadata": {},
   "source": [
    "**This Project shows;**\n",
    "- ability to  prepare the data for training and process all of the feature types\n",
    "- ability to explained the preprocessing steps thoroughly\n",
    "- ability to investigate the balance of classes\n",
    "- ability to study the model without taking into account the imbalance of classes and giving findings about the task research\n",
    "- ability to split the data into sets\n",
    "- ability to work with the imbalance of classes\n",
    "- ability to use at least two techniques for imbalance fixing\n",
    "- ability to performed the model training, validation, and final testing correctly\n",
    "- ability to abtain an F1 score of 0.59\n",
    "- ability to examine the AUC-ROC values at the given F1 score\n",
    "- ability to keep to the project structure and keep the code neat"
   ]
  },
  {
   "cell_type": "markdown",
   "metadata": {},
   "source": [
    "**The project involves:**\n",
    "- Examining the balance of classes. Train the model without taking into account the imbalance. Describing the findings.\n",
    "- Improving the quality of the model using at least two approaches to fixing class imbalance. Use the training set to pick the best parameters. Train different models on training and validation sets. Find the best one. Describe the findings.\n",
    "- Performing the final testing."
   ]
  },
  {
   "cell_type": "markdown",
   "metadata": {},
   "source": [
    "## Data description\n",
    "### Features\n",
    "*RowNumber* — data string index\\\n",
    "*CustomerId* — unique customer identifier\\\n",
    "*Surname* — surname\\\n",
    "*CreditScore* — credit score\\\n",
    "*Geography* — country of residence\\\n",
    "*Gender* — gender\\\n",
    "*Age* — age\\\n",
    "*Tenure* — period of maturation for a customer’s fixed deposit (years)\\\n",
    "*Balance* — account balance\\\n",
    "*NumOfProducts* — number of banking products used by the customer\\\n",
    "*HasCrCard* — customer has a credit card\\\n",
    "*IsActiveMember* — customer’s activeness\\\n",
    "*EstimatedSalary* — estimated salary\n",
    "### Target\n",
    "*Exited* — сustomer has left"
   ]
  },
  {
   "cell_type": "markdown",
   "metadata": {},
   "source": [
    "## Task\n",
    "Beta Bank customers are leaving: little by little, chipping away every month. The bankers figured out that it’s cheaper to retain the existing customers rather than to attract new ones.\n",
    "We need to predict whether a customer will leave the bank soon. The data on clients’ past behavior and termination of contracts with the bank has been provided.\n",
    "We need to build a model with the maximum possible F1 score of at least 0.59 for the test set.\n",
    "There's also need to measure the AUC-ROC metric and compare it with the F1."
   ]
  },
  {
   "cell_type": "markdown",
   "metadata": {},
   "source": [
    "## Libraries Used\n",
    "_pandas, sklearn.model_selection, sklearn.ensemble, sklearn.tree, sklearn.datasets, sklearn.utils, sklearn.metrics_"
   ]
  }
 ],
 "metadata": {
  "kernelspec": {
   "display_name": "Python 3",
   "language": "python",
   "name": "python3"
  },
  "language_info": {
   "codemirror_mode": {
    "name": "ipython",
    "version": 3
   },
   "file_extension": ".py",
   "mimetype": "text/x-python",
   "name": "python",
   "nbconvert_exporter": "python",
   "pygments_lexer": "ipython3",
   "version": "3.8.5"
  }
 },
 "nbformat": 4,
 "nbformat_minor": 4
}
