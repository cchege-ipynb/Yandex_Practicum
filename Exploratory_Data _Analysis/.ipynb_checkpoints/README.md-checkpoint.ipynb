{
 "cells": [
  {
   "cell_type": "markdown",
   "metadata": {},
   "source": [
    "## Pricing of Vehicles"
   ]
  },
  {
   "cell_type": "markdown",
   "metadata": {},
   "source": [
    "**This project shows;**\n",
    "- ability to write structured Python codes.\n",
    "- ability to use existing libraries to process and analyze data.\n",
    "- ability to use data pre-processing skills.\n",
    "- ability to use exploratory analysis skills."
   ]
  },
  {
   "cell_type": "markdown",
   "metadata": {},
   "source": [
    "**The project involves;**\n",
    "- Processing of missing values.\n",
    "- How to use data slices.\n",
    "- Effectiveness of the graphs in solving the following;\n",
    "    - how outliers affect the form and readability of the histograms\n",
    "    - how to determine the upper limits of outliers, remove the outliers and using the filtered data to plot new histograms.\n",
    "    - how to determine the typical lifetime of an ad when the ads were removed quickly, and when they were listed for an abnormally long time.\n",
    "    - show the dependence of the number of ads on the vehicle type.\n",
    "    - study the factors that impact the price most\n",
    "- Different methods of plotting graphs\n",
    "- Automated graph plotting\n",
    "- Calculation of correlation figures for the data and their exlanation.\n",
    "- Leaving comments at each step\n",
    "- General conclusions"
   ]
  },
  {
   "cell_type": "markdown",
   "metadata": {},
   "source": [
    "**Description of the data**\\\n",
    "The dataset contains the following fields:\\\n",
    "*price\\\n",
    "model_year*\\\n",
    "model*\\\n",
    "condition*\\\n",
    "cylinders*\\\n",
    "fuel* — gas, diesel, etc.\\\n",
    "*odometer* — the vehicle's mileage when the ad was published\\\n",
    "*transmission\\\n",
    "paint_color\\\n",
    "is_4wd* — whether the vehicle has 4-wheel drive (Boolean type)\\\n",
    "*date_posted*_ — the date the ad was published\\\n",
    "*days_listed*— from publication to removal\\"
   ]
  },
  {
   "cell_type": "markdown",
   "metadata": {},
   "source": [
    "## Task\n",
    "As an analyst at Crankshaft List. Hundreds of free advertisements for vehicles are published on your site every day. Data collected over the last few years need to be studied to determine which factors influence the price of a vehicle."
   ]
  },
  {
   "cell_type": "markdown",
   "metadata": {},
   "source": [
    "## Libraries Used\n",
    "_pandas numpy matplotlib_"
   ]
  }
 ],
 "metadata": {
  "kernelspec": {
   "display_name": "Python 3",
   "language": "python",
   "name": "python3"
  },
  "language_info": {
   "codemirror_mode": {
    "name": "ipython",
    "version": 3
   },
   "file_extension": ".py",
   "mimetype": "text/x-python",
   "name": "python",
   "nbconvert_exporter": "python",
   "pygments_lexer": "ipython3",
   "version": "3.8.5"
  }
 },
 "nbformat": 4,
 "nbformat_minor": 4
}
