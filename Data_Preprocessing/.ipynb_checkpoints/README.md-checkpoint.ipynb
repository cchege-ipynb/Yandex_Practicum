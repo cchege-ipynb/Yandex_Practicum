{
 "cells": [
  {
   "cell_type": "markdown",
   "metadata": {},
   "source": [
    "## Analyzing borrowers’ risk of defaulting\n",
    "   "
   ]
  },
  {
   "cell_type": "markdown",
   "metadata": {},
   "source": [
    "**This project shows;**\n",
    "- ability to write structured Python codes\n",
    "- ability of using existing libraries to process and analyze data.\n",
    "- analytical and data pre-processing skills.\n",
    "    "
   ]
  },
  {
   "cell_type": "markdown",
   "metadata": {},
   "source": [
    "**The project involves;**\n",
    "- Identifying and filling in missing values\n",
    "- Replacing the real number data type with the integer type\n",
    "- Deleting duplicate data\n",
    "- Categorizing the data\n",
    "- Explaining the meaning of the results obtained."
   ]
  },
  {
   "cell_type": "markdown",
   "metadata": {},
   "source": [
    "## Description of the data\n",
    "*children:-* the number of children in the family\\\n",
    "*days_employed:-* how long the customer has been working\\\n",
    "*dob_years:-* the customer’s age\\\n",
    "*education:-* the customer’s education level\\\n",
    "*education_id:-* identifier for the customer’s education\\\n",
    "*family_status:-* the customer’s marital status\\\n",
    "*family_status_id:-* identifier for the customer’s marital status\\\n",
    "*gender:-* the customer’s gender\\\n",
    "*income_type:-* the customer’s income type\\\n",
    "*debt:-* whether the customer has ever defaulted on a loan\\\n",
    "*total_income:-* monthly income\\\n",
    "*purpose:-* reason for taking out a loan."
   ]
  },
  {
   "cell_type": "markdown",
   "metadata": {},
   "source": [
    "**Task**\\\n",
    "    To find out if a customer’s marital status and number of children have an impact on whether they will default on a loan. The bank already has some data on customers’ credit worthiness. The results of the research will be considered when building a credit score model that assesses the potential borrower's ability to repay a loan."
   ]
  },
  {
   "cell_type": "markdown",
   "metadata": {},
   "source": [
    " **Libraries Used**\\\n",
    "    _pandas numpy matplotlib seaborn_"
   ]
  }
 ],
 "metadata": {
  "kernelspec": {
   "display_name": "Python 3",
   "language": "python",
   "name": "python3"
  },
  "language_info": {
   "codemirror_mode": {
    "name": "ipython",
    "version": 3
   },
   "file_extension": ".py",
   "mimetype": "text/x-python",
   "name": "python",
   "nbconvert_exporter": "python",
   "pygments_lexer": "ipython3",
   "version": "3.8.5"
  }
 },
 "nbformat": 4,
 "nbformat_minor": 4
}
