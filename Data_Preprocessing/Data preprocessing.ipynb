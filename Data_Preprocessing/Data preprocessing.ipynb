{
 "cells": [
  {
   "cell_type": "markdown",
   "metadata": {},
   "source": [
    "## Analyzing borrowers’ risk of defaulting\n",
    "\n",
    "To find out if a customer’s marital status and number of children has an impact on whether they will default on a loan. The bank already has some data on customers’ credit worthiness.\n"
   ]
  },
  {
   "cell_type": "markdown",
   "metadata": {},
   "source": [
    "### Step 1. Open the data file and have a look at the general information. "
   ]
  },
  {
   "cell_type": "code",
   "execution_count": 4,
   "metadata": {},
   "outputs": [
    {
     "name": "stdout",
     "output_type": "stream",
     "text": [
      "<class 'pandas.core.frame.DataFrame'>\n",
      "RangeIndex: 21525 entries, 0 to 21524\n",
      "Data columns (total 12 columns):\n",
      "children            21525 non-null int64\n",
      "days_employed       19351 non-null float64\n",
      "dob_years           21525 non-null int64\n",
      "education           21525 non-null object\n",
      "education_id        21525 non-null int64\n",
      "family_status       21525 non-null object\n",
      "family_status_id    21525 non-null int64\n",
      "gender              21525 non-null object\n",
      "income_type         21525 non-null object\n",
      "debt                21525 non-null int64\n",
      "total_income        19351 non-null float64\n",
      "purpose             21525 non-null object\n",
      "dtypes: float64(2), int64(5), object(5)\n",
      "memory usage: 2.0+ MB\n",
      "None\n",
      "   children  days_employed  dob_years            education  education_id  \\\n",
      "0         1   -8437.673028         42    bachelor's degree             0   \n",
      "1         1   -4024.803754         36  secondary education             1   \n",
      "2         0   -5623.422610         33  Secondary Education             1   \n",
      "3         3   -4124.747207         32  secondary education             1   \n",
      "4         0  340266.072047         53  secondary education             1   \n",
      "5         0    -926.185831         27    bachelor's degree             0   \n",
      "6         0   -2879.202052         43    bachelor's degree             0   \n",
      "7         0    -152.779569         50  SECONDARY EDUCATION             1   \n",
      "8         2   -6929.865299         35    BACHELOR'S DEGREE             0   \n",
      "9         0   -2188.756445         41  secondary education             1   \n",
      "\n",
      "       family_status  family_status_id gender income_type  debt  total_income  \\\n",
      "0            married                 0      F    employee     0     40620.102   \n",
      "1            married                 0      F    employee     0     17932.802   \n",
      "2            married                 0      M    employee     0     23341.752   \n",
      "3            married                 0      M    employee     0     42820.568   \n",
      "4  civil partnership                 1      F     retiree     0     25378.572   \n",
      "5  civil partnership                 1      M    business     0     40922.170   \n",
      "6            married                 0      F    business     0     38484.156   \n",
      "7            married                 0      M    employee     0     21731.829   \n",
      "8  civil partnership                 1      F    employee     0     15337.093   \n",
      "9            married                 0      M    employee     0     23108.150   \n",
      "\n",
      "                               purpose  \n",
      "0                purchase of the house  \n",
      "1                         car purchase  \n",
      "2                purchase of the house  \n",
      "3              supplementary education  \n",
      "4                    to have a wedding  \n",
      "5                purchase of the house  \n",
      "6                 housing transactions  \n",
      "7                            education  \n",
      "8                     having a wedding  \n",
      "9  purchase of the house for my family  \n"
     ]
    }
   ],
   "source": [
    "import pandas as pd\n",
    "import numpy as np\n",
    "credit_scoring = pd.read_csv()\n",
    "print(credit_scoring.info())\n",
    "print(credit_scoring.head(10))"
   ]
  },
  {
   "cell_type": "markdown",
   "metadata": {},
   "source": [
    "### Conclusion\n",
    "The info() function gives a general description of the data which includes it size and the type of data contained in each field. This is important to guide in knowing the right kind of operation that can be supported by each field.The head() function gives the actual content of the data according to the number of rows specified in the bracket."
   ]
  },
  {
   "cell_type": "markdown",
   "metadata": {},
   "source": [
    "### Step 2. Data preprocessing"
   ]
  },
  {
   "cell_type": "markdown",
   "metadata": {},
   "source": [
    "### Processing missing values"
   ]
  },
  {
   "cell_type": "code",
   "execution_count": 5,
   "metadata": {},
   "outputs": [
    {
     "name": "stdout",
     "output_type": "stream",
     "text": [
      "The Median of days_employed is: 365213.3063\n",
      "The Median of total_income is: 23202.8700\n",
      "\n",
      "0    14272\n",
      "1     4818\n",
      "2     2055\n",
      "3      330\n",
      "4       41\n",
      "5        9\n",
      "Name: children, dtype: int64\n",
      "\n",
      "F      14236\n",
      "M       7288\n",
      "XNA        1\n",
      "Name: gender, dtype: int64\n",
      "\n",
      "F    14237\n",
      "M     7288\n",
      "Name: gender, dtype: int64\n"
     ]
    }
   ],
   "source": [
    "import pandas as pd\n",
    "credit_scoring = pd.read_csv('/datasets/credit_scoring_eng.csv')\n",
    "\n",
    "credit_scoring['days_employed'].sort_values()\n",
    "median_of_days_employed = credit_scoring['days_employed'][credit_scoring['days_employed'] >0].median()\n",
    "credit_scoring['days_employed'] = credit_scoring['days_employed'].fillna(median_of_days_employed)\n",
    " \n",
    "credit_scoring['total_income'].sort_values()\n",
    "credit_scoring_income_median = credit_scoring['total_income'].median()\n",
    "credit_scoring['total_income'] = credit_scoring['total_income'].fillna(credit_scoring_income_median)\n",
    " \n",
    "print('The Median of days_employed is: {:.4f}'.format(median_of_days_employed))\n",
    "print('The Median of total_income is: {:.4f}'.format(credit_scoring_income_median))\n",
    "print('')\n",
    "\n",
    "credit_scoring['children'].replace([-1,20],0, inplace=True)\n",
    "print(credit_scoring['children'].value_counts())\n",
    "print('')\n",
    "print(credit_scoring['gender'].value_counts())\n",
    "print('')\n",
    "credit_scoring['gender'].replace(['XNA'],'F', inplace=True)\n",
    "print(credit_scoring['gender'].value_counts())"
   ]
  },
  {
   "cell_type": "markdown",
   "metadata": {},
   "source": [
    "### Conclusion\n",
    "Some values in days_employed and total_income were empty and needed to be replaced for consistency. In the children column there was a -1 and 20 that were outliers and needed to be replaced. Also there was a wrong value in the gender column i.e. XNA that I replaced to F to make all variables realistic."
   ]
  },
  {
   "cell_type": "markdown",
   "metadata": {},
   "source": [
    "### Data type replacement"
   ]
  },
  {
   "cell_type": "code",
   "execution_count": 6,
   "metadata": {},
   "outputs": [
    {
     "name": "stdout",
     "output_type": "stream",
     "text": [
      "<class 'pandas.core.frame.DataFrame'>\n",
      "RangeIndex: 21525 entries, 0 to 21524\n",
      "Data columns (total 12 columns):\n",
      "children            21525 non-null int64\n",
      "days_employed       21525 non-null int64\n",
      "dob_years           21525 non-null int64\n",
      "education           21525 non-null object\n",
      "education_id        21525 non-null int64\n",
      "family_status       21525 non-null object\n",
      "family_status_id    21525 non-null int64\n",
      "gender              21525 non-null object\n",
      "income_type         21525 non-null object\n",
      "debt                21525 non-null int64\n",
      "total_income        21525 non-null int64\n",
      "purpose             21525 non-null object\n",
      "dtypes: int64(7), object(5)\n",
      "memory usage: 2.0+ MB\n",
      "None\n",
      "\n",
      "secondary education    15233\n",
      "bachelor's degree       5260\n",
      "some college             744\n",
      "primary education        282\n",
      "graduate degree            6\n",
      "Name: education, dtype: int64\n"
     ]
    }
   ],
   "source": [
    "credit_scoring['total_income'] = credit_scoring['total_income'].astype('int')\n",
    "credit_scoring['days_employed'] = credit_scoring['days_employed'].astype('int')\n",
    "credit_scoring['purpose'] = credit_scoring['purpose'].str.lower()\n",
    "credit_scoring['education'] = credit_scoring['education'].str.lower()\n",
    "credit_scoring['income_type'] = credit_scoring['income_type'].str.lower()\n",
    "\n",
    "print(credit_scoring.info())\n",
    "print('')\n",
    "print(credit_scoring['education'].value_counts())"
   ]
  },
  {
   "cell_type": "markdown",
   "metadata": {},
   "source": [
    "### Conclusion\n",
    "Replacing days_employed and total_income to integer from float to make them whole numbers to make these column be realistic. Also making the variables with object datatype to have a common case."
   ]
  },
  {
   "cell_type": "markdown",
   "metadata": {},
   "source": [
    "### Processing duplicates"
   ]
  },
  {
   "cell_type": "code",
   "execution_count": 7,
   "metadata": {
    "scrolled": true
   },
   "outputs": [
    {
     "name": "stdout",
     "output_type": "stream",
     "text": [
      "(21525, 12)\n",
      "(21454, 12)\n"
     ]
    }
   ],
   "source": [
    "\n",
    "credit_scoring.duplicated().sum()\n",
    "credit_scoring[credit_scoring.duplicated()==True].describe()\n",
    "print(credit_scoring.shape)\n",
    "credit_scoring.drop_duplicates(inplace=True)\n",
    "print(credit_scoring.shape)"
   ]
  },
  {
   "cell_type": "markdown",
   "metadata": {},
   "source": [
    "### Conclusion\n",
    "There were 71 duplicated records. I have dropped all the duplicates.\n",
    "The duplicates could have been brought about by the replacement of missing values."
   ]
  },
  {
   "cell_type": "markdown",
   "metadata": {},
   "source": [
    "### Categorizing Data"
   ]
  },
  {
   "cell_type": "code",
   "execution_count": 8,
   "metadata": {},
   "outputs": [
    {
     "name": "stdout",
     "output_type": "stream",
     "text": [
      "married              12339\n",
      "civil partnership     4151\n",
      "unmarried             2810\n",
      "divorced              1195\n",
      "widow / widower        959\n",
      "Name: family_status, dtype: int64\n",
      "\n",
      "married_flag\n",
      "False    0.088865\n",
      "True     0.075452\n",
      "dtype: float64\n"
     ]
    }
   ],
   "source": [
    "print(credit_scoring['family_status'].value_counts())\n",
    "\n",
    "\n",
    "credit_scoring['married_flag'] = credit_scoring.family_status=='married'\n",
    "credit_scoring['kids_flag'] = credit_scoring.children>0\n",
    "credit_scoring['income_bin'] = pd.cut(credit_scoring.total_income, [0,25000,50000,75000,100000,np.inf])\n",
    "print('')\n",
    "print(credit_scoring.groupby('married_flag').apply(lambda x: x.debt.sum()/x.debt.count()))"
   ]
  },
  {
   "cell_type": "markdown",
   "metadata": {
    "jupyter": {
     "source_hidden": true
    }
   },
   "source": [
    "<div class=\"alert alert-block alert-danger\">\n",
    "<b>Needs fixing:</b> <br> 1)\n",
    "There is no need to do a second import, since 1 time is enough.\n",
    "\n",
    "2) There is no need to download the dataset again, because it makes no sense and you overwrite all your previous actions.\n",
    "</div>"
   ]
  },
  {
   "cell_type": "markdown",
   "metadata": {},
   "source": [
    "### Conclusion\n",
    "This is category per datatype values of the dataframe in culomn family_status. "
   ]
  },
  {
   "cell_type": "markdown",
   "metadata": {},
   "source": [
    "### Step 3. Answer these questions"
   ]
  },
  {
   "cell_type": "markdown",
   "metadata": {},
   "source": [
    "- Is there a relation between having kids and repaying a loan on time?"
   ]
  },
  {
   "cell_type": "code",
   "execution_count": 9,
   "metadata": {},
   "outputs": [
    {
     "name": "stdout",
     "output_type": "stream",
     "text": [
      "children\n",
      "0    0.075419\n",
      "1    0.092346\n",
      "2    0.094542\n",
      "3    0.081818\n",
      "4    0.097561\n",
      "5    0.000000\n",
      "Name: debt, dtype: float64\n",
      "\n",
      "kids_flag\n",
      "False    0.075419\n",
      "True     0.092403\n",
      "dtype: float64\n"
     ]
    }
   ],
   "source": [
    "print(credit_scoring.groupby('children')['debt'].sum()/credit_scoring.groupby('children')['debt'].count().sort_values())\n",
    "print('')\n",
    "print(credit_scoring.groupby('kids_flag').apply(lambda x: x.debt.sum()/x.debt.count()))"
   ]
  },
  {
   "cell_type": "markdown",
   "metadata": {},
   "source": [
    "### Conclusion\n",
    "The more the children the less the debt upto 5 children. But if the number of children rises to 20 the rate of debt start to increase. Meaning that as responsibilities grow the rate of debt descreases."
   ]
  },
  {
   "cell_type": "markdown",
   "metadata": {},
   "source": [
    "- Is there a relation between marital status and repaying a loan on time?"
   ]
  },
  {
   "cell_type": "code",
   "execution_count": 7,
   "metadata": {},
   "outputs": [
    {
     "name": "stdout",
     "output_type": "stream",
     "text": [
      "family_status\n",
      "civil partnership    0.093471\n",
      "divorced             0.071130\n",
      "married              0.075452\n",
      "unmarried            0.097509\n",
      "widow / widower      0.065693\n",
      "Name: debt, dtype: float64\n"
     ]
    }
   ],
   "source": [
    "print(credit_scoring.groupby('family_status')['debt'].sum()/credit_scoring.groupby('family_status')['debt'].count().sort_values())"
   ]
  },
  {
   "cell_type": "markdown",
   "metadata": {},
   "source": [
    "### Conclusion\n",
    "The rate of debt is higher among the unmarried followed by civil partnership. And lowest among the widows and widower."
   ]
  },
  {
   "cell_type": "markdown",
   "metadata": {},
   "source": [
    "- Is there a relation between income level and repaying a loan on time?"
   ]
  },
  {
   "cell_type": "code",
   "execution_count": 10,
   "metadata": {},
   "outputs": [
    {
     "name": "stdout",
     "output_type": "stream",
     "text": [
      "income_bin\n",
      "(0.0, 25000.0]         0.082938\n",
      "(25000.0, 50000.0]     0.080071\n",
      "(50000.0, 75000.0]     0.073643\n",
      "(75000.0, 100000.0]    0.052910\n",
      "(100000.0, inf]        0.060606\n",
      "dtype: float64\n"
     ]
    }
   ],
   "source": [
    "print(credit_scoring.groupby('income_bin').apply(lambda x: x.debt.sum()/x.debt.count()))"
   ]
  },
  {
   "cell_type": "markdown",
   "metadata": {},
   "source": [
    "### Conclusion\n",
    "Those with higher income have a higher default rate."
   ]
  },
  {
   "cell_type": "markdown",
   "metadata": {},
   "source": [
    "- How do different loan purposes affect on-time repayment of the loan?"
   ]
  },
  {
   "cell_type": "code",
   "execution_count": 13,
   "metadata": {},
   "outputs": [
    {
     "data": {
      "text/plain": [
       "purpose_bin\n",
       "car          0.093590\n",
       "education    0.091817\n",
       "house        0.072334\n",
       "other        0.095588\n",
       "wedding      0.080034\n",
       "dtype: float64"
      ]
     },
     "execution_count": 13,
     "metadata": {},
     "output_type": "execute_result"
    }
   ],
   "source": [
    "\n",
    "def purpose(value):\n",
    "    if 'university' in value or 'education' in value:\n",
    "        return 'education'\n",
    "    if 'house' in value or 'housing' in value or 'estate' in value or 'property' in value:\n",
    "        return 'house'\n",
    "    if 'car' in value:\n",
    "        return 'car'\n",
    "    if 'wed' in value:\n",
    "        return 'wedding'\n",
    "    else:\n",
    "        return 'other'\n",
    "credit_scoring['purpose_bin']=credit_scoring.purpose.apply(purpose)\n",
    "credit_scoring.groupby('purpose_bin').apply(lambda x: x.debt.sum()/x.debt.count())"
   ]
  },
  {
   "cell_type": "markdown",
   "metadata": {},
   "source": [
    "### Conclusion\n",
    "Those seeking education have considerably high defaulter rate than all others. The least defaulters are wedding financing. Am unable to run this code. Please guide."
   ]
  }
 ],
 "metadata": {
  "kernelspec": {
   "display_name": "Python 3",
   "language": "python",
   "name": "python3"
  },
  "language_info": {
   "codemirror_mode": {
    "name": "ipython",
    "version": 3
   },
   "file_extension": ".py",
   "mimetype": "text/x-python",
   "name": "python",
   "nbconvert_exporter": "python",
   "pygments_lexer": "ipython3",
   "version": "3.8.5"
  },
  "toc": {
   "base_numbering": 1,
   "nav_menu": {},
   "number_sections": true,
   "sideBar": true,
   "skip_h1_title": true,
   "title_cell": "Table of Contents",
   "title_sidebar": "Contents",
   "toc_cell": false,
   "toc_position": {},
   "toc_section_display": true,
   "toc_window_display": false
  }
 },
 "nbformat": 4,
 "nbformat_minor": 4
}
