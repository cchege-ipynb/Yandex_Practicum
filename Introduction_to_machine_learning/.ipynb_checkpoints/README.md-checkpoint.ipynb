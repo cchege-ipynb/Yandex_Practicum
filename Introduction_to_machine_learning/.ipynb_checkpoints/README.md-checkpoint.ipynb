{
 "cells": [
  {
   "cell_type": "markdown",
   "metadata": {},
   "source": [
    "## Developing a Model to pick the right plan for the subscribers of a Telecom Company"
   ]
  },
  {
   "cell_type": "markdown",
   "metadata": {},
   "source": [
    "**This project shows;**\n",
    "- ability to use existing libraries to build machine learning models.\n",
    "- ability to keep to the project structure and keep the code neat"
   ]
  },
  {
   "cell_type": "markdown",
   "metadata": {},
   "source": [
    "**This project involves:**\n",
    "- Splitting the data into train, validation, and test sets.\n",
    "- Choosing the sets' sizes.\n",
    "- Investigating the quality of different models by changing hyperparameters.\n",
    "- Describing the findings of the study.\n",
    "- Testing the models.\n",
    "- Checking the quality of the model using the test set.\n",
    "- Sanity checking the model.\n",
    "- General conclusion."
   ]
  },
  {
   "cell_type": "markdown",
   "metadata": {},
   "source": [
    "## Data description\n",
    "Every observation in the dataset contains monthly behavior information about one user. The information given is as follows:\\\n",
    "сalls — number of calls,\\\n",
    "*minutes* — total call duration in minutes,\\\n",
    "*messages* — number of text messages,\\\n",
    "*mb_used* — Internet traffic used in MB,\\\n",
    "*is_ultra* — plan for the current month (Ultra - 1, Smart - 0)."
   ]
  },
  {
   "cell_type": "markdown",
   "metadata": {},
   "source": [
    "## Task\n",
    "Mobile carrier Megaline had found out that many of their subscribers were using legacy plans. They wanted to develop a model that would analyze subscribers' behavior and recommend one of Megaline's newer plans: Smart or Ultra.The task is to develop a model that will pick the right plan.\\\n",
    "    The threshold for accuracy should be 0.75 using the test dataset."
   ]
  },
  {
   "cell_type": "markdown",
   "metadata": {},
   "source": [
    "## Libraries Used\n",
    "_pandas and sklearn_"
   ]
  }
 ],
 "metadata": {
  "kernelspec": {
   "display_name": "Python 3",
   "language": "python",
   "name": "python3"
  },
  "language_info": {
   "codemirror_mode": {
    "name": "ipython",
    "version": 3
   },
   "file_extension": ".py",
   "mimetype": "text/x-python",
   "name": "python",
   "nbconvert_exporter": "python",
   "pygments_lexer": "ipython3",
   "version": "3.8.5"
  }
 },
 "nbformat": 4,
 "nbformat_minor": 4
}
