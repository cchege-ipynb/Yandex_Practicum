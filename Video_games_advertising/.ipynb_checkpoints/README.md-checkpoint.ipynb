{
 "cells": [
  {
   "cell_type": "markdown",
   "metadata": {},
   "source": [
    "## Determine whether a game succeeds or not in  video game advertising campaigns"
   ]
  },
  {
   "cell_type": "markdown",
   "metadata": {},
   "source": [
    "**This project shows;**\n",
    "- ability to prepare a dataset for analysis\n",
    "- ability to build distribution graphs and explain them\n",
    "- ability to calculate standard deviation and variance\n",
    "- ability to formulate alternative and null hypotheses\n",
    "- ability to apply relevant when testing them\n",
    "- ability to explain the results of the hypothesis tests\n",
    "- ability to follow the project structure and keep your code neat and comprehensible\n",
    "- ability to give relevant conclusions\n",
    "- ability to leave clear, relevant comments at each step"
   ]
  },
  {
   "cell_type": "markdown",
   "metadata": {},
   "source": [
    "**The project involves:**\n",
    "- Replacing the column names (make them lowercase).\n",
    "- Converting the data to the required types.\n",
    "- Describing the columns where the data types have been changed.\n",
    "- Dealing with missing values:\n",
    "    - Explaining the reason for filled in the missing values and not to leave them blank.\n",
    "    - Exlpaining why the values are missing giving possible reasons.\n",
    "    - Paying attention to the abbreviation TBD (to be determined) specify how to handle such cases.\n",
    "- Calculating the total sales (the sum of sales in all regions) for each game and putting these values in a separate column.\n",
    "- Looking at how many games were released in different years. Describing the significance of the data for every period.\n",
    "- Considering the varied sales from platform to platform, choose the platforms with the greatest total sales and build a distribution based on data for each year. Find platforms that used to be popular but now have zero sales. How long does it generally take for new platforms to appear and old ones to fade?\n",
    "- Determining what period you should take data for using the answers to the previous task. The data should allow one to build a prognosis for 2017.\n",
    "- Choose the data that is relevant. Disregard the data for previous years.\n",
    "- Determining the platforms are leading in sales and the ones growing or shrinking. Also selecting several potentially profitable platforms.\n",
    "- Building a box plot for the global sales of all games, broken down by platform. Explaining the differences in sales significant and average sales on various platforms.\n",
    "- Looking at how user and professional reviews affect sales for one popular platform, build a scatter plot and calculate the correlation between reviews and sales. Drawing conclusions.\n",
    "- With the conclusions in mind, comparing the sales of the same games on other platforms.\n",
    "- Taking a look at the general distribution of games by genre. Decribe the most profitable genres and the genres with high and low sales.\n",
    "- For each region (NA, EU, JP), determining:\n",
    "       - The top five platforms. Describe variations in their market shares from region to region.\n",
    "       - The top five genres and explaining the difference.\n",
    "       - Whether the ESRB ratings affect sales in individual regions.\n",
    "- Testing the following hypotheses:\n",
    "        — Average user ratings of the Xbox One and PC platforms are the same.\n",
    "        — Average user ratings for the Action and Sports genres are different.\n",
    "- Setting the alpha threshold value.\n",
    "- Explaining:\n",
    "        — The formulation of the null and alternative hypotheses\n",
    "        — The significance level chosen to test the hypotheses, and why."
   ]
  },
  {
   "cell_type": "markdown",
   "metadata": {},
   "source": [
    "## Data description\n",
    "— *Name*\\\n",
    "— *Platform*\\\n",
    "— *Year_of_Release*\\\n",
    "— *Genre*\\\n",
    "— *NA_sales* (North American sales in USD million)\\\n",
    "— *EU_sales* (sales in Europe in USD million)\\\n",
    "— *JP_sales* (sales in Japan in USD million)\\\n",
    "— *Other_sales* (sales in other countries in USD million)\\\n",
    "— *Critic_Score* (maximum of 100)\\\n",
    "— *User_Score* (maximum of 10)\\\n",
    "— *Rating* (ESRB)"
   ]
  },
  {
   "cell_type": "code",
   "execution_count": null,
   "metadata": {},
   "outputs": [],
   "source": []
  },
  {
   "cell_type": "code",
   "execution_count": null,
   "metadata": {},
   "outputs": [],
   "source": []
  }
 ],
 "metadata": {
  "kernelspec": {
   "display_name": "Python 3",
   "language": "python",
   "name": "python3"
  },
  "language_info": {
   "codemirror_mode": {
    "name": "ipython",
    "version": 3
   },
   "file_extension": ".py",
   "mimetype": "text/x-python",
   "name": "python",
   "nbconvert_exporter": "python",
   "pygments_lexer": "ipython3",
   "version": "3.8.5"
  }
 },
 "nbformat": 4,
 "nbformat_minor": 4
}
