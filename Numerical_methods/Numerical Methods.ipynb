{
 "cells": [
  {
   "cell_type": "markdown",
   "metadata": {},
   "source": [
    "A used car sales service dealer is developing an app to attract new customers. In that app, you can quickly find out the market value of your car. You have access to historical data: technical specifications, trim versions, and prices. There is need to build the model to determine the value. \n",
    "\n",
    "The dealer is interested in:\n",
    "\n",
    "- the quality of the prediction;\n",
    "- the speed of the prediction;\n",
    "- the time required for training"
   ]
  },
  {
   "cell_type": "markdown",
   "metadata": {},
   "source": [
    "## Data preparation"
   ]
  },
  {
   "cell_type": "code",
   "execution_count": 14,
   "metadata": {},
   "outputs": [
    {
     "data": {
      "text/html": [
       "<div>\n",
       "<style scoped>\n",
       "    .dataframe tbody tr th:only-of-type {\n",
       "        vertical-align: middle;\n",
       "    }\n",
       "\n",
       "    .dataframe tbody tr th {\n",
       "        vertical-align: top;\n",
       "    }\n",
       "\n",
       "    .dataframe thead th {\n",
       "        text-align: right;\n",
       "    }\n",
       "</style>\n",
       "<table border=\"1\" class=\"dataframe\">\n",
       "  <thead>\n",
       "    <tr style=\"text-align: right;\">\n",
       "      <th></th>\n",
       "      <th>DateCrawled</th>\n",
       "      <th>Price</th>\n",
       "      <th>VehicleType</th>\n",
       "      <th>RegistrationYear</th>\n",
       "      <th>Gearbox</th>\n",
       "      <th>Power</th>\n",
       "      <th>Model</th>\n",
       "      <th>Mileage</th>\n",
       "      <th>RegistrationMonth</th>\n",
       "      <th>FuelType</th>\n",
       "      <th>Brand</th>\n",
       "      <th>NotRepaired</th>\n",
       "      <th>DateCreated</th>\n",
       "      <th>NumberOfPictures</th>\n",
       "      <th>PostalCode</th>\n",
       "      <th>LastSeen</th>\n",
       "    </tr>\n",
       "  </thead>\n",
       "  <tbody>\n",
       "    <tr>\n",
       "      <td>0</td>\n",
       "      <td>24/03/2016 11:52</td>\n",
       "      <td>480</td>\n",
       "      <td>NaN</td>\n",
       "      <td>1993</td>\n",
       "      <td>manual</td>\n",
       "      <td>0</td>\n",
       "      <td>golf</td>\n",
       "      <td>150000</td>\n",
       "      <td>0</td>\n",
       "      <td>petrol</td>\n",
       "      <td>volkswagen</td>\n",
       "      <td>NaN</td>\n",
       "      <td>24/03/2016 00:00</td>\n",
       "      <td>0</td>\n",
       "      <td>70435</td>\n",
       "      <td>07/04/2016 03:16</td>\n",
       "    </tr>\n",
       "    <tr>\n",
       "      <td>1</td>\n",
       "      <td>24/03/2016 10:58</td>\n",
       "      <td>18300</td>\n",
       "      <td>coupe</td>\n",
       "      <td>2011</td>\n",
       "      <td>manual</td>\n",
       "      <td>190</td>\n",
       "      <td>NaN</td>\n",
       "      <td>125000</td>\n",
       "      <td>5</td>\n",
       "      <td>gasoline</td>\n",
       "      <td>audi</td>\n",
       "      <td>yes</td>\n",
       "      <td>24/03/2016 00:00</td>\n",
       "      <td>0</td>\n",
       "      <td>66954</td>\n",
       "      <td>07/04/2016 01:46</td>\n",
       "    </tr>\n",
       "    <tr>\n",
       "      <td>2</td>\n",
       "      <td>14/03/2016 12:52</td>\n",
       "      <td>9800</td>\n",
       "      <td>suv</td>\n",
       "      <td>2004</td>\n",
       "      <td>auto</td>\n",
       "      <td>163</td>\n",
       "      <td>grand</td>\n",
       "      <td>125000</td>\n",
       "      <td>8</td>\n",
       "      <td>gasoline</td>\n",
       "      <td>jeep</td>\n",
       "      <td>NaN</td>\n",
       "      <td>14/03/2016 00:00</td>\n",
       "      <td>0</td>\n",
       "      <td>90480</td>\n",
       "      <td>05/04/2016 12:47</td>\n",
       "    </tr>\n",
       "    <tr>\n",
       "      <td>3</td>\n",
       "      <td>17/03/2016 16:54</td>\n",
       "      <td>1500</td>\n",
       "      <td>small</td>\n",
       "      <td>2001</td>\n",
       "      <td>manual</td>\n",
       "      <td>75</td>\n",
       "      <td>golf</td>\n",
       "      <td>150000</td>\n",
       "      <td>6</td>\n",
       "      <td>petrol</td>\n",
       "      <td>volkswagen</td>\n",
       "      <td>no</td>\n",
       "      <td>17/03/2016 00:00</td>\n",
       "      <td>0</td>\n",
       "      <td>91074</td>\n",
       "      <td>17/03/2016 17:40</td>\n",
       "    </tr>\n",
       "    <tr>\n",
       "      <td>4</td>\n",
       "      <td>31/03/2016 17:25</td>\n",
       "      <td>3600</td>\n",
       "      <td>small</td>\n",
       "      <td>2008</td>\n",
       "      <td>manual</td>\n",
       "      <td>69</td>\n",
       "      <td>fabia</td>\n",
       "      <td>90000</td>\n",
       "      <td>7</td>\n",
       "      <td>gasoline</td>\n",
       "      <td>skoda</td>\n",
       "      <td>no</td>\n",
       "      <td>31/03/2016 00:00</td>\n",
       "      <td>0</td>\n",
       "      <td>60437</td>\n",
       "      <td>06/04/2016 10:17</td>\n",
       "    </tr>\n",
       "  </tbody>\n",
       "</table>\n",
       "</div>"
      ],
      "text/plain": [
       "        DateCrawled  Price VehicleType  RegistrationYear Gearbox  Power  \\\n",
       "0  24/03/2016 11:52    480         NaN              1993  manual      0   \n",
       "1  24/03/2016 10:58  18300       coupe              2011  manual    190   \n",
       "2  14/03/2016 12:52   9800         suv              2004    auto    163   \n",
       "3  17/03/2016 16:54   1500       small              2001  manual     75   \n",
       "4  31/03/2016 17:25   3600       small              2008  manual     69   \n",
       "\n",
       "   Model  Mileage  RegistrationMonth  FuelType       Brand NotRepaired  \\\n",
       "0   golf   150000                  0    petrol  volkswagen         NaN   \n",
       "1    NaN   125000                  5  gasoline        audi         yes   \n",
       "2  grand   125000                  8  gasoline        jeep         NaN   \n",
       "3   golf   150000                  6    petrol  volkswagen          no   \n",
       "4  fabia    90000                  7  gasoline       skoda          no   \n",
       "\n",
       "        DateCreated  NumberOfPictures  PostalCode          LastSeen  \n",
       "0  24/03/2016 00:00                 0       70435  07/04/2016 03:16  \n",
       "1  24/03/2016 00:00                 0       66954  07/04/2016 01:46  \n",
       "2  14/03/2016 00:00                 0       90480  05/04/2016 12:47  \n",
       "3  17/03/2016 00:00                 0       91074  17/03/2016 17:40  \n",
       "4  31/03/2016 00:00                 0       60437  06/04/2016 10:17  "
      ]
     },
     "metadata": {},
     "output_type": "display_data"
    }
   ],
   "source": [
    "import numpy as np\n",
    "import pandas as pd\n",
    "import matplotlib.pyplot as plt\n",
    "from scipy import stats as st\n",
    "from sklearn.model_selection import train_test_split, cross_val_score\n",
    "from sklearn.linear_model import LinearRegression\n",
    "from sklearn.tree import DecisionTreeRegressor\n",
    "from sklearn.ensemble import RandomForestRegressor\n",
    "from sklearn.metrics import mean_absolute_error \n",
    "from sklearn.metrics import mean_squared_error, make_scorer\n",
    "from sklearn.datasets import make_regression\n",
    "from lightgbm import LGBMRegressor\n",
    "from catboost import CatBoostRegressor\n",
    "from sklearn.model_selection import cross_val_score\n",
    "from sklearn.model_selection import RepeatedKFold\n",
    "\n",
    "try:\n",
    "    df = pd.read_csv('.csv')\n",
    "except:\n",
    "    df = pd.read_csv('.csv')\n",
    "     \n",
    "display(df.head(5))"
   ]
  },
  {
   "cell_type": "markdown",
   "metadata": {},
   "source": [
    "Viewing the content of the table data."
   ]
  },
  {
   "cell_type": "code",
   "execution_count": 15,
   "metadata": {},
   "outputs": [
    {
     "name": "stdout",
     "output_type": "stream",
     "text": [
      "<class 'pandas.core.frame.DataFrame'>\n",
      "RangeIndex: 354369 entries, 0 to 354368\n",
      "Data columns (total 16 columns):\n",
      "DateCrawled          354369 non-null object\n",
      "Price                354369 non-null int64\n",
      "VehicleType          316879 non-null object\n",
      "RegistrationYear     354369 non-null int64\n",
      "Gearbox              334536 non-null object\n",
      "Power                354369 non-null int64\n",
      "Model                334664 non-null object\n",
      "Mileage              354369 non-null int64\n",
      "RegistrationMonth    354369 non-null int64\n",
      "FuelType             321474 non-null object\n",
      "Brand                354369 non-null object\n",
      "NotRepaired          283215 non-null object\n",
      "DateCreated          354369 non-null object\n",
      "NumberOfPictures     354369 non-null int64\n",
      "PostalCode           354369 non-null int64\n",
      "LastSeen             354369 non-null object\n",
      "dtypes: int64(7), object(9)\n",
      "memory usage: 43.3+ MB\n"
     ]
    }
   ],
   "source": [
    "df.info()"
   ]
  },
  {
   "cell_type": "markdown",
   "metadata": {},
   "source": [
    "Viewing the type of data and the completeness of each column."
   ]
  },
  {
   "cell_type": "markdown",
   "metadata": {},
   "source": [
    "Processing the categorical data using One-Hot Encoding method."
   ]
  },
  {
   "cell_type": "code",
   "execution_count": 16,
   "metadata": {},
   "outputs": [
    {
     "data": {
      "text/html": [
       "<div>\n",
       "<style scoped>\n",
       "    .dataframe tbody tr th:only-of-type {\n",
       "        vertical-align: middle;\n",
       "    }\n",
       "\n",
       "    .dataframe tbody tr th {\n",
       "        vertical-align: top;\n",
       "    }\n",
       "\n",
       "    .dataframe thead th {\n",
       "        text-align: right;\n",
       "    }\n",
       "</style>\n",
       "<table border=\"1\" class=\"dataframe\">\n",
       "  <thead>\n",
       "    <tr style=\"text-align: right;\">\n",
       "      <th></th>\n",
       "      <th>DateCrawled</th>\n",
       "      <th>Price</th>\n",
       "      <th>VehicleType</th>\n",
       "      <th>RegistrationYear</th>\n",
       "      <th>Gearbox</th>\n",
       "      <th>Power</th>\n",
       "      <th>Model</th>\n",
       "      <th>Mileage</th>\n",
       "      <th>RegistrationMonth</th>\n",
       "      <th>FuelType</th>\n",
       "      <th>...</th>\n",
       "      <th>PostalCode</th>\n",
       "      <th>LastSeen</th>\n",
       "      <th>bus</th>\n",
       "      <th>convertible</th>\n",
       "      <th>coupe</th>\n",
       "      <th>other</th>\n",
       "      <th>sedan</th>\n",
       "      <th>small</th>\n",
       "      <th>suv</th>\n",
       "      <th>wagon</th>\n",
       "    </tr>\n",
       "  </thead>\n",
       "  <tbody>\n",
       "    <tr>\n",
       "      <td>0</td>\n",
       "      <td>24/03/2016 11:52</td>\n",
       "      <td>480</td>\n",
       "      <td>NaN</td>\n",
       "      <td>1993</td>\n",
       "      <td>manual</td>\n",
       "      <td>0</td>\n",
       "      <td>golf</td>\n",
       "      <td>150000</td>\n",
       "      <td>0</td>\n",
       "      <td>petrol</td>\n",
       "      <td>...</td>\n",
       "      <td>70435</td>\n",
       "      <td>07/04/2016 03:16</td>\n",
       "      <td>0</td>\n",
       "      <td>0</td>\n",
       "      <td>0</td>\n",
       "      <td>0</td>\n",
       "      <td>0</td>\n",
       "      <td>0</td>\n",
       "      <td>0</td>\n",
       "      <td>0</td>\n",
       "    </tr>\n",
       "    <tr>\n",
       "      <td>1</td>\n",
       "      <td>24/03/2016 10:58</td>\n",
       "      <td>18300</td>\n",
       "      <td>coupe</td>\n",
       "      <td>2011</td>\n",
       "      <td>manual</td>\n",
       "      <td>190</td>\n",
       "      <td>NaN</td>\n",
       "      <td>125000</td>\n",
       "      <td>5</td>\n",
       "      <td>gasoline</td>\n",
       "      <td>...</td>\n",
       "      <td>66954</td>\n",
       "      <td>07/04/2016 01:46</td>\n",
       "      <td>0</td>\n",
       "      <td>0</td>\n",
       "      <td>1</td>\n",
       "      <td>0</td>\n",
       "      <td>0</td>\n",
       "      <td>0</td>\n",
       "      <td>0</td>\n",
       "      <td>0</td>\n",
       "    </tr>\n",
       "    <tr>\n",
       "      <td>2</td>\n",
       "      <td>14/03/2016 12:52</td>\n",
       "      <td>9800</td>\n",
       "      <td>suv</td>\n",
       "      <td>2004</td>\n",
       "      <td>auto</td>\n",
       "      <td>163</td>\n",
       "      <td>grand</td>\n",
       "      <td>125000</td>\n",
       "      <td>8</td>\n",
       "      <td>gasoline</td>\n",
       "      <td>...</td>\n",
       "      <td>90480</td>\n",
       "      <td>05/04/2016 12:47</td>\n",
       "      <td>0</td>\n",
       "      <td>0</td>\n",
       "      <td>0</td>\n",
       "      <td>0</td>\n",
       "      <td>0</td>\n",
       "      <td>0</td>\n",
       "      <td>1</td>\n",
       "      <td>0</td>\n",
       "    </tr>\n",
       "    <tr>\n",
       "      <td>3</td>\n",
       "      <td>17/03/2016 16:54</td>\n",
       "      <td>1500</td>\n",
       "      <td>small</td>\n",
       "      <td>2001</td>\n",
       "      <td>manual</td>\n",
       "      <td>75</td>\n",
       "      <td>golf</td>\n",
       "      <td>150000</td>\n",
       "      <td>6</td>\n",
       "      <td>petrol</td>\n",
       "      <td>...</td>\n",
       "      <td>91074</td>\n",
       "      <td>17/03/2016 17:40</td>\n",
       "      <td>0</td>\n",
       "      <td>0</td>\n",
       "      <td>0</td>\n",
       "      <td>0</td>\n",
       "      <td>0</td>\n",
       "      <td>1</td>\n",
       "      <td>0</td>\n",
       "      <td>0</td>\n",
       "    </tr>\n",
       "    <tr>\n",
       "      <td>4</td>\n",
       "      <td>31/03/2016 17:25</td>\n",
       "      <td>3600</td>\n",
       "      <td>small</td>\n",
       "      <td>2008</td>\n",
       "      <td>manual</td>\n",
       "      <td>69</td>\n",
       "      <td>fabia</td>\n",
       "      <td>90000</td>\n",
       "      <td>7</td>\n",
       "      <td>gasoline</td>\n",
       "      <td>...</td>\n",
       "      <td>60437</td>\n",
       "      <td>06/04/2016 10:17</td>\n",
       "      <td>0</td>\n",
       "      <td>0</td>\n",
       "      <td>0</td>\n",
       "      <td>0</td>\n",
       "      <td>0</td>\n",
       "      <td>1</td>\n",
       "      <td>0</td>\n",
       "      <td>0</td>\n",
       "    </tr>\n",
       "  </tbody>\n",
       "</table>\n",
       "<p>5 rows × 24 columns</p>\n",
       "</div>"
      ],
      "text/plain": [
       "        DateCrawled  Price VehicleType  RegistrationYear Gearbox  Power  \\\n",
       "0  24/03/2016 11:52    480         NaN              1993  manual      0   \n",
       "1  24/03/2016 10:58  18300       coupe              2011  manual    190   \n",
       "2  14/03/2016 12:52   9800         suv              2004    auto    163   \n",
       "3  17/03/2016 16:54   1500       small              2001  manual     75   \n",
       "4  31/03/2016 17:25   3600       small              2008  manual     69   \n",
       "\n",
       "   Model  Mileage  RegistrationMonth  FuelType  ... PostalCode  \\\n",
       "0   golf   150000                  0    petrol  ...      70435   \n",
       "1    NaN   125000                  5  gasoline  ...      66954   \n",
       "2  grand   125000                  8  gasoline  ...      90480   \n",
       "3   golf   150000                  6    petrol  ...      91074   \n",
       "4  fabia    90000                  7  gasoline  ...      60437   \n",
       "\n",
       "           LastSeen bus  convertible  coupe other  sedan  small  suv  wagon  \n",
       "0  07/04/2016 03:16   0            0      0     0      0      0    0      0  \n",
       "1  07/04/2016 01:46   0            0      1     0      0      0    0      0  \n",
       "2  05/04/2016 12:47   0            0      0     0      0      0    1      0  \n",
       "3  17/03/2016 17:40   0            0      0     0      0      1    0      0  \n",
       "4  06/04/2016 10:17   0            0      0     0      0      1    0      0  \n",
       "\n",
       "[5 rows x 24 columns]"
      ]
     },
     "metadata": {},
     "output_type": "display_data"
    }
   ],
   "source": [
    "df_ohe_vehicleType = pd.get_dummies(df['VehicleType'])\n",
    "df_ohe_1 = pd.concat([df, df_ohe_vehicleType], axis=1)\n",
    "\n",
    "display(df_ohe_1.head(5))"
   ]
  },
  {
   "cell_type": "code",
   "execution_count": 17,
   "metadata": {},
   "outputs": [],
   "source": [
    "df_ohe_Gearbox = pd.get_dummies(df_ohe_1['Gearbox'])\n",
    "df_ohe_2 = pd.concat([df_ohe_1, df_ohe_Gearbox], axis=1)\n"
   ]
  },
  {
   "cell_type": "code",
   "execution_count": 18,
   "metadata": {},
   "outputs": [],
   "source": [
    "df_ohe_FuelType = pd.get_dummies(df_ohe_2['FuelType'])\n",
    "df_ohe_3 = pd.concat([df_ohe_2, df_ohe_FuelType], axis=1)\n"
   ]
  },
  {
   "cell_type": "code",
   "execution_count": 19,
   "metadata": {},
   "outputs": [],
   "source": [
    "df_ohe_Brand = pd.get_dummies(df_ohe_3['Brand'])\n",
    "df_ohe_4 = pd.concat([df_ohe_3, df_ohe_Brand], axis=1)\n"
   ]
  },
  {
   "cell_type": "code",
   "execution_count": 20,
   "metadata": {},
   "outputs": [],
   "source": [
    "df_ohe_NotRepaired = pd.get_dummies(df_ohe_3['NotRepaired'])\n",
    "df_ohe_5 = pd.concat([df_ohe_4, df_ohe_NotRepaired], axis=1)\n"
   ]
  },
  {
   "cell_type": "markdown",
   "metadata": {},
   "source": [
    "Viewing the table and the datatype after the One-Hot Encoding method."
   ]
  },
  {
   "cell_type": "code",
   "execution_count": 21,
   "metadata": {},
   "outputs": [
    {
     "data": {
      "text/html": [
       "<div>\n",
       "<style scoped>\n",
       "    .dataframe tbody tr th:only-of-type {\n",
       "        vertical-align: middle;\n",
       "    }\n",
       "\n",
       "    .dataframe tbody tr th {\n",
       "        vertical-align: top;\n",
       "    }\n",
       "\n",
       "    .dataframe thead th {\n",
       "        text-align: right;\n",
       "    }\n",
       "</style>\n",
       "<table border=\"1\" class=\"dataframe\">\n",
       "  <thead>\n",
       "    <tr style=\"text-align: right;\">\n",
       "      <th></th>\n",
       "      <th>DateCrawled</th>\n",
       "      <th>Price</th>\n",
       "      <th>VehicleType</th>\n",
       "      <th>RegistrationYear</th>\n",
       "      <th>Gearbox</th>\n",
       "      <th>Power</th>\n",
       "      <th>Model</th>\n",
       "      <th>Mileage</th>\n",
       "      <th>RegistrationMonth</th>\n",
       "      <th>FuelType</th>\n",
       "      <th>...</th>\n",
       "      <th>smart</th>\n",
       "      <th>sonstige_autos</th>\n",
       "      <th>subaru</th>\n",
       "      <th>suzuki</th>\n",
       "      <th>toyota</th>\n",
       "      <th>trabant</th>\n",
       "      <th>volkswagen</th>\n",
       "      <th>volvo</th>\n",
       "      <th>no</th>\n",
       "      <th>yes</th>\n",
       "    </tr>\n",
       "  </thead>\n",
       "  <tbody>\n",
       "    <tr>\n",
       "      <td>0</td>\n",
       "      <td>24/03/2016 11:52</td>\n",
       "      <td>480</td>\n",
       "      <td>NaN</td>\n",
       "      <td>1993</td>\n",
       "      <td>manual</td>\n",
       "      <td>0</td>\n",
       "      <td>golf</td>\n",
       "      <td>150000</td>\n",
       "      <td>0</td>\n",
       "      <td>petrol</td>\n",
       "      <td>...</td>\n",
       "      <td>0</td>\n",
       "      <td>0</td>\n",
       "      <td>0</td>\n",
       "      <td>0</td>\n",
       "      <td>0</td>\n",
       "      <td>0</td>\n",
       "      <td>1</td>\n",
       "      <td>0</td>\n",
       "      <td>0</td>\n",
       "      <td>0</td>\n",
       "    </tr>\n",
       "    <tr>\n",
       "      <td>1</td>\n",
       "      <td>24/03/2016 10:58</td>\n",
       "      <td>18300</td>\n",
       "      <td>coupe</td>\n",
       "      <td>2011</td>\n",
       "      <td>manual</td>\n",
       "      <td>190</td>\n",
       "      <td>NaN</td>\n",
       "      <td>125000</td>\n",
       "      <td>5</td>\n",
       "      <td>gasoline</td>\n",
       "      <td>...</td>\n",
       "      <td>0</td>\n",
       "      <td>0</td>\n",
       "      <td>0</td>\n",
       "      <td>0</td>\n",
       "      <td>0</td>\n",
       "      <td>0</td>\n",
       "      <td>0</td>\n",
       "      <td>0</td>\n",
       "      <td>0</td>\n",
       "      <td>1</td>\n",
       "    </tr>\n",
       "    <tr>\n",
       "      <td>2</td>\n",
       "      <td>14/03/2016 12:52</td>\n",
       "      <td>9800</td>\n",
       "      <td>suv</td>\n",
       "      <td>2004</td>\n",
       "      <td>auto</td>\n",
       "      <td>163</td>\n",
       "      <td>grand</td>\n",
       "      <td>125000</td>\n",
       "      <td>8</td>\n",
       "      <td>gasoline</td>\n",
       "      <td>...</td>\n",
       "      <td>0</td>\n",
       "      <td>0</td>\n",
       "      <td>0</td>\n",
       "      <td>0</td>\n",
       "      <td>0</td>\n",
       "      <td>0</td>\n",
       "      <td>0</td>\n",
       "      <td>0</td>\n",
       "      <td>0</td>\n",
       "      <td>0</td>\n",
       "    </tr>\n",
       "    <tr>\n",
       "      <td>3</td>\n",
       "      <td>17/03/2016 16:54</td>\n",
       "      <td>1500</td>\n",
       "      <td>small</td>\n",
       "      <td>2001</td>\n",
       "      <td>manual</td>\n",
       "      <td>75</td>\n",
       "      <td>golf</td>\n",
       "      <td>150000</td>\n",
       "      <td>6</td>\n",
       "      <td>petrol</td>\n",
       "      <td>...</td>\n",
       "      <td>0</td>\n",
       "      <td>0</td>\n",
       "      <td>0</td>\n",
       "      <td>0</td>\n",
       "      <td>0</td>\n",
       "      <td>0</td>\n",
       "      <td>1</td>\n",
       "      <td>0</td>\n",
       "      <td>1</td>\n",
       "      <td>0</td>\n",
       "    </tr>\n",
       "    <tr>\n",
       "      <td>4</td>\n",
       "      <td>31/03/2016 17:25</td>\n",
       "      <td>3600</td>\n",
       "      <td>small</td>\n",
       "      <td>2008</td>\n",
       "      <td>manual</td>\n",
       "      <td>69</td>\n",
       "      <td>fabia</td>\n",
       "      <td>90000</td>\n",
       "      <td>7</td>\n",
       "      <td>gasoline</td>\n",
       "      <td>...</td>\n",
       "      <td>0</td>\n",
       "      <td>0</td>\n",
       "      <td>0</td>\n",
       "      <td>0</td>\n",
       "      <td>0</td>\n",
       "      <td>0</td>\n",
       "      <td>0</td>\n",
       "      <td>0</td>\n",
       "      <td>1</td>\n",
       "      <td>0</td>\n",
       "    </tr>\n",
       "  </tbody>\n",
       "</table>\n",
       "<p>5 rows × 75 columns</p>\n",
       "</div>"
      ],
      "text/plain": [
       "        DateCrawled  Price VehicleType  RegistrationYear Gearbox  Power  \\\n",
       "0  24/03/2016 11:52    480         NaN              1993  manual      0   \n",
       "1  24/03/2016 10:58  18300       coupe              2011  manual    190   \n",
       "2  14/03/2016 12:52   9800         suv              2004    auto    163   \n",
       "3  17/03/2016 16:54   1500       small              2001  manual     75   \n",
       "4  31/03/2016 17:25   3600       small              2008  manual     69   \n",
       "\n",
       "   Model  Mileage  RegistrationMonth  FuelType  ... smart sonstige_autos  \\\n",
       "0   golf   150000                  0    petrol  ...     0              0   \n",
       "1    NaN   125000                  5  gasoline  ...     0              0   \n",
       "2  grand   125000                  8  gasoline  ...     0              0   \n",
       "3   golf   150000                  6    petrol  ...     0              0   \n",
       "4  fabia    90000                  7  gasoline  ...     0              0   \n",
       "\n",
       "  subaru  suzuki  toyota trabant  volkswagen  volvo  no  yes  \n",
       "0      0       0       0       0           1      0   0    0  \n",
       "1      0       0       0       0           0      0   0    1  \n",
       "2      0       0       0       0           0      0   0    0  \n",
       "3      0       0       0       0           1      0   1    0  \n",
       "4      0       0       0       0           0      0   1    0  \n",
       "\n",
       "[5 rows x 75 columns]"
      ]
     },
     "metadata": {},
     "output_type": "display_data"
    }
   ],
   "source": [
    "display(df_ohe_5.head(5))"
   ]
  },
  {
   "cell_type": "code",
   "execution_count": 22,
   "metadata": {},
   "outputs": [
    {
     "name": "stdout",
     "output_type": "stream",
     "text": [
      "<class 'pandas.core.frame.DataFrame'>\n",
      "RangeIndex: 354369 entries, 0 to 354368\n",
      "Data columns (total 75 columns):\n",
      "DateCrawled          354369 non-null object\n",
      "Price                354369 non-null int64\n",
      "VehicleType          316879 non-null object\n",
      "RegistrationYear     354369 non-null int64\n",
      "Gearbox              334536 non-null object\n",
      "Power                354369 non-null int64\n",
      "Model                334664 non-null object\n",
      "Mileage              354369 non-null int64\n",
      "RegistrationMonth    354369 non-null int64\n",
      "FuelType             321474 non-null object\n",
      "Brand                354369 non-null object\n",
      "NotRepaired          283215 non-null object\n",
      "DateCreated          354369 non-null object\n",
      "NumberOfPictures     354369 non-null int64\n",
      "PostalCode           354369 non-null int64\n",
      "LastSeen             354369 non-null object\n",
      "bus                  354369 non-null uint8\n",
      "convertible          354369 non-null uint8\n",
      "coupe                354369 non-null uint8\n",
      "other                354369 non-null uint8\n",
      "sedan                354369 non-null uint8\n",
      "small                354369 non-null uint8\n",
      "suv                  354369 non-null uint8\n",
      "wagon                354369 non-null uint8\n",
      "auto                 354369 non-null uint8\n",
      "manual               354369 non-null uint8\n",
      "cng                  354369 non-null uint8\n",
      "electric             354369 non-null uint8\n",
      "gasoline             354369 non-null uint8\n",
      "hybrid               354369 non-null uint8\n",
      "lpg                  354369 non-null uint8\n",
      "other                354369 non-null uint8\n",
      "petrol               354369 non-null uint8\n",
      "alfa_romeo           354369 non-null uint8\n",
      "audi                 354369 non-null uint8\n",
      "bmw                  354369 non-null uint8\n",
      "chevrolet            354369 non-null uint8\n",
      "chrysler             354369 non-null uint8\n",
      "citroen              354369 non-null uint8\n",
      "dacia                354369 non-null uint8\n",
      "daewoo               354369 non-null uint8\n",
      "daihatsu             354369 non-null uint8\n",
      "fiat                 354369 non-null uint8\n",
      "ford                 354369 non-null uint8\n",
      "honda                354369 non-null uint8\n",
      "hyundai              354369 non-null uint8\n",
      "jaguar               354369 non-null uint8\n",
      "jeep                 354369 non-null uint8\n",
      "kia                  354369 non-null uint8\n",
      "lada                 354369 non-null uint8\n",
      "lancia               354369 non-null uint8\n",
      "land_rover           354369 non-null uint8\n",
      "mazda                354369 non-null uint8\n",
      "mercedes_benz        354369 non-null uint8\n",
      "mini                 354369 non-null uint8\n",
      "mitsubishi           354369 non-null uint8\n",
      "nissan               354369 non-null uint8\n",
      "opel                 354369 non-null uint8\n",
      "peugeot              354369 non-null uint8\n",
      "porsche              354369 non-null uint8\n",
      "renault              354369 non-null uint8\n",
      "rover                354369 non-null uint8\n",
      "saab                 354369 non-null uint8\n",
      "seat                 354369 non-null uint8\n",
      "skoda                354369 non-null uint8\n",
      "smart                354369 non-null uint8\n",
      "sonstige_autos       354369 non-null uint8\n",
      "subaru               354369 non-null uint8\n",
      "suzuki               354369 non-null uint8\n",
      "toyota               354369 non-null uint8\n",
      "trabant              354369 non-null uint8\n",
      "volkswagen           354369 non-null uint8\n",
      "volvo                354369 non-null uint8\n",
      "no                   354369 non-null uint8\n",
      "yes                  354369 non-null uint8\n",
      "dtypes: int64(7), object(9), uint8(59)\n",
      "memory usage: 63.2+ MB\n"
     ]
    }
   ],
   "source": [
    "df_ohe_5.info()"
   ]
  },
  {
   "cell_type": "code",
   "execution_count": 23,
   "metadata": {},
   "outputs": [],
   "source": [
    "#Split target and features\n",
    "target = df['Price']\n",
    "features = df.drop(['Price','DateCrawled','Model','DateCreated','LastSeen','VehicleType','Gearbox','FuelType','Brand','NotRepaired'], axis = 1)\n",
    "\n",
    "# Split into sets\n",
    "features_train, features_temp, target_train, target_temp = train_test_split(features, target, test_size=0.2,random_state=42)\n",
    "features_valid, features_test, target_valid, target_test = train_test_split(features_temp, target_temp, test_size=0.2,random_state=42)"
   ]
  },
  {
   "cell_type": "markdown",
   "metadata": {},
   "source": [
    "2 Model training"
   ]
  },
  {
   "cell_type": "markdown",
   "metadata": {},
   "source": [
    "Using the DecisionTree regressor."
   ]
  },
  {
   "cell_type": "code",
   "execution_count": 24,
   "metadata": {},
   "outputs": [
    {
     "name": "stdout",
     "output_type": "stream",
     "text": [
      "Depth = 1 : mse = 14514702.315988125\n",
      "Depth = 2 : mse = 11102661.63915938\n",
      "Depth = 3 : mse = 9375218.31992351\n",
      "Depth = 4 : mse = 7742559.939510886\n"
     ]
    }
   ],
   "source": [
    "for max_depth in range(1,5,1):\n",
    "        regressor = DecisionTreeRegressor(max_depth=max_depth, random_state = 54321)\n",
    "\n",
    "        regressor.fit(features_train,target_train)\n",
    "        predictions = regressor.predict(features_valid)\n",
    "        \n",
    "        mse = mean_squared_error(target_valid, predictions)\n",
    "        \n",
    "        print(\"Depth =\", max_depth, \": mse =\", mse)"
   ]
  },
  {
   "cell_type": "markdown",
   "metadata": {},
   "source": [
    "for max_depth in range(1,5,1):\n",
    "        regressor = DecisionTreeRegressor(max_depth=max_depth, random_state = 54321)\n",
    "\n",
    "        regressor.fit(features_train,target_train)\n",
    "        predictions = regressor.predict(features_valid)\n",
    "        \n",
    "        mse = mean_squared_error(target, predictions)\n",
    "        \n",
    "        print(\"n_estimators =\", max_depth, \": mse =\", mse)\n"
   ]
  },
  {
   "cell_type": "markdown",
   "metadata": {},
   "source": [
    "Using the Linear regressor."
   ]
  },
  {
   "cell_type": "code",
   "execution_count": 25,
   "metadata": {},
   "outputs": [
    {
     "name": "stdout",
     "output_type": "stream",
     "text": [
      "MSE = 20676713.4465188\n"
     ]
    }
   ],
   "source": [
    "regressor = LinearRegression()\n",
    "\n",
    "predictions = pd.Series(target_valid.mean(), index=target_valid.index)\n",
    "linear_mse = mean_squared_error(target_valid, predictions)\n",
    "\n",
    "regressor.fit(features_train,target_train)\n",
    "\n",
    "print(\"MSE =\", linear_mse)\n"
   ]
  },
  {
   "cell_type": "markdown",
   "metadata": {},
   "source": [
    "Using the RandomForest regressor."
   ]
  },
  {
   "cell_type": "code",
   "execution_count": 26,
   "metadata": {},
   "outputs": [
    {
     "name": "stdout",
     "output_type": "stream",
     "text": [
      "n_estimators = 5  :max_depth = 1  :rmse = 3809.817366211501\n",
      "n_estimators = 5  :max_depth = 2  :rmse = 3298.6432443072863\n",
      "n_estimators = 5  :max_depth = 3  :rmse = 3010.1240400273887\n",
      "n_estimators = 5  :max_depth = 4  :rmse = 2741.7407061712443\n",
      "n_estimators = 5  :max_depth = 5  :rmse = 2554.038414549346\n",
      "n_estimators = 5  :max_depth = 6  :rmse = 2448.242506196709\n",
      "n_estimators = 5  :max_depth = 7  :rmse = 2348.6154818463706\n",
      "n_estimators = 5  :max_depth = 8  :rmse = 2291.8255016811777\n",
      "n_estimators = 5  :max_depth = 9  :rmse = 2253.1288313365403\n",
      "n_estimators = 5  :max_depth = 10  :rmse = 2230.6478692053406\n",
      "n_estimators = 5  :max_depth = 11  :rmse = 2215.9310939359357\n",
      "n_estimators = 5  :max_depth = 12  :rmse = 2207.237124564558\n",
      "n_estimators = 5  :max_depth = 13  :rmse = 2206.5540018782212\n",
      "n_estimators = 5  :max_depth = 14  :rmse = 2208.700795898802\n",
      "n_estimators = 10  :max_depth = 1  :rmse = 3809.7826878417336\n",
      "n_estimators = 10  :max_depth = 2  :rmse = 3310.860335563865\n",
      "n_estimators = 10  :max_depth = 3  :rmse = 3011.2520392149077\n",
      "n_estimators = 10  :max_depth = 4  :rmse = 2738.6695650802644\n",
      "n_estimators = 10  :max_depth = 5  :rmse = 2549.4777649160283\n",
      "n_estimators = 10  :max_depth = 6  :rmse = 2445.114030831635\n",
      "n_estimators = 10  :max_depth = 7  :rmse = 2343.810251207939\n",
      "n_estimators = 10  :max_depth = 8  :rmse = 2286.9081658179402\n",
      "n_estimators = 10  :max_depth = 9  :rmse = 2247.5179975297538\n",
      "n_estimators = 10  :max_depth = 10  :rmse = 2224.197064839661\n",
      "n_estimators = 10  :max_depth = 11  :rmse = 2206.1178437900335\n",
      "n_estimators = 10  :max_depth = 12  :rmse = 2192.834429172579\n",
      "n_estimators = 10  :max_depth = 13  :rmse = 2186.3212564808064\n",
      "n_estimators = 10  :max_depth = 14  :rmse = 2181.5197226687296\n",
      "n_estimators = 15  :max_depth = 1  :rmse = 3809.754944040266\n",
      "n_estimators = 15  :max_depth = 2  :rmse = 3317.3547797044143\n",
      "n_estimators = 15  :max_depth = 3  :rmse = 3020.979012246651\n",
      "n_estimators = 15  :max_depth = 4  :rmse = 2748.6583314708278\n",
      "n_estimators = 15  :max_depth = 5  :rmse = 2552.707168473652\n",
      "n_estimators = 15  :max_depth = 6  :rmse = 2446.2812054396586\n",
      "n_estimators = 15  :max_depth = 7  :rmse = 2343.977428156973\n",
      "n_estimators = 15  :max_depth = 8  :rmse = 2286.721680881622\n",
      "n_estimators = 15  :max_depth = 9  :rmse = 2247.940004937994\n",
      "n_estimators = 15  :max_depth = 10  :rmse = 2222.9408339838897\n",
      "n_estimators = 15  :max_depth = 11  :rmse = 2204.4693257874014\n",
      "n_estimators = 15  :max_depth = 12  :rmse = 2189.5508622189286\n",
      "n_estimators = 15  :max_depth = 13  :rmse = 2178.1670253333796\n",
      "n_estimators = 15  :max_depth = 14  :rmse = 2171.2716707504865\n"
     ]
    }
   ],
   "source": [
    "for estim in range(5,16,5):\n",
    "       for depth in range(1,15,1):\n",
    "\n",
    "                model = RandomForestRegressor(n_estimators=estim,max_depth=depth, random_state=54321)\n",
    "\n",
    "                predictions = pd.Series(target_valid.mean(), index=target_valid.index)\n",
    "                mse = mean_squared_error(target_valid, predictions)\n",
    "\n",
    "                model.fit(features_train,target_train)\n",
    "                predictions_train = model.predict(features_train)\n",
    "                predictions_valid = model.predict(features_valid)\n",
    "                predictions_test = model.predict(features_test)\n",
    "                mse_train = mean_squared_error(target_train, predictions_train)\n",
    "                mse_valid = mean_squared_error(target_valid, predictions_valid)\n",
    "                mse_test = mean_squared_error(target_test, predictions_test)\n",
    "\n",
    "                rmse = mean_squared_error(target_valid, predictions_valid)**0.5\n",
    "                \n",
    "                print(\"n_estimators =\", estim, \" :max_depth =\",depth, \" :rmse =\", rmse) \n",
    "        "
   ]
  },
  {
   "cell_type": "markdown",
   "metadata": {},
   "source": [
    "Using LightGBM for gradient Boosting."
   ]
  },
  {
   "cell_type": "code",
   "execution_count": 27,
   "metadata": {},
   "outputs": [],
   "source": [
    "from catboost import CatBoostRegressor"
   ]
  },
  {
   "cell_type": "code",
   "execution_count": 28,
   "metadata": {},
   "outputs": [
    {
     "data": {
      "text/plain": [
       "LGBMRegressor(boosting_type='gbdt', class_weight=None, colsample_bytree=1.0,\n",
       "              importance_type='split', iterations=50, learning_rate=0.1,\n",
       "              loss_function='Logloss', max_depth=-1, min_child_samples=20,\n",
       "              min_child_weight=0.001, min_split_gain=0.0, n_estimators=100,\n",
       "              n_jobs=-1, num_leaves=31, objective=None, random_seed=12345,\n",
       "              random_state=None, reg_alpha=0.0, reg_lambda=0.0, silent=True,\n",
       "              subsample=1.0, subsample_for_bin=200000, subsample_freq=0)"
      ]
     },
     "execution_count": 28,
     "metadata": {},
     "output_type": "execute_result"
    }
   ],
   "source": [
    "model_lgbm = LGBMRegressor(loss_function=\"Logloss\", iterations=50, random_seed=12345)\n",
    "\n",
    "model_lgbm.fit(features_train, target_train, verbose=20)\n",
    "\n",
    "#model_lgbm = LGBMRegressor(target_test, label=features_test)\n",
    "#print(model_lgbm)"
   ]
  },
  {
   "cell_type": "code",
   "execution_count": 29,
   "metadata": {},
   "outputs": [
    {
     "name": "stdout",
     "output_type": "stream",
     "text": [
      "0:\tlearn: 4422.5599769\ttotal: 202ms\tremaining: 9.92s\n",
      "20:\tlearn: 3264.5968932\ttotal: 4.08s\tremaining: 5.63s\n",
      "40:\tlearn: 2745.5028503\ttotal: 7.87s\tremaining: 1.73s\n",
      "49:\tlearn: 2618.4053967\ttotal: 9.56s\tremaining: 0us\n"
     ]
    },
    {
     "data": {
      "text/plain": [
       "<catboost.core.CatBoostRegressor at 0x7f709b99cb90>"
      ]
     },
     "execution_count": 29,
     "metadata": {},
     "output_type": "execute_result"
    }
   ],
   "source": [
    "model_cat = CatBoostRegressor(iterations=50, random_seed=12345)\n",
    "\n",
    "model_cat.fit(features_train, target_train, verbose=20)"
   ]
  },
  {
   "cell_type": "code",
   "execution_count": 30,
   "metadata": {},
   "outputs": [],
   "source": [
    "import time\n",
    "def exec_time(start, end):\n",
    "   diff_time = end - start\n",
    "   m, s = divmod(diff_time, 60)\n",
    "   h, m = divmod(m, 60)\n",
    "   s,m,h = int(round(s, 0)), int(round(m, 0)), int(round(h, 0))\n",
    "   print(\"Execution Time: \" + \"{0:02d}:{1:02d}:{2:02d}\".format(h, m, s))"
   ]
  },
  {
   "cell_type": "code",
   "execution_count": 31,
   "metadata": {},
   "outputs": [
    {
     "name": "stdout",
     "output_type": "stream",
     "text": [
      "Execution Time: 00:00:00\n",
      "<function exec_time at 0x7f70990a4f80>\n"
     ]
    }
   ],
   "source": [
    "start = time.time()\n",
    "end = time.time()\n",
    "exec_time(start, end)\n",
    "\n",
    "print(exec_time)"
   ]
  },
  {
   "cell_type": "code",
   "execution_count": 38,
   "metadata": {},
   "outputs": [
    {
     "name": "stdout",
     "output_type": "stream",
     "text": [
      "Execution Time: 00:00:10\n",
      "Execution Time: 00:00:00\n"
     ]
    }
   ],
   "source": [
    "#model = CatBoostRegressor(iterations=50, random_seed=12345)\n",
    "model = RandomForestRegressor(n_estimators=estim,max_depth=depth, random_state=54321)\n",
    "\n",
    "# model training time\n",
    "start = time.time()\n",
    "model.fit(features_train, target_train)\n",
    "end = time.time()\n",
    "\n",
    "training_time = exec_time(start, end)\n",
    "\n",
    "#######################################\n",
    "\n",
    "# model predicting time:\n",
    "\n",
    "start = time.time()\n",
    "model.predict(features_valid)\n",
    "end = time.time()\n",
    "\n",
    "predicting_time = exec_time(start, end)"
   ]
  },
  {
   "cell_type": "markdown",
   "metadata": {},
   "source": [
    "The execution time using the randomforest model is 10seconds. This shows the wpeed of the model."
   ]
  },
  {
   "cell_type": "code",
   "execution_count": null,
   "metadata": {},
   "outputs": [],
   "source": [
    "model = ...\n",
    "\n",
    "# model training time\n",
    "start = time.time()\n",
    "model.fit(..)\n",
    "end = time.time()\n",
    "\n",
    "training_time = exec_time(start, end)\n",
    "\n",
    "#######################################\n",
    "\n",
    "# model predicting time:\n",
    "\n",
    "start = time.time()\n",
    "model.predict(...)\n",
    "end = time.time()\n",
    "\n",
    "predicting_time = exec_time(start, end)"
   ]
  },
  {
   "cell_type": "markdown",
   "metadata": {},
   "source": [
    "## Model analysis"
   ]
  },
  {
   "cell_type": "code",
   "execution_count": 44,
   "metadata": {},
   "outputs": [
    {
     "name": "stdout",
     "output_type": "stream",
     "text": [
      "The Quality\n",
      "Training set: 1854.6836261235856\n",
      "Test set: 2208.197025263618\n"
     ]
    }
   ],
   "source": [
    "final_model = RandomForestRegressor(n_estimators=5, random_state=54321, max_depth=1)\n",
    "final_model.fit(features_train, target_train)\n",
    "\n",
    "\n",
    "rmse = mean_squared_error(target_train, predictions_train)**0.5\n",
    "test_rmse = mean_squared_error(target_test, predictions_test)**0.5\n",
    "\n",
    "print(\"The Quality\")\n",
    "print(\"Training set:\", rmse)\n",
    "print(\"Test set:\", test_rmse)"
   ]
  },
  {
   "cell_type": "markdown",
   "metadata": {},
   "source": [
    "General Conclusion: The rmse is higher with the testing set than training set. So the quality of the model is good."
   ]
  },
  {
   "cell_type": "markdown",
   "metadata": {},
   "source": [
    "# Checklist"
   ]
  },
  {
   "cell_type": "markdown",
   "metadata": {},
   "source": [
    "Type 'x' to check. Then press Shift+Enter."
   ]
  },
  {
   "cell_type": "markdown",
   "metadata": {},
   "source": [
    "- [x]  Jupyter Notebook is open\n",
    "- [ ]  Code is error free\n",
    "- [ ]  The cells with the code have been arranged in order of execution\n",
    "- [ ]  The data has been downloaded and prepared\n",
    "- [ ]  The models have been trained\n",
    "- [ ]  The analysis of speed and quality of the models has been performed"
   ]
  },
  {
   "cell_type": "code",
   "execution_count": null,
   "metadata": {},
   "outputs": [],
   "source": []
  }
 ],
 "metadata": {
  "kernelspec": {
   "display_name": "Python 3",
   "language": "python",
   "name": "python3"
  },
  "language_info": {
   "codemirror_mode": {
    "name": "ipython",
    "version": 3
   },
   "file_extension": ".py",
   "mimetype": "text/x-python",
   "name": "python",
   "nbconvert_exporter": "python",
   "pygments_lexer": "ipython3",
   "version": "3.8.5"
  },
  "toc": {
   "base_numbering": 1,
   "nav_menu": {},
   "number_sections": true,
   "sideBar": true,
   "skip_h1_title": true,
   "title_cell": "Table of Contents",
   "title_sidebar": "Contents",
   "toc_cell": false,
   "toc_position": {},
   "toc_section_display": true,
   "toc_window_display": false
  }
 },
 "nbformat": 4,
 "nbformat_minor": 4
}
