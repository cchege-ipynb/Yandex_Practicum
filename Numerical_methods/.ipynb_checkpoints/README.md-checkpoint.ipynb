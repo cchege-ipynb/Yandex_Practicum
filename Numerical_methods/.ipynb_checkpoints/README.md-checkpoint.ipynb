{
 "cells": [
  {
   "cell_type": "markdown",
   "metadata": {},
   "source": [
    "## Developing an app to attract new customers to a  Used Car Sales Service"
   ]
  },
  {
   "cell_type": "markdown",
   "metadata": {},
   "source": [
    "**This Project shows;**\n",
    "- ability to prepare the data\n",
    "- ability to consider different models and hyperparameters\n",
    "- ability to avoid code duplication\n",
    "- ability to describe the findings\n",
    "- ability to keep to the project structure and  keep the code neat"
   ]
  },
  {
   "cell_type": "markdown",
   "metadata": {},
   "source": [
    "**The Project involves:**\n",
    "- Training different models with various hyperparameters (considering that various implementations of gradient boosting don't count as different models.) The main point of this step is to compare gradient boosting methods with random forest, decision tree, and linear regression.\n",
    "- Analyzing the following;\n",
    "     - the quality of the prediction\n",
    "     - the speed of the prediction\n",
    "     - the time required for training                                                    "
   ]
  },
  {
   "cell_type": "markdown",
   "metadata": {},
   "source": [
    "## Data description\n",
    "### Features\n",
    "*DateCrawled* — date profile was downloaded from the database\\\n",
    "*VehicleType* — vehicle body type\\\n",
    "*RegistrationYear* — vehicle registration year\\\n",
    "*Gearbox* — gearbox type\\\n",
    "*Power* — power (hp)\\\n",
    "*Model* — vehicle model\\\n",
    "*Mileage* — mileage (measured in km due to dataset's regional specifics)\\\n",
    "*RegistrationMonth* — vehicle registration month\\\n",
    "*FuelType* — fuel type\\\n",
    "*Brand* — vehicle brand\\\n",
    "*NotRepaired* — vehicle repaired or not\\\n",
    "*DateCreated* — date of profile creation\\\n",
    "*NumberOfPictures* — number of vehicle pictures\\\n",
    "*PostalCode* — postal code of profile owner (user)\\\n",
    "*LastSeen* — date of the last activity of the user\n",
    "### Target\n",
    "*Price* — price (Euro)"
   ]
  },
  {
   "cell_type": "markdown",
   "metadata": {},
   "source": [
    "## Task\n",
    "Rusty Bargain used car sales service is developing an app to attract new customers. In that app, one can quickly find out the market value of a car. With access to historical data: technical specifications, trim versions, and prices. We need to build the model to determine the value considering the quality, speed and time taken to train the model"
   ]
  },
  {
   "cell_type": "markdown",
   "metadata": {},
   "source": [
    "## Libraries Used\n",
    "_pandas, numpy, matplotlib, scipy, sklearn.model_selection, sklearn.linear_model, sklearn.tree, sklearn.ensemble, sklearn.metrics, sklearn.datasets, lightgbm, catboost_"
   ]
  }
 ],
 "metadata": {
  "kernelspec": {
   "display_name": "Python 3",
   "language": "python",
   "name": "python3"
  },
  "language_info": {
   "codemirror_mode": {
    "name": "ipython",
    "version": 3
   },
   "file_extension": ".py",
   "mimetype": "text/x-python",
   "name": "python",
   "nbconvert_exporter": "python",
   "pygments_lexer": "ipython3",
   "version": "3.8.5"
  }
 },
 "nbformat": 4,
 "nbformat_minor": 4
}
